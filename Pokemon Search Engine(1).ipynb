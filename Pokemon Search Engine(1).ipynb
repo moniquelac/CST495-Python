{
 "cells": [
  {
   "cell_type": "markdown",
   "metadata": {},
   "source": [
    "<img src=\"http://stech2.firstpost.com/tech2images/640x359/proportional/jpeg/2016/07/Pokemon-GO-Tech2-720-624x351.jpg\" style=\"width:450px;height:220px;\">\n",
    "\n",
    "# Pokemon Project - CST495\n",
    "By: Monique La Croix & Sonali Bharat\n",
    "\n",
    "Here we work with a data set from Kaggle. We wanted to create a search engine that used characters from Pokemon. The data contains name, type1, and type2. We still ended up with some issues regarding the Inverted Index, TF-IDF, and minor other ones. With more time, we would have changed the database where it has image URL to Pokemon description.\n",
    "\n",
    "First we load the data file and _normalise_ the text - removing certain characters and converting to lower case.  \n"
   ]
  },
  {
   "cell_type": "code",
   "execution_count": 7,
   "metadata": {
    "collapsed": false
   },
   "outputs": [
    {
     "name": "stdout",
     "output_type": "stream",
     "text": [
      "('ivysaur', 'grass', 'poison', '')\n"
     ]
    }
   ],
   "source": [
    "import csv\n",
    "import re\n",
    "\n",
    "with open(\"data/pokemonData.txt\") as f:\n",
    "    r = csv.reader(f, delimiter=',', quotechar='\"')\n",
    "    rgx = re.compile(r'\\b[a-zA-Z]+\\b') \n",
    "    docs = [ (' '.join(re.findall(rgx, x[0])).lower(), ' '.join(re.findall(rgx, x[1])).lower(), ' '.join(re.findall(rgx, x[2])).lower(), \n",
    "             ' '.join(re.findall(rgx, x[3])).lower(), ' '.join(re.findall(rgx, x[4])).lower(), ' '.join(re.findall(rgx, x[5])).lower(),\n",
    "             ' '.join(re.findall(rgx, x[5])).lower())  \n",
    "            for i,x in enumerate(r) if i > 1 ]\n",
    "# //Pokemon No.,Name,Type 1,Type 2,Max CP,Max HP,Image URL   \n",
    "print(docs[0][1], docs[0][2], docs[0][3], docs[0][4])\n",
    "\n",
    "# items_t = [ d[0] for d in docs ] # num\n",
    "\n",
    "items_d = [ [d][1] for d in docs ] # name\n",
    "items_t2 = [ d[2] for d in docs ] #type1\n",
    "items_t3 = [ d[3] for d in docs ] #type2\n",
    "items_t4 = [ d[4] for d in docs ] #max CP\n",
    "# items_t5 = [ d[5] for d in docs ] #max HP\n",
    "# items_t6 = [ d[6] for d in docs ] #image URL\n",
    "\n",
    "# print (\"test\")\n",
    "\n",
    "items_i = range(0, len(items_t2)) # num\n"
   ]
  },
  {
   "cell_type": "markdown",
   "metadata": {},
   "source": [
    "## Term Frequency\n"
   ]
  },
  {
   "cell_type": "code",
   "execution_count": 101,
   "metadata": {
    "collapsed": false
   },
   "outputs": [
    {
     "name": "stdout",
     "output_type": "stream",
     "text": [
      "['grass', 'grass', 'fire', 'fire', 'fire', 'water', 'water', 'water', 'bug', 'bug', 'bug', 'bug', 'bug', 'bug', 'normal', 'normal', 'normal', 'normal', 'normal', 'normal', 'normal', 'poison', 'poison', 'electric', 'electric', 'ground', 'ground', 'poison', 'poison', 'poison', 'poison', 'poison', 'poison', 'fairy', 'fairy', 'fire', 'fire', 'normal', 'normal', 'poison', 'poison', 'grass', 'grass', 'grass', 'bug', 'bug', 'bug', 'bug', 'ground', 'ground', 'normal', 'normal', 'water', 'water', 'fighting', 'fighting', 'fire', 'fire', 'water', 'water', 'water', 'psychic', 'psychic', 'psychic', 'fighting', 'fighting', 'fighting', 'grass', 'grass', 'grass', 'water', 'water', 'rock', 'rock', 'rock', 'fire', 'fire', 'water', 'water', 'electric', 'electric', 'normal', 'normal', 'normal', 'water', 'water', 'poison', 'poison', 'water', 'water', 'ghost', 'ghost', 'ghost', 'rock', 'psychic', 'psychic', 'water', 'water', 'electric', 'electric', 'grass', 'grass', 'ground', 'ground', 'fighting', 'fighting', 'normal', 'poison', 'poison', 'ground', 'ground', 'normal', 'grass', 'normal', 'water', 'water', 'water', 'water', 'water', 'water', 'psychic', 'bug', 'ice', 'electric', 'fire', 'bug', 'normal', 'water', 'water', 'water', 'normal', 'normal', 'water', 'electric', 'fire', 'normal', 'rock', 'rock', 'rock', 'rock', 'rock', 'normal', 'ice', 'electric', 'fire', 'dragon', 'dragon', 'dragon', 'psychic', 'psychic']\n"
     ]
    }
   ],
   "source": [
    "corpus = items_t2[0:151]\n",
    "print(corpus)"
   ]
  },
  {
   "cell_type": "markdown",
   "metadata": {},
   "source": [
    "We started by computing the frequency of terms in the *entire* corpus. We built a python dictionary where the key is the token and the value is the count.\n",
    "\n",
    "Here is part of where we computed term frequency.  "
   ]
  },
  {
   "cell_type": "code",
   "execution_count": 148,
   "metadata": {
    "collapsed": false
   },
   "outputs": [
    {
     "name": "stdout",
     "output_type": "stream",
     "text": [
      "{'ghost': 3, 'ice': 2, 'electric': 9, 'normal': 22, 'fire': 12, 'psychic': 8, 'poison': 14, 'dragon': 3, 'water': 28, 'fighting': 7, 'rock': 9, 'fairy': 2, 'grass': 11, 'bug': 12, 'ground': 8}\n"
     ]
    }
   ],
   "source": [
    "tf = {}\n",
    "for doc in corpus:\n",
    "    for word in doc.split():\n",
    "        if word in tf:\n",
    "            tf[word] += 1\n",
    "        else:\n",
    "            tf[word] = 1        \n",
    "\n",
    "print(tf)"
   ]
  },
  {
   "cell_type": "markdown",
   "metadata": {},
   "source": [
    "This function definition computes term frequency using the `Counter`."
   ]
  },
  {
   "cell_type": "code",
   "execution_count": 147,
   "metadata": {
    "collapsed": false
   },
   "outputs": [
    {
     "name": "stdout",
     "output_type": "stream",
     "text": [
      "Counter({'water': 28, 'normal': 22, 'poison': 14, 'fire': 12, 'bug': 12, 'grass': 11, 'electric': 9, 'rock': 9, 'psychic': 8, 'ground': 8, 'fighting': 7, 'ghost': 3, 'dragon': 3, 'ice': 2, 'fairy': 2})\n"
     ]
    }
   ],
   "source": [
    "from collections import Counter\n",
    "\n",
    "def get_tf(corpus):\n",
    "    tf = Counter()\n",
    "    for doc in corpus:\n",
    "        for word in doc.split():\n",
    "            if word in tf:\n",
    "                tf[word] = tf[word] + 1\n",
    "            else:\n",
    "                tf[word] = 1\n",
    "            \n",
    "            \n",
    "    return tf\n",
    "\n",
    "tf = get_tf(corpus)\n",
    "print(tf)"
   ]
  },
  {
   "cell_type": "markdown",
   "metadata": {},
   "source": [
    " \n",
    "We used the Jupyter Notebook [magics](http://nbviewer.jupyter.org/github/ipython/ipython/blob/1.x/examples/notebooks/Cell%20Magics.ipynb) to time the execution."
   ]
  },
  {
   "cell_type": "code",
   "execution_count": 44,
   "metadata": {
    "collapsed": false
   },
   "outputs": [
    {
     "name": "stdout",
     "output_type": "stream",
     "text": [
      "The slowest run took 5.40 times longer than the fastest. This could mean that an intermediate result is being cached \n",
      "1000 loops, best of 3: 534 µs per loop\n"
     ]
    }
   ],
   "source": [
    "%%timeit \n",
    "tf = get_tf(corpus)"
   ]
  },
  {
   "cell_type": "markdown",
   "metadata": {},
   "source": [
    "We used the function `get_tf()` to compute term frequency for the across the large corpus of type1 in the list `items_t`.      \n",
    "We found out the frequency of the term 'Grass'."
   ]
  },
  {
   "cell_type": "code",
   "execution_count": 48,
   "metadata": {
    "collapsed": false
   },
   "outputs": [
    {
     "name": "stdout",
     "output_type": "stream",
     "text": [
      "0\n"
     ]
    }
   ],
   "source": [
    "## HIDE\n",
    "tf = get_tf(items_t2)\n",
    "print(tf['Grass'])\n",
    "## HIDE"
   ]
  },
  {
   "cell_type": "markdown",
   "metadata": {},
   "source": [
    "## Document Term Frequency\n",
    "\n",
    "<img src=\"http://shirtigo.co/wp-content/uploads/2014/01/fourelements.jpg\" style=\"width:390px;height:220px;\">\n",
    "\n",
    "So far we have computed the term frequency across the entire corpus.  The term frequency could also be computed for each document. \n",
    "\n",
    "We stored the document term frequency in a dictionary, where the key is the document id and the value is the a nested dictionary of document terms and their counts.\n",
    "\n",
    "For example consider this corpus:\n",
    "\n",
    "1. 'Grass'\n",
    "2. 'Fire'\n",
    "3. 'Water'\n",
    "4. 'Bug'\n",
    "5. 'Normal' \n",
    "6. 'Poison'\n",
    "7. 'Electric'\n",
    "8. 'Ground'\n",
    "9. 'Fairy'\n",
    "10. 'Fighting'\n",
    "11. 'Psychic'\n",
    "12. 'Rock'\n",
    "13. 'Ghost'\n",
    "14. 'Ice'\n",
    "15. 'Dragon'\n",
    "\n",
    "We completed the function definintion `get_tf()` to compute the **document term frequencies** for a single document.  This function is then called once per document in the corpus by the function `get_df()`.  "
   ]
  },
  {
   "cell_type": "code",
   "execution_count": 149,
   "metadata": {
    "collapsed": false
   },
   "outputs": [
    {
     "data": {
      "text/plain": [
       "Counter({'fire': 1})"
      ]
     },
     "execution_count": 149,
     "metadata": {},
     "output_type": "execute_result"
    }
   ],
   "source": [
    "import collections\n",
    "\n",
    "def get_tf(document):\n",
    "    tf = Counter()\n",
    "    ## HIDE\n",
    "    for word in document.split():\n",
    "        tf[word] += 1\n",
    "    ## HIDE\n",
    "    return tf\n",
    "\n",
    "def get_dtf(corpus):\n",
    "    dtf = {}\n",
    "    for i,doc in enumerate(corpus):\n",
    "        dtf[i]=get_tf(doc)\n",
    "    return dtf\n",
    "            \n",
    "    \n",
    "dtf = get_dtf(items_t2)\n",
    "dtf[4]"
   ]
  },
  {
   "cell_type": "markdown",
   "metadata": {},
   "source": [
    "<img src=\"https://boost-rankedboost.netdna-ssl.com/wp-content/uploads/2016/07/PokeBall.png\" style=\"float:right;width:140px;height:140px;\">\n",
    "\n",
    "## Term Frequency Matrix\n",
    "\n",
    "Whilst the document term frequency dictionary in the previous section `tfd` is a compact way to store the term frequency it is not efficient for analysis.  A term frequency matrix is a more effective way to store the data if we wish to perform analysis - such as compare or rank documents. \n",
    "\n",
    "For example consider this corpus:\n",
    "\n",
    "1. 'Grass'\n",
    "2. 'Fire'\n",
    "3. 'Water'\n",
    "4. 'Bug'\n",
    "5. 'Normal' \n",
    "6. 'Poison'\n",
    "7. 'Electric'\n",
    "8. 'Ground'\n",
    "9. 'Fairy'\n",
    "10. 'Fighting'\n",
    "11. 'Psychic'\n",
    "12. 'Rock'\n",
    "13. 'Ghost'\n",
    "14. 'Ice'\n",
    "15. 'Dragon'\n",
    "\n",
    "There is a total vocabulary of 15 terms.\n",
    "\n",
    "Those arrays can be stacked naturally into a matrix - one row per document, one column per term.  We call this matrix the term frequency matrix.\n",
    "\n",
    "To compute the term frequency matrix we have to first compute the lexicon (set of terms) in our corpus."
   ]
  },
  {
   "cell_type": "code",
   "execution_count": 146,
   "metadata": {
    "collapsed": false
   },
   "outputs": [
    {
     "name": "stdout",
     "output_type": "stream",
     "text": [
      "set(['Ghost', 'Electric', 'Ice', 'Normal', 'Fire', 'Psychic', 'Poison', 'Dragon', 'Water', 'Fighting', 'Rock', 'Fairy', 'Grass', 'Bug', 'Ground'])\n"
     ]
    }
   ],
   "source": [
    "s = set()\n",
    "s.add('Grass')\n",
    "s.add('Fire')\n",
    "s.add('Water')\n",
    "s.add('Bug')\n",
    "s.add('Normal')\n",
    "s.add('Poison')\n",
    "s.add('Electric')\n",
    "s.add('Ground')\n",
    "s.add('Fairy')\n",
    "s.add('Fighting')\n",
    "s.add('Psychic')\n",
    "s.add('Rock')\n",
    "s.add('Ghost')\n",
    "s.add('Ice')\n",
    "s.add('Dragon')\n",
    "print s"
   ]
  },
  {
   "cell_type": "markdown",
   "metadata": {},
   "source": [
    "Here is the `get_lexicon()` function definition so that it returns a list of unique terms for a given corpus of documents."
   ]
  },
  {
   "cell_type": "code",
   "execution_count": 150,
   "metadata": {
    "collapsed": false
   },
   "outputs": [
    {
     "name": "stdout",
     "output_type": "stream",
     "text": [
      "['Psychic', 'Grass', 'Rock']\n"
     ]
    }
   ],
   "source": [
    "def get_lexicon(corpus):\n",
    "    lexicon = set()\n",
    "   \n",
    "    for doc in corpus:\n",
    "            lexicon.update(word for word in doc.split())\n",
    "    \n",
    "    return list(lexicon)\n",
    "    \n",
    "test_corpus = ['Grass','Rock','Psychic']\n",
    "lexicon = get_lexicon(test_corpus)\n",
    "print lexicon"
   ]
  },
  {
   "cell_type": "markdown",
   "metadata": {},
   "source": [
    "Next we computed a term frequency matrix - the term frequency matrix has one row per document in our corpus and one column per term in our lexicon.   \n",
    "\n",
    "The function definition below computes the term frequency matrix for a corpus of documents. "
   ]
  },
  {
   "cell_type": "code",
   "execution_count": 151,
   "metadata": {
    "collapsed": false
   },
   "outputs": [
    {
     "name": "stdout",
     "output_type": "stream",
     "text": [
      "['Psychic', 'Grass', 'Rock']\n",
      "[[0, 1, 0], [0, 0, 1], [1, 0, 0]]\n"
     ]
    }
   ],
   "source": [
    "def get_tfm(corpus):\n",
    "    \n",
    "    def get_lexicon(corpus):\n",
    "        lexicon = set()\n",
    "        for doc in corpus:\n",
    "            lexicon.update([word for word in doc.split()])\n",
    "        return list(lexicon)\n",
    "        \n",
    "    lexicon = get_lexicon(corpus)\n",
    "\n",
    "    tfm =[]\n",
    "    for doc in corpus:\n",
    "        tfv = [0]*len(lexicon)\n",
    "        for term in doc.split():\n",
    "            tfv[lexicon.index(term)] += 1\n",
    "            \n",
    "        tfm.append(tfv)\n",
    "        \n",
    "    return tfm, lexicon\n",
    "\n",
    "\n",
    "test_corpus = ['Grass','Rock','Psychic']\n",
    "tfm, lexicon = get_tfm(test_corpus)\n",
    "print(lexicon)\n",
    "print(tfm)"
   ]
  },
  {
   "cell_type": "markdown",
   "metadata": {},
   "source": [
    "### Sparsity of term frequency matrix\n",
    "\n",
    "As our corpus increases so does the sparsity of the term frequency matrix - most elements have value zero.  \n",
    "We used more efficient [sparse matrix](https://en.wikipedia.org/wiki/Sparse_matrix) storage to save memory."
   ]
  },
  {
   "cell_type": "code",
   "execution_count": 59,
   "metadata": {
    "collapsed": false
   },
   "outputs": [
    {
     "data": {
      "text/html": [
       "\n",
       "\n",
       "    <script type=\"text/javascript\">\n",
       "      \n",
       "      (function(global) {\n",
       "        function now() {\n",
       "          return new Date();\n",
       "        }\n",
       "      \n",
       "        if (typeof (window._bokeh_onload_callbacks) === \"undefined\") {\n",
       "          window._bokeh_onload_callbacks = [];\n",
       "        }\n",
       "      \n",
       "        function run_callbacks() {\n",
       "          window._bokeh_onload_callbacks.forEach(function(callback) { callback() });\n",
       "          delete window._bokeh_onload_callbacks\n",
       "          console.info(\"Bokeh: all callbacks have finished\");\n",
       "        }\n",
       "      \n",
       "        function load_libs(js_urls, callback) {\n",
       "          window._bokeh_onload_callbacks.push(callback);\n",
       "          if (window._bokeh_is_loading > 0) {\n",
       "            console.log(\"Bokeh: BokehJS is being loaded, scheduling callback at\", now());\n",
       "            return null;\n",
       "          }\n",
       "          if (js_urls == null || js_urls.length === 0) {\n",
       "            run_callbacks();\n",
       "            return null;\n",
       "          }\n",
       "          console.log(\"Bokeh: BokehJS not loaded, scheduling load and callback at\", now());\n",
       "          window._bokeh_is_loading = js_urls.length;\n",
       "          for (var i = 0; i < js_urls.length; i++) {\n",
       "            var url = js_urls[i];\n",
       "            var s = document.createElement('script');\n",
       "            s.src = url;\n",
       "            s.async = false;\n",
       "            s.onreadystatechange = s.onload = function() {\n",
       "              window._bokeh_is_loading--;\n",
       "              if (window._bokeh_is_loading === 0) {\n",
       "                console.log(\"Bokeh: all BokehJS libraries loaded\");\n",
       "                run_callbacks()\n",
       "              }\n",
       "            };\n",
       "            s.onerror = function() {\n",
       "              console.warn(\"failed to load library \" + url);\n",
       "            };\n",
       "            console.log(\"Bokeh: injecting script tag for BokehJS library: \", url);\n",
       "            document.getElementsByTagName(\"head\")[0].appendChild(s);\n",
       "          }\n",
       "        };var js_urls = ['https://cdn.pydata.org/bokeh/release/bokeh-0.11.0.min.js', 'https://cdn.pydata.org/bokeh/release/bokeh-widgets-0.11.0.min.js', 'https://cdn.pydata.org/bokeh/release/bokeh-compiler-0.11.0.min.js'];\n",
       "      \n",
       "        var inline_js = [\n",
       "          function(Bokeh) {\n",
       "            Bokeh.set_log_level(\"info\");\n",
       "          },\n",
       "          function(Bokeh) {\n",
       "            console.log(\"Bokeh: injecting CSS: https://cdn.pydata.org/bokeh/release/bokeh-0.11.0.min.css\");\n",
       "            Bokeh.embed.inject_css(\"https://cdn.pydata.org/bokeh/release/bokeh-0.11.0.min.css\");\n",
       "            console.log(\"Bokeh: injecting CSS: https://cdn.pydata.org/bokeh/release/bokeh-widgets-0.11.0.min.css\");\n",
       "            Bokeh.embed.inject_css(\"https://cdn.pydata.org/bokeh/release/bokeh-widgets-0.11.0.min.css\");\n",
       "          }\n",
       "        ];\n",
       "      \n",
       "        function run_inline_js() {\n",
       "          for (var i = 0; i < inline_js.length; i++) {\n",
       "            inline_js[i](window.Bokeh);\n",
       "          }\n",
       "        }\n",
       "      \n",
       "        if (window._bokeh_is_loading === 0) {\n",
       "          console.log(\"Bokeh: BokehJS loaded, going straight to plotting\");\n",
       "          run_inline_js();\n",
       "        } else {\n",
       "          load_libs(js_urls, function() {\n",
       "            console.log(\"Bokeh: BokehJS plotting callback run at\", now());\n",
       "            run_inline_js();\n",
       "          });\n",
       "        }\n",
       "      }(this));\n",
       "    </script>"
      ]
     },
     "metadata": {},
     "output_type": "display_data"
    },
    {
     "data": {
      "text/html": [
       "\n",
       "\n",
       "    <div class=\"plotdiv\" id=\"adac4796-922f-4aa5-b9ba-6d0fa6faac77\"></div>\n",
       "<script type=\"text/javascript\">\n",
       "  \n",
       "  (function(global) {\n",
       "    function now() {\n",
       "      return new Date();\n",
       "    }\n",
       "  \n",
       "    if (typeof (window._bokeh_onload_callbacks) === \"undefined\") {\n",
       "      window._bokeh_onload_callbacks = [];\n",
       "    }\n",
       "  \n",
       "    function run_callbacks() {\n",
       "      window._bokeh_onload_callbacks.forEach(function(callback) { callback() });\n",
       "      delete window._bokeh_onload_callbacks\n",
       "      console.info(\"Bokeh: all callbacks have finished\");\n",
       "    }\n",
       "  \n",
       "    function load_libs(js_urls, callback) {\n",
       "      window._bokeh_onload_callbacks.push(callback);\n",
       "      if (window._bokeh_is_loading > 0) {\n",
       "        console.log(\"Bokeh: BokehJS is being loaded, scheduling callback at\", now());\n",
       "        return null;\n",
       "      }\n",
       "      if (js_urls == null || js_urls.length === 0) {\n",
       "        run_callbacks();\n",
       "        return null;\n",
       "      }\n",
       "      console.log(\"Bokeh: BokehJS not loaded, scheduling load and callback at\", now());\n",
       "      window._bokeh_is_loading = js_urls.length;\n",
       "      for (var i = 0; i < js_urls.length; i++) {\n",
       "        var url = js_urls[i];\n",
       "        var s = document.createElement('script');\n",
       "        s.src = url;\n",
       "        s.async = false;\n",
       "        s.onreadystatechange = s.onload = function() {\n",
       "          window._bokeh_is_loading--;\n",
       "          if (window._bokeh_is_loading === 0) {\n",
       "            console.log(\"Bokeh: all BokehJS libraries loaded\");\n",
       "            run_callbacks()\n",
       "          }\n",
       "        };\n",
       "        s.onerror = function() {\n",
       "          console.warn(\"failed to load library \" + url);\n",
       "        };\n",
       "        console.log(\"Bokeh: injecting script tag for BokehJS library: \", url);\n",
       "        document.getElementsByTagName(\"head\")[0].appendChild(s);\n",
       "      }\n",
       "    };var element = document.getElementById(\"adac4796-922f-4aa5-b9ba-6d0fa6faac77\");\n",
       "    if (element == null) {\n",
       "      console.log(\"Bokeh: ERROR: autoload.js configured with elementid 'adac4796-922f-4aa5-b9ba-6d0fa6faac77' but no matching script tag was found. \")\n",
       "      return false;\n",
       "    }var js_urls = [];\n",
       "  \n",
       "    var inline_js = [\n",
       "      function(Bokeh) {\n",
       "        Bokeh.$(function() {\n",
       "            var docs_json = {\"038794bd-fd70-4fb0-9bc9-e5e35c63f500\": {\"version\": \"0.11.0\", \"roots\": {\"root_ids\": [\"d499a4c7-f5c0-46db-b8b4-c77016838abd\", \"3e05992d-3f2a-41ed-bb98-ea172d2b7ea6\"], \"references\": [{\"attributes\": {\"callback\": null}, \"type\": \"DataRange1d\", \"id\": \"66cef98f-34fb-4bb6-905c-7e63922a4ba1\"}, {\"attributes\": {}, \"type\": \"BasicTickFormatter\", \"id\": \"a1844ccb-f20e-4cb0-98c4-75213e470633\"}, {\"attributes\": {\"line_color\": {\"value\": \"#1f77b4\"}, \"line_alpha\": {\"value\": 0.1}, \"fill_color\": {\"value\": \"#1f77b4\"}, \"fill_alpha\": {\"value\": 0.1}, \"y\": {\"field\": \"y\"}, \"x\": {\"field\": \"x\"}, \"size\": {\"units\": \"screen\", \"value\": 8}}, \"type\": \"Circle\", \"id\": \"d376be00-f614-44b8-8e37-17f920e8f661\"}, {\"attributes\": {\"plot\": {\"subtype\": \"Figure\", \"type\": \"Plot\", \"id\": \"3e05992d-3f2a-41ed-bb98-ea172d2b7ea6\"}, \"ticker\": {\"type\": \"BasicTicker\", \"id\": \"1ed2ef9f-b00a-4cda-b5bc-61a0a815d526\"}, \"dimension\": 1}, \"type\": \"Grid\", \"id\": \"9821cde8-cc98-4f25-a043-8742c74d057d\"}, {\"attributes\": {\"plot\": {\"subtype\": \"Figure\", \"type\": \"Plot\", \"id\": \"d499a4c7-f5c0-46db-b8b4-c77016838abd\"}}, \"type\": \"PanTool\", \"id\": \"1c5af385-1ab7-421b-97f1-af6d4ea335fb\"}, {\"attributes\": {\"nonselection_glyph\": {\"type\": \"Circle\", \"id\": \"d376be00-f614-44b8-8e37-17f920e8f661\"}, \"data_source\": {\"type\": \"ColumnDataSource\", \"id\": \"dae26062-2568-42a2-a85d-d009e5cdfd5c\"}, \"selection_glyph\": null, \"hover_glyph\": null, \"glyph\": {\"type\": \"Circle\", \"id\": \"e6a5bd60-48ed-40e3-ad6c-2331b1ac80ca\"}}, \"type\": \"GlyphRenderer\", \"id\": \"19a7319e-41ff-495f-9a9b-106eebbe8944\"}, {\"attributes\": {\"plot\": {\"subtype\": \"Figure\", \"type\": \"Plot\", \"id\": \"d499a4c7-f5c0-46db-b8b4-c77016838abd\"}}, \"type\": \"HelpTool\", \"id\": \"8f1ece75-b92c-49db-af1e-ea828db7f045\"}, {\"attributes\": {\"plot\": {\"subtype\": \"Figure\", \"type\": \"Plot\", \"id\": \"3e05992d-3f2a-41ed-bb98-ea172d2b7ea6\"}, \"overlay\": {\"type\": \"BoxAnnotation\", \"id\": \"cfc2e727-b088-4899-a2b5-60b708027af0\"}}, \"type\": \"BoxZoomTool\", \"id\": \"c624deba-df7c-4da6-af8c-6cd52642a15d\"}, {\"attributes\": {\"plot\": {\"subtype\": \"Figure\", \"type\": \"Plot\", \"id\": \"3e05992d-3f2a-41ed-bb98-ea172d2b7ea6\"}}, \"type\": \"ResizeTool\", \"id\": \"edb37007-977b-4213-a272-dc05c7a34504\"}, {\"attributes\": {\"nonselection_glyph\": {\"type\": \"Line\", \"id\": \"c1b025ea-208f-449f-8991-2c68988e67ac\"}, \"data_source\": {\"type\": \"ColumnDataSource\", \"id\": \"b2a8f008-b5c5-43a4-89f5-5cd34e2bf7c6\"}, \"selection_glyph\": null, \"hover_glyph\": null, \"glyph\": {\"type\": \"Line\", \"id\": \"4a2aefaf-6215-4a5e-b67c-341b75866bb4\"}}, \"type\": \"GlyphRenderer\", \"id\": \"a12e42e4-a8cc-4a8c-975c-e7c6754fb945\"}, {\"attributes\": {\"plot\": {\"subtype\": \"Figure\", \"type\": \"Plot\", \"id\": \"3e05992d-3f2a-41ed-bb98-ea172d2b7ea6\"}, \"ticker\": {\"type\": \"BasicTicker\", \"id\": \"0674bb85-1166-40ad-ba62-b57e21cd8dc5\"}}, \"type\": \"Grid\", \"id\": \"ff261ab3-e54d-42ba-b00b-cbf77d80d796\"}, {\"attributes\": {}, \"type\": \"BasicTickFormatter\", \"id\": \"9cbf7dce-ab3f-4f84-b858-4697f8031b8e\"}, {\"attributes\": {}, \"type\": \"ToolEvents\", \"id\": \"a12bf1a9-85e2-4c11-ae19-d8b7efb6aa84\"}, {\"attributes\": {\"line_color\": {\"value\": \"#1f77b4\"}, \"line_alpha\": {\"value\": 0.1}, \"y\": {\"field\": \"y\"}, \"x\": {\"field\": \"x\"}, \"line_width\": {\"value\": 2}}, \"type\": \"Line\", \"id\": \"02e1f0bc-3bd7-4290-a884-04c9ab42ac55\"}, {\"attributes\": {\"plot\": {\"subtype\": \"Figure\", \"type\": \"Plot\", \"id\": \"d499a4c7-f5c0-46db-b8b4-c77016838abd\"}}, \"type\": \"ResetTool\", \"id\": \"151e8dd8-f816-43ea-a048-1bb609becd43\"}, {\"attributes\": {\"callback\": null, \"column_names\": [\"y\", \"x\"], \"data\": {\"y\": [0.9899, 0.993289183222958, 0.993289183222958, 0.993289183222958, 0.993289183222958, 0.993289183222958, 0.993289183222958, 0.993289183222958, 0.993289183222958], \"x\": [100, 200, 300, 400, 500, 600, 700, 800, 900]}}, \"type\": \"ColumnDataSource\", \"id\": \"b2a8f008-b5c5-43a4-89f5-5cd34e2bf7c6\"}, {\"attributes\": {}, \"type\": \"ToolEvents\", \"id\": \"d8f5918c-76cf-4a43-8f29-4072983e9871\"}, {\"attributes\": {\"plot\": {\"subtype\": \"Figure\", \"type\": \"Plot\", \"id\": \"3e05992d-3f2a-41ed-bb98-ea172d2b7ea6\"}, \"axis_label\": \"Documents\", \"formatter\": {\"type\": \"BasicTickFormatter\", \"id\": \"217bf9e5-dd38-4dd7-b304-0022a2b88c88\"}, \"ticker\": {\"type\": \"BasicTicker\", \"id\": \"0674bb85-1166-40ad-ba62-b57e21cd8dc5\"}}, \"type\": \"LinearAxis\", \"id\": \"d2cc53fb-28af-4c5c-a7ad-593c62b36050\"}, {\"attributes\": {\"plot\": {\"subtype\": \"Figure\", \"type\": \"Plot\", \"id\": \"3e05992d-3f2a-41ed-bb98-ea172d2b7ea6\"}}, \"type\": \"PanTool\", \"id\": \"d32b5197-a9cd-48f6-b1cf-73f016d0e4e9\"}, {\"attributes\": {\"line_color\": {\"value\": \"#1f77b4\"}, \"line_alpha\": {\"value\": 0.1}, \"fill_color\": {\"value\": \"#1f77b4\"}, \"fill_alpha\": {\"value\": 0.1}, \"y\": {\"field\": \"y\"}, \"x\": {\"field\": \"x\"}, \"size\": {\"units\": \"screen\", \"value\": 8}}, \"type\": \"Circle\", \"id\": \"a05c15b2-4dbf-43fb-9538-7a13c4cda711\"}, {\"attributes\": {\"line_color\": {\"value\": \"#1f77b4\"}, \"x\": {\"field\": \"x\"}, \"y\": {\"field\": \"y\"}, \"fill_color\": {\"value\": \"white\"}, \"size\": {\"units\": \"screen\", \"value\": 8}}, \"type\": \"Circle\", \"id\": \"6360eb4c-4b7c-4fc1-bcfe-d6d7379fc54a\"}, {\"attributes\": {\"line_color\": {\"value\": \"#1f77b4\"}, \"x\": {\"field\": \"x\"}, \"y\": {\"field\": \"y\"}, \"fill_color\": {\"value\": \"white\"}, \"size\": {\"units\": \"screen\", \"value\": 8}}, \"type\": \"Circle\", \"id\": \"e6a5bd60-48ed-40e3-ad6c-2331b1ac80ca\"}, {\"attributes\": {\"callback\": null}, \"type\": \"DataRange1d\", \"id\": \"ee6875d5-d2a9-4f62-88ee-5a3873cba7bc\"}, {\"attributes\": {\"line_color\": {\"value\": \"black\"}, \"line_alpha\": {\"value\": 1.0}, \"render_mode\": \"css\", \"bottom_units\": \"screen\", \"level\": \"overlay\", \"top_units\": \"screen\", \"fill_alpha\": {\"value\": 0.5}, \"plot\": null, \"left_units\": \"screen\", \"line_dash\": [4, 4], \"line_width\": {\"value\": 2}, \"right_units\": \"screen\", \"fill_color\": {\"value\": \"lightgrey\"}}, \"type\": \"BoxAnnotation\", \"id\": \"cfc2e727-b088-4899-a2b5-60b708027af0\"}, {\"attributes\": {\"callback\": null}, \"type\": \"DataRange1d\", \"id\": \"c43c06f7-f687-49e1-aa83-34ae8b14b83c\"}, {\"attributes\": {\"nonselection_glyph\": {\"type\": \"Circle\", \"id\": \"a05c15b2-4dbf-43fb-9538-7a13c4cda711\"}, \"data_source\": {\"type\": \"ColumnDataSource\", \"id\": \"c11e5769-b5db-4e88-9683-df5c5dfc4adc\"}, \"selection_glyph\": null, \"hover_glyph\": null, \"glyph\": {\"type\": \"Circle\", \"id\": \"6360eb4c-4b7c-4fc1-bcfe-d6d7379fc54a\"}}, \"type\": \"GlyphRenderer\", \"id\": \"3c89debf-0427-4661-8d8e-4d92f7ed9228\"}, {\"attributes\": {\"nonselection_glyph\": {\"type\": \"Line\", \"id\": \"02e1f0bc-3bd7-4290-a884-04c9ab42ac55\"}, \"data_source\": {\"type\": \"ColumnDataSource\", \"id\": \"b5390e8d-164a-452a-b825-b599105182a0\"}, \"selection_glyph\": null, \"hover_glyph\": null, \"glyph\": {\"type\": \"Line\", \"id\": \"b30603fc-da40-45c9-9d0a-dc3a00a38b3f\"}}, \"type\": \"GlyphRenderer\", \"id\": \"49fde0f9-9674-4d0b-b1a1-ad3a16366f45\"}, {\"attributes\": {\"plot\": {\"subtype\": \"Figure\", \"type\": \"Plot\", \"id\": \"3e05992d-3f2a-41ed-bb98-ea172d2b7ea6\"}}, \"type\": \"WheelZoomTool\", \"id\": \"445a253c-9a76-4ce5-a5cf-735786b06a80\"}, {\"attributes\": {\"plot\": {\"subtype\": \"Figure\", \"type\": \"Plot\", \"id\": \"3e05992d-3f2a-41ed-bb98-ea172d2b7ea6\"}}, \"type\": \"ResetTool\", \"id\": \"02756b06-78f5-436e-a66c-06d2d079f623\"}, {\"attributes\": {\"plot\": {\"subtype\": \"Figure\", \"type\": \"Plot\", \"id\": \"d499a4c7-f5c0-46db-b8b4-c77016838abd\"}, \"ticker\": {\"type\": \"BasicTicker\", \"id\": \"766e07e3-ae13-4e20-bd15-bd3159880d0e\"}, \"dimension\": 1}, \"type\": \"Grid\", \"id\": \"69a36310-eb80-457a-9838-42c78a8394ce\"}, {\"attributes\": {\"callback\": null, \"column_names\": [\"y\", \"x\"], \"data\": {\"y\": [0.9899, 0.993289183222958, 0.993289183222958, 0.993289183222958, 0.993289183222958, 0.993289183222958, 0.993289183222958, 0.993289183222958, 0.993289183222958], \"x\": [100, 200, 300, 400, 500, 600, 700, 800, 900]}}, \"type\": \"ColumnDataSource\", \"id\": \"dae26062-2568-42a2-a85d-d009e5cdfd5c\"}, {\"attributes\": {\"line_color\": {\"value\": \"black\"}, \"line_alpha\": {\"value\": 1.0}, \"render_mode\": \"css\", \"bottom_units\": \"screen\", \"level\": \"overlay\", \"top_units\": \"screen\", \"fill_alpha\": {\"value\": 0.5}, \"plot\": null, \"left_units\": \"screen\", \"line_dash\": [4, 4], \"line_width\": {\"value\": 2}, \"right_units\": \"screen\", \"fill_color\": {\"value\": \"lightgrey\"}}, \"type\": \"BoxAnnotation\", \"id\": \"ca8b0fcb-6c65-4b5b-ba76-335bb4cf5869\"}, {\"attributes\": {\"plot\": {\"subtype\": \"Figure\", \"type\": \"Plot\", \"id\": \"d499a4c7-f5c0-46db-b8b4-c77016838abd\"}}, \"type\": \"WheelZoomTool\", \"id\": \"a86b02a1-d7c4-4317-b5df-9c84c52a078a\"}, {\"attributes\": {\"line_color\": {\"value\": \"#1f77b4\"}, \"line_alpha\": {\"value\": 0.1}, \"y\": {\"field\": \"y\"}, \"x\": {\"field\": \"x\"}, \"line_width\": {\"value\": 2}}, \"type\": \"Line\", \"id\": \"c1b025ea-208f-449f-8991-2c68988e67ac\"}, {\"attributes\": {\"plot\": {\"subtype\": \"Figure\", \"type\": \"Plot\", \"id\": \"3e05992d-3f2a-41ed-bb98-ea172d2b7ea6\"}}, \"type\": \"HelpTool\", \"id\": \"eed5acca-3b9a-47e0-a16a-8c69ed7eb2ab\"}, {\"attributes\": {}, \"type\": \"BasicTicker\", \"id\": \"766e07e3-ae13-4e20-bd15-bd3159880d0e\"}, {\"attributes\": {\"plot\": {\"subtype\": \"Figure\", \"type\": \"Plot\", \"id\": \"3e05992d-3f2a-41ed-bb98-ea172d2b7ea6\"}}, \"type\": \"PreviewSaveTool\", \"id\": \"64516698-7377-4069-b1b9-044ac0c530e4\"}, {\"attributes\": {\"plot\": {\"subtype\": \"Figure\", \"type\": \"Plot\", \"id\": \"3e05992d-3f2a-41ed-bb98-ea172d2b7ea6\"}, \"axis_label\": \"Sparsity\", \"formatter\": {\"type\": \"BasicTickFormatter\", \"id\": \"5b045af2-c72b-4a82-b400-dd05be13db8f\"}, \"ticker\": {\"type\": \"BasicTicker\", \"id\": \"1ed2ef9f-b00a-4cda-b5bc-61a0a815d526\"}}, \"type\": \"LinearAxis\", \"id\": \"f8a2fe1f-86b3-485b-8507-e181af2eb790\"}, {\"attributes\": {\"x_range\": {\"type\": \"DataRange1d\", \"id\": \"0415e903-abea-4536-92a5-efa25c11e63d\"}, \"y_range\": {\"type\": \"DataRange1d\", \"id\": \"c43c06f7-f687-49e1-aa83-34ae8b14b83c\"}, \"renderers\": [{\"type\": \"LinearAxis\", \"id\": \"d2cc53fb-28af-4c5c-a7ad-593c62b36050\"}, {\"type\": \"Grid\", \"id\": \"ff261ab3-e54d-42ba-b00b-cbf77d80d796\"}, {\"type\": \"LinearAxis\", \"id\": \"f8a2fe1f-86b3-485b-8507-e181af2eb790\"}, {\"type\": \"Grid\", \"id\": \"9821cde8-cc98-4f25-a043-8742c74d057d\"}, {\"type\": \"BoxAnnotation\", \"id\": \"cfc2e727-b088-4899-a2b5-60b708027af0\"}, {\"type\": \"GlyphRenderer\", \"id\": \"a12e42e4-a8cc-4a8c-975c-e7c6754fb945\"}, {\"type\": \"GlyphRenderer\", \"id\": \"3c89debf-0427-4661-8d8e-4d92f7ed9228\"}], \"plot_width\": 400, \"below\": [{\"type\": \"LinearAxis\", \"id\": \"d2cc53fb-28af-4c5c-a7ad-593c62b36050\"}], \"tool_events\": {\"type\": \"ToolEvents\", \"id\": \"d8f5918c-76cf-4a43-8f29-4072983e9871\"}, \"plot_height\": 400, \"tools\": [{\"type\": \"PanTool\", \"id\": \"d32b5197-a9cd-48f6-b1cf-73f016d0e4e9\"}, {\"type\": \"WheelZoomTool\", \"id\": \"445a253c-9a76-4ce5-a5cf-735786b06a80\"}, {\"type\": \"BoxZoomTool\", \"id\": \"c624deba-df7c-4da6-af8c-6cd52642a15d\"}, {\"type\": \"PreviewSaveTool\", \"id\": \"64516698-7377-4069-b1b9-044ac0c530e4\"}, {\"type\": \"ResizeTool\", \"id\": \"edb37007-977b-4213-a272-dc05c7a34504\"}, {\"type\": \"ResetTool\", \"id\": \"02756b06-78f5-436e-a66c-06d2d079f623\"}, {\"type\": \"HelpTool\", \"id\": \"eed5acca-3b9a-47e0-a16a-8c69ed7eb2ab\"}], \"left\": [{\"type\": \"LinearAxis\", \"id\": \"f8a2fe1f-86b3-485b-8507-e181af2eb790\"}]}, \"type\": \"Plot\", \"id\": \"3e05992d-3f2a-41ed-bb98-ea172d2b7ea6\", \"subtype\": \"Figure\"}, {\"attributes\": {}, \"type\": \"BasicTicker\", \"id\": \"1ed2ef9f-b00a-4cda-b5bc-61a0a815d526\"}, {\"attributes\": {}, \"type\": \"BasicTickFormatter\", \"id\": \"217bf9e5-dd38-4dd7-b304-0022a2b88c88\"}, {\"attributes\": {\"callback\": null, \"column_names\": [\"y\", \"x\"], \"data\": {\"y\": [0.9899, 0.993289183222958, 0.993289183222958, 0.993289183222958, 0.993289183222958, 0.993289183222958, 0.993289183222958, 0.993289183222958, 0.993289183222958], \"x\": [100, 200, 300, 400, 500, 600, 700, 800, 900]}}, \"type\": \"ColumnDataSource\", \"id\": \"c11e5769-b5db-4e88-9683-df5c5dfc4adc\"}, {\"attributes\": {\"plot\": {\"subtype\": \"Figure\", \"type\": \"Plot\", \"id\": \"d499a4c7-f5c0-46db-b8b4-c77016838abd\"}, \"ticker\": {\"type\": \"BasicTicker\", \"id\": \"20ea0c11-6c8e-4762-b650-a44968f74ada\"}}, \"type\": \"Grid\", \"id\": \"36fbbd41-b9a5-4fb7-bc9d-015871f80207\"}, {\"attributes\": {}, \"type\": \"BasicTickFormatter\", \"id\": \"5b045af2-c72b-4a82-b400-dd05be13db8f\"}, {\"attributes\": {\"plot\": {\"subtype\": \"Figure\", \"type\": \"Plot\", \"id\": \"d499a4c7-f5c0-46db-b8b4-c77016838abd\"}, \"overlay\": {\"type\": \"BoxAnnotation\", \"id\": \"ca8b0fcb-6c65-4b5b-ba76-335bb4cf5869\"}}, \"type\": \"BoxZoomTool\", \"id\": \"09c04c1b-516d-4ea8-81c4-a79ad37429a7\"}, {\"attributes\": {\"line_color\": {\"value\": \"#1f77b4\"}, \"line_width\": {\"value\": 2}, \"y\": {\"field\": \"y\"}, \"x\": {\"field\": \"x\"}}, \"type\": \"Line\", \"id\": \"b30603fc-da40-45c9-9d0a-dc3a00a38b3f\"}, {\"attributes\": {}, \"type\": \"BasicTicker\", \"id\": \"20ea0c11-6c8e-4762-b650-a44968f74ada\"}, {\"attributes\": {\"x_range\": {\"type\": \"DataRange1d\", \"id\": \"ee6875d5-d2a9-4f62-88ee-5a3873cba7bc\"}, \"y_range\": {\"type\": \"DataRange1d\", \"id\": \"66cef98f-34fb-4bb6-905c-7e63922a4ba1\"}, \"renderers\": [{\"type\": \"LinearAxis\", \"id\": \"46feed31-7bbe-430e-9707-de6caa89e8bc\"}, {\"type\": \"Grid\", \"id\": \"36fbbd41-b9a5-4fb7-bc9d-015871f80207\"}, {\"type\": \"LinearAxis\", \"id\": \"7c034e3f-f676-4073-ac44-6d90ec0c698f\"}, {\"type\": \"Grid\", \"id\": \"69a36310-eb80-457a-9838-42c78a8394ce\"}, {\"type\": \"BoxAnnotation\", \"id\": \"ca8b0fcb-6c65-4b5b-ba76-335bb4cf5869\"}, {\"type\": \"GlyphRenderer\", \"id\": \"49fde0f9-9674-4d0b-b1a1-ad3a16366f45\"}, {\"type\": \"GlyphRenderer\", \"id\": \"19a7319e-41ff-495f-9a9b-106eebbe8944\"}], \"plot_width\": 400, \"below\": [{\"type\": \"LinearAxis\", \"id\": \"46feed31-7bbe-430e-9707-de6caa89e8bc\"}], \"tool_events\": {\"type\": \"ToolEvents\", \"id\": \"a12bf1a9-85e2-4c11-ae19-d8b7efb6aa84\"}, \"plot_height\": 400, \"tools\": [{\"type\": \"PanTool\", \"id\": \"1c5af385-1ab7-421b-97f1-af6d4ea335fb\"}, {\"type\": \"WheelZoomTool\", \"id\": \"a86b02a1-d7c4-4317-b5df-9c84c52a078a\"}, {\"type\": \"BoxZoomTool\", \"id\": \"09c04c1b-516d-4ea8-81c4-a79ad37429a7\"}, {\"type\": \"PreviewSaveTool\", \"id\": \"c02c8ee7-73a5-4f79-b8af-bba1a6dcf520\"}, {\"type\": \"ResizeTool\", \"id\": \"fe512b6c-8f61-4a00-bd51-d4ff17ba1ffd\"}, {\"type\": \"ResetTool\", \"id\": \"151e8dd8-f816-43ea-a048-1bb609becd43\"}, {\"type\": \"HelpTool\", \"id\": \"8f1ece75-b92c-49db-af1e-ea828db7f045\"}], \"left\": [{\"type\": \"LinearAxis\", \"id\": \"7c034e3f-f676-4073-ac44-6d90ec0c698f\"}]}, \"type\": \"Plot\", \"id\": \"d499a4c7-f5c0-46db-b8b4-c77016838abd\", \"subtype\": \"Figure\"}, {\"attributes\": {}, \"type\": \"BasicTicker\", \"id\": \"0674bb85-1166-40ad-ba62-b57e21cd8dc5\"}, {\"attributes\": {\"plot\": {\"subtype\": \"Figure\", \"type\": \"Plot\", \"id\": \"d499a4c7-f5c0-46db-b8b4-c77016838abd\"}, \"axis_label\": \"Sparsity\", \"formatter\": {\"type\": \"BasicTickFormatter\", \"id\": \"9cbf7dce-ab3f-4f84-b858-4697f8031b8e\"}, \"ticker\": {\"type\": \"BasicTicker\", \"id\": \"766e07e3-ae13-4e20-bd15-bd3159880d0e\"}}, \"type\": \"LinearAxis\", \"id\": \"7c034e3f-f676-4073-ac44-6d90ec0c698f\"}, {\"attributes\": {\"plot\": {\"subtype\": \"Figure\", \"type\": \"Plot\", \"id\": \"d499a4c7-f5c0-46db-b8b4-c77016838abd\"}, \"axis_label\": \"Documents\", \"formatter\": {\"type\": \"BasicTickFormatter\", \"id\": \"a1844ccb-f20e-4cb0-98c4-75213e470633\"}, \"ticker\": {\"type\": \"BasicTicker\", \"id\": \"20ea0c11-6c8e-4762-b650-a44968f74ada\"}}, \"type\": \"LinearAxis\", \"id\": \"46feed31-7bbe-430e-9707-de6caa89e8bc\"}, {\"attributes\": {\"plot\": {\"subtype\": \"Figure\", \"type\": \"Plot\", \"id\": \"d499a4c7-f5c0-46db-b8b4-c77016838abd\"}}, \"type\": \"PreviewSaveTool\", \"id\": \"c02c8ee7-73a5-4f79-b8af-bba1a6dcf520\"}, {\"attributes\": {\"callback\": null}, \"type\": \"DataRange1d\", \"id\": \"0415e903-abea-4536-92a5-efa25c11e63d\"}, {\"attributes\": {\"line_color\": {\"value\": \"#1f77b4\"}, \"line_width\": {\"value\": 2}, \"y\": {\"field\": \"y\"}, \"x\": {\"field\": \"x\"}}, \"type\": \"Line\", \"id\": \"4a2aefaf-6215-4a5e-b67c-341b75866bb4\"}, {\"attributes\": {\"plot\": {\"subtype\": \"Figure\", \"type\": \"Plot\", \"id\": \"d499a4c7-f5c0-46db-b8b4-c77016838abd\"}}, \"type\": \"ResizeTool\", \"id\": \"fe512b6c-8f61-4a00-bd51-d4ff17ba1ffd\"}, {\"attributes\": {\"callback\": null, \"column_names\": [\"y\", \"x\"], \"data\": {\"y\": [0.9899, 0.993289183222958, 0.993289183222958, 0.993289183222958, 0.993289183222958, 0.993289183222958, 0.993289183222958, 0.993289183222958, 0.993289183222958], \"x\": [100, 200, 300, 400, 500, 600, 700, 800, 900]}}, \"type\": \"ColumnDataSource\", \"id\": \"b5390e8d-164a-452a-b825-b599105182a0\"}]}, \"title\": \"Bokeh Application\"}};\n",
       "            var render_items = [{\"notebook_comms_target\": \"f18ec92d-67b6-481c-8937-3d16a63fd427\", \"docid\": \"038794bd-fd70-4fb0-9bc9-e5e35c63f500\", \"elementid\": \"adac4796-922f-4aa5-b9ba-6d0fa6faac77\", \"modelid\": \"3e05992d-3f2a-41ed-bb98-ea172d2b7ea6\"}];\n",
       "            \n",
       "            Bokeh.embed.embed_items(docs_json, render_items);\n",
       "        });\n",
       "      },\n",
       "      function(Bokeh) {\n",
       "      }\n",
       "    ];\n",
       "  \n",
       "    function run_inline_js() {\n",
       "      for (var i = 0; i < inline_js.length; i++) {\n",
       "        inline_js[i](window.Bokeh);\n",
       "      }\n",
       "    }\n",
       "  \n",
       "    if (window._bokeh_is_loading === 0) {\n",
       "      console.log(\"Bokeh: BokehJS loaded, going straight to plotting\");\n",
       "      run_inline_js();\n",
       "    } else {\n",
       "      load_libs(js_urls, function() {\n",
       "        console.log(\"Bokeh: BokehJS plotting callback run at\", now());\n",
       "        run_inline_js();\n",
       "      });\n",
       "    }\n",
       "  }(this));\n",
       "</script>"
      ]
     },
     "metadata": {},
     "output_type": "display_data"
    },
    {
     "data": {
      "text/plain": [
       "<bokeh.io._CommsHandle at 0x7fe8383d1810>"
      ]
     },
     "execution_count": 59,
     "metadata": {},
     "output_type": "execute_result"
    }
   ],
   "source": [
    "import pandas as pd\n",
    "from bokeh.plotting import figure, output_notebook, show, vplot\n",
    "\n",
    "# Sparsity as a function of document count\n",
    "n = []\n",
    "s = []\n",
    "for i in range(100,1000,100):\n",
    "    corpus = items_t[0:i]\n",
    "    tfm, lexicon = get_tfm(corpus)\n",
    "    c =[ [x.count(0), x.count(1)] for x in tfm]\n",
    "    n_zero = sum([ y[0] for y in c])\n",
    "    n_one = sum([ y[1] for y in c])  \n",
    "    s.append(1.0 - (float(n_one) / (n_one + n_zero)))\n",
    "    n.append(i)\n",
    "    \n",
    "output_notebook(hide_banner=True)\n",
    "p = figure(x_axis_label='Documents', y_axis_label='Sparsity',\n",
    "          plot_width=400, plot_height=400)\n",
    "p.line(n, s, line_width=2)\n",
    "p.circle(n, s, fill_color=\"white\", size=8)\n",
    "show(p)"
   ]
  },
  {
   "cell_type": "markdown",
   "metadata": {},
   "source": [
    "<img src=\"https://ih0.redbubble.net/image.89981518.4942/flat,800x800,075,t.u2.jpg\" style=\"float:right;width:250px;height:250px;\">\n",
    "\n",
    "## Boolean Search\n",
    "\n",
    "This is our first ranking function. Now we have the term frequency matrix, which we used to find documents that contain words included in a user specified query. We started by simply returning the documents from the corpus that matched any terms in the query and ranked by the raw frequency of matching terms. \n",
    "\n",
    "More specifically our algorithm for 'boolean search' proceeds as follows:\n",
    "\n",
    "* Compute the lexicon for the corpus\n",
    "* Compute the term frequency matrix for the corpus\n",
    "* Convert query to query vector using the same lexicon \n",
    "* Compare each documents term frequncy vector to the query vector - specifically for each document in the corpus:\n",
    "  * Compute a ranking score for each document by taking the [dot product](https://en.wikipedia.org/wiki/Dot_product) of the document's term frequency vector and the query vector\n",
    "* Sort the documents by ranking score"
   ]
  },
  {
   "cell_type": "code",
   "execution_count": 8,
   "metadata": {
    "collapsed": false
   },
   "outputs": [
    {
     "name": "stdout",
     "output_type": "stream",
     "text": [
      "['Grass', 'Rock', 'Psychic']\n"
     ]
    },
    {
     "ename": "NameError",
     "evalue": "name 'get_tfm' is not defined",
     "output_type": "error",
     "traceback": [
      "\u001b[1;31m---------------------------------------------------------------------------\u001b[0m",
      "\u001b[1;31mNameError\u001b[0m                                 Traceback (most recent call last)",
      "\u001b[1;32m<ipython-input-8-2818134d2af5>\u001b[0m in \u001b[0;36m<module>\u001b[1;34m()\u001b[0m\n\u001b[0;32m      3\u001b[0m \u001b[1;33m\u001b[0m\u001b[0m\n\u001b[0;32m      4\u001b[0m \u001b[1;31m# Compute term frequency matrix and lexicon\u001b[0m\u001b[1;33m\u001b[0m\u001b[1;33m\u001b[0m\u001b[0m\n\u001b[1;32m----> 5\u001b[1;33m \u001b[0mtfm\u001b[0m\u001b[1;33m,\u001b[0m \u001b[0mlexicon\u001b[0m \u001b[1;33m=\u001b[0m \u001b[0mget_tfm\u001b[0m\u001b[1;33m(\u001b[0m\u001b[0mtest_corpus\u001b[0m\u001b[1;33m)\u001b[0m\u001b[1;33m\u001b[0m\u001b[0m\n\u001b[0m\u001b[0;32m      6\u001b[0m \u001b[1;33m\u001b[0m\u001b[0m\n\u001b[0;32m      7\u001b[0m \u001b[1;32mprint\u001b[0m\u001b[1;33m(\u001b[0m\u001b[0mtfm\u001b[0m\u001b[1;33m)\u001b[0m\u001b[1;33m\u001b[0m\u001b[0m\n",
      "\u001b[1;31mNameError\u001b[0m: name 'get_tfm' is not defined"
     ]
    }
   ],
   "source": [
    "test_corpus = ['Grass','Rock','Psychic']\n",
    "print(test_corpus)\n",
    "\n",
    "# Compute term frequency matrix and lexicon\n",
    "tfm, lexicon = get_tfm(test_corpus)\n",
    "\n",
    "print(tfm)\n",
    "print(lexicon)\n",
    "\n",
    "# Define our query\n",
    "qry = 'red bike'\n",
    "\n",
    "# Convert query to query vector using lexicon\n",
    "qrv = [0]*len(lexicon)\n",
    "for term in qry.split():\n",
    "    if term in lexicon:\n",
    "        qrv[lexicon.index(term)] = 1\n",
    "            \n",
    "print(qrv)\n",
    "\n",
    "# Compare query vector to each term frequency vector\n",
    "# This is dot product between qrv and each row of tfm\n",
    "for i,tfv in enumerate(tfm):\n",
    "    print i , sum([ xy[0] * xy[1] for xy in zip(qrv,tfv)])\n",
    "    "
   ]
  },
  {
   "cell_type": "markdown",
   "metadata": {
    "collapsed": false
   },
   "source": [
    "The function definition `get_results_tf()` computes the document ranking score for each document in the term frequency matrix. The function returns a list of document id's sorted by their score. Test using a Pokemon related query such as 'Fire'. "
   ]
  },
  {
   "cell_type": "code",
   "execution_count": 152,
   "metadata": {
    "collapsed": false
   },
   "outputs": [
    {
     "name": "stdout",
     "output_type": "stream",
     "text": [
      "\n",
      "Top 10 from recall set of 150 items:\n",
      "\t0.00 - ivysaur\n",
      "\t0.00 - venusaur\n",
      "\t0.00 - charmander\n",
      "\t0.00 - charmeleon\n",
      "\t0.00 - charizard\n",
      "\t0.00 - squirtle\n",
      "\t0.00 - wartortle\n",
      "\t0.00 - blastoise\n",
      "\t0.00 - caterpie\n",
      "\t0.00 - metapod\n"
     ]
    }
   ],
   "source": [
    "def get_results_tf(qry, tfm, lexicon):\n",
    "    qrv = [0]*len(lexicon)\n",
    "    for term in qry.split():\n",
    "        if term in lexicon:\n",
    "            qrv[lexicon.index(term)] = 1\n",
    "\n",
    "    results = []      \n",
    "    for i, tfv in enumerate(tfm):\n",
    "        score = 0\n",
    "        score = sum([ xy[0] * xy[1] for xy in zip(qrv,tfv)])\n",
    "        \n",
    "        results.append([score, i])\n",
    "    \n",
    "    sorted_results = sorted(results, key=lambda t: t[0] * -1 )\n",
    "    return sorted_results\n",
    "\n",
    "\n",
    "def print_results(results,n, head=True):\n",
    "    ''' Helper function to print results\n",
    "    '''\n",
    "    if head:    \n",
    "        print('\\nTop %d from recall set of %d items:' % (n,len(results)))\n",
    "        for r in results[:n]:\n",
    "            print('\\t%0.2f - %s'%(r[0],items_t[r[1]]))\n",
    "    else:\n",
    "        print('\\nBottom %d from recall set of %d items:' % (n,len(results)))\n",
    "        for r in results[-n:]:\n",
    "            print('\\t%0.2f - %s'%(r[0],items_t[r[1]]))\n",
    "    \n",
    "\n",
    "tfm, lexicon = get_tfm(items_t)\n",
    "results = get_results_tf('Fire', tfm , lexicon)\n",
    "print_results(results,10)\n"
   ]
  },
  {
   "cell_type": "markdown",
   "metadata": {},
   "source": [
    "## Inverted Index\n",
    "\n",
    "We created an inverted index. The inverted index is used to filter out documents that do not contain any of the keywords in the query before computing the ranking score.  We know that these documents would score zero in the ranking scheme we are implementing.\n",
    "\n",
    "Using our example mini-corpus:\n",
    "\n",
    "1. 'Grass'\n",
    "2. 'Rock'\n",
    "3. 'Psychic'\n",
    "\n",
    "We stored our inverted index in a dictionary where the key is the term and the value is the list of matching document id's.\n",
    "\n",
    "We created an inverted index as a python dictionary keyed on the token, and validated with corpus. "
   ]
  },
  {
   "cell_type": "code",
   "execution_count": 65,
   "metadata": {
    "collapsed": false
   },
   "outputs": [
    {
     "name": "stdout",
     "output_type": "stream",
     "text": [
      "{'Psychic': [2], 'Grass': [0], 'Rock': [1]}\n"
     ]
    }
   ],
   "source": [
    "def create_inverted_index(corpus):\n",
    "    idx={}\n",
    "    for i, document in enumerate(corpus):\n",
    "           for word in document.split():\n",
    "            if word in idx:\n",
    "                idx[word].append(i)\n",
    "            else:\n",
    "                idx[word] = [i]\n",
    "        \n",
    "    return idx\n",
    "\n",
    "test_corpus = ['Grass','Rock','Psychic']\n",
    "idx = create_inverted_index(test_corpus)\n",
    "print(idx)"
   ]
  },
  {
   "cell_type": "markdown",
   "metadata": {},
   "source": [
    "Here we created an inverted index for all the type2s.  We can use the set intersection method to find all the documents that match the query."
   ]
  },
  {
   "cell_type": "code",
   "execution_count": 108,
   "metadata": {
    "collapsed": false
   },
   "outputs": [
    {
     "name": "stdout",
     "output_type": "stream",
     "text": [
      "set([2, 35, 4, 134, 75, 76, 144, 3, 56, 57, 124, 36])\n",
      "fire\n"
     ]
    }
   ],
   "source": [
    "idx = create_inverted_index(items_t2)\n",
    "print(set(idx['fire']))\n",
    "print(items_t2[144])"
   ]
  },
  {
   "cell_type": "markdown",
   "metadata": {},
   "source": [
    "Here we're only scoring the documents that match our keywords in the query:"
   ]
  },
  {
   "cell_type": "code",
   "execution_count": 116,
   "metadata": {
    "collapsed": false
   },
   "outputs": [
    {
     "name": "stdout",
     "output_type": "stream",
     "text": [
      "\n",
      "Top 151 from recall set of 12 items:\n",
      "\t1.00 - charmander\n",
      "\t1.00 - vulpix\n",
      "\t1.00 - charizard\n",
      "\t1.00 - flareon\n",
      "\t1.00 - ponyta\n",
      "\t1.00 - rapidash\n",
      "\t1.00 - moltres\n",
      "\t1.00 - charmeleon\n",
      "\t1.00 - growlithe\n",
      "\t1.00 - arcanine\n",
      "\t1.00 - magmar\n",
      "\t1.00 - ninetales\n"
     ]
    }
   ],
   "source": [
    "def get_results_tf(qry, idx):\n",
    "    score = Counter()\n",
    "    for term in qry.split():\n",
    "        for doc in idx[term]:\n",
    "            score[doc] += 1\n",
    "            \n",
    "    results=[]\n",
    "    for x in [[r[0],r[1]] for r in zip(score.keys(), score.values())]:\n",
    "        if x[1] > 0:\n",
    "            # output [0] score, [1] doc_id\n",
    "            results.append([x[1],x[0]])\n",
    "\n",
    "    sorted_results = sorted(results, key=lambda t: t[0] * -1 )\n",
    "    return sorted_results;\n",
    "\n",
    "\n",
    "idx = create_inverted_index(items_t2)\n",
    "results = get_results_tf('fire', idx)\n",
    "print_results(results,151)"
   ]
  },
  {
   "cell_type": "markdown",
   "metadata": {},
   "source": [
    "The term frequency ranking is dominated by high frequency terms. "
   ]
  },
  {
   "cell_type": "code",
   "execution_count": 9,
   "metadata": {
    "collapsed": false
   },
   "outputs": [],
   "source": [
    "# import pandas as pd\n",
    "# from bokeh.plotting import output_notebook, show\n",
    "# from bokeh.charts import Bar\n",
    "# from bokeh.charts.attributes import CatAttr\n",
    "# #from bokeh.models import ColumnDataSource\n",
    "\n",
    "# df = pd.DataFrame({'term':[x for x in idx.keys()],'freq':[len(x) for x in idx.values()]})\n",
    "\n",
    "# output_notebook(hide_banner=True)\n",
    "# p = Bar(df.sort_values('freq', ascending=False)[:30], label=CatAttr(columns=['term'], sort=False), values='freq',\n",
    "#         plot_width=800, plot_height=400)\n",
    "# show(p)\n"
   ]
  },
  {
   "cell_type": "markdown",
   "metadata": {},
   "source": [
    "## TF-IDF\n",
    "\n",
    "We have all the information we need to compute IDF.  Reminder the Inverse Document Frequency is a weight we apply to each term in our lexicon.  The 'smooth' IDF for a specific term is computed as follows:\n",
    "\n",
    "$$\n",
    "IDF = log ( 1 + \\frac{N}{n_t} ) \n",
    "$$\n",
    "\n",
    "Where $N$ is the number of documents in the corpus and $n_t$ is the number of documents in the corpus in which the term $t$ appears.  $n_t$ is simply the length of the list of documents for a given key in our inverted index.\n",
    "\n",
    "This function definition computes IDF for a given term, given an inverted index `idx` and number of documents `n`. The log function is in the [math](https://docs.python.org/2/library/math.html) module. "
   ]
  },
  {
   "cell_type": "code",
   "execution_count": 114,
   "metadata": {
    "collapsed": false
   },
   "outputs": [
    {
     "name": "stdout",
     "output_type": "stream",
     "text": [
      "2.44568593663\n",
      "3.91202300543\n"
     ]
    }
   ],
   "source": [
    "import math\n",
    "\n",
    "def idf(term, idx, n):\n",
    "    return math.log( float(n) / (1 + len(idx[term])))\n",
    "\n",
    "     \n",
    "print(idf('fire',idx,len(items_t2)))\n",
    "print(idf('ice',idx,len(items_t2)))\n"
   ]
  },
  {
   "cell_type": "markdown",
   "metadata": {},
   "source": [
    "<img src=\"https://embed.gyazo.com/7028e5c1f631da5b2cbebdb9a0685214.png\" style=\"float:left;width:260px;height:285px;\">\n",
    "\n",
    "### TF-IDF Intuition\n",
    "\n",
    "We plotted the relationship between TF and IDF and got more intuition for what TF and IDF is all about. "
   ]
  },
  {
   "cell_type": "code",
   "execution_count": 86,
   "metadata": {
    "collapsed": false
   },
   "outputs": [
    {
     "data": {
      "text/html": [
       "\n",
       "\n",
       "    <script type=\"text/javascript\">\n",
       "      \n",
       "      (function(global) {\n",
       "        function now() {\n",
       "          return new Date();\n",
       "        }\n",
       "      \n",
       "        if (typeof (window._bokeh_onload_callbacks) === \"undefined\") {\n",
       "          window._bokeh_onload_callbacks = [];\n",
       "        }\n",
       "      \n",
       "        function run_callbacks() {\n",
       "          window._bokeh_onload_callbacks.forEach(function(callback) { callback() });\n",
       "          delete window._bokeh_onload_callbacks\n",
       "          console.info(\"Bokeh: all callbacks have finished\");\n",
       "        }\n",
       "      \n",
       "        function load_libs(js_urls, callback) {\n",
       "          window._bokeh_onload_callbacks.push(callback);\n",
       "          if (window._bokeh_is_loading > 0) {\n",
       "            console.log(\"Bokeh: BokehJS is being loaded, scheduling callback at\", now());\n",
       "            return null;\n",
       "          }\n",
       "          if (js_urls == null || js_urls.length === 0) {\n",
       "            run_callbacks();\n",
       "            return null;\n",
       "          }\n",
       "          console.log(\"Bokeh: BokehJS not loaded, scheduling load and callback at\", now());\n",
       "          window._bokeh_is_loading = js_urls.length;\n",
       "          for (var i = 0; i < js_urls.length; i++) {\n",
       "            var url = js_urls[i];\n",
       "            var s = document.createElement('script');\n",
       "            s.src = url;\n",
       "            s.async = false;\n",
       "            s.onreadystatechange = s.onload = function() {\n",
       "              window._bokeh_is_loading--;\n",
       "              if (window._bokeh_is_loading === 0) {\n",
       "                console.log(\"Bokeh: all BokehJS libraries loaded\");\n",
       "                run_callbacks()\n",
       "              }\n",
       "            };\n",
       "            s.onerror = function() {\n",
       "              console.warn(\"failed to load library \" + url);\n",
       "            };\n",
       "            console.log(\"Bokeh: injecting script tag for BokehJS library: \", url);\n",
       "            document.getElementsByTagName(\"head\")[0].appendChild(s);\n",
       "          }\n",
       "        };var js_urls = ['https://cdn.pydata.org/bokeh/release/bokeh-0.11.0.min.js', 'https://cdn.pydata.org/bokeh/release/bokeh-widgets-0.11.0.min.js', 'https://cdn.pydata.org/bokeh/release/bokeh-compiler-0.11.0.min.js'];\n",
       "      \n",
       "        var inline_js = [\n",
       "          function(Bokeh) {\n",
       "            Bokeh.set_log_level(\"info\");\n",
       "          },\n",
       "          function(Bokeh) {\n",
       "            console.log(\"Bokeh: injecting CSS: https://cdn.pydata.org/bokeh/release/bokeh-0.11.0.min.css\");\n",
       "            Bokeh.embed.inject_css(\"https://cdn.pydata.org/bokeh/release/bokeh-0.11.0.min.css\");\n",
       "            console.log(\"Bokeh: injecting CSS: https://cdn.pydata.org/bokeh/release/bokeh-widgets-0.11.0.min.css\");\n",
       "            Bokeh.embed.inject_css(\"https://cdn.pydata.org/bokeh/release/bokeh-widgets-0.11.0.min.css\");\n",
       "          }\n",
       "        ];\n",
       "      \n",
       "        function run_inline_js() {\n",
       "          for (var i = 0; i < inline_js.length; i++) {\n",
       "            inline_js[i](window.Bokeh);\n",
       "          }\n",
       "        }\n",
       "      \n",
       "        if (window._bokeh_is_loading === 0) {\n",
       "          console.log(\"Bokeh: BokehJS loaded, going straight to plotting\");\n",
       "          run_inline_js();\n",
       "        } else {\n",
       "          load_libs(js_urls, function() {\n",
       "            console.log(\"Bokeh: BokehJS plotting callback run at\", now());\n",
       "            run_inline_js();\n",
       "          });\n",
       "        }\n",
       "      }(this));\n",
       "    </script>"
      ]
     },
     "metadata": {},
     "output_type": "display_data"
    },
    {
     "data": {
      "text/html": [
       "\n",
       "\n",
       "    <div class=\"plotdiv\" id=\"37d13e33-272f-4a24-ba32-2e654564df9f\"></div>\n",
       "<script type=\"text/javascript\">\n",
       "  \n",
       "  (function(global) {\n",
       "    function now() {\n",
       "      return new Date();\n",
       "    }\n",
       "  \n",
       "    if (typeof (window._bokeh_onload_callbacks) === \"undefined\") {\n",
       "      window._bokeh_onload_callbacks = [];\n",
       "    }\n",
       "  \n",
       "    function run_callbacks() {\n",
       "      window._bokeh_onload_callbacks.forEach(function(callback) { callback() });\n",
       "      delete window._bokeh_onload_callbacks\n",
       "      console.info(\"Bokeh: all callbacks have finished\");\n",
       "    }\n",
       "  \n",
       "    function load_libs(js_urls, callback) {\n",
       "      window._bokeh_onload_callbacks.push(callback);\n",
       "      if (window._bokeh_is_loading > 0) {\n",
       "        console.log(\"Bokeh: BokehJS is being loaded, scheduling callback at\", now());\n",
       "        return null;\n",
       "      }\n",
       "      if (js_urls == null || js_urls.length === 0) {\n",
       "        run_callbacks();\n",
       "        return null;\n",
       "      }\n",
       "      console.log(\"Bokeh: BokehJS not loaded, scheduling load and callback at\", now());\n",
       "      window._bokeh_is_loading = js_urls.length;\n",
       "      for (var i = 0; i < js_urls.length; i++) {\n",
       "        var url = js_urls[i];\n",
       "        var s = document.createElement('script');\n",
       "        s.src = url;\n",
       "        s.async = false;\n",
       "        s.onreadystatechange = s.onload = function() {\n",
       "          window._bokeh_is_loading--;\n",
       "          if (window._bokeh_is_loading === 0) {\n",
       "            console.log(\"Bokeh: all BokehJS libraries loaded\");\n",
       "            run_callbacks()\n",
       "          }\n",
       "        };\n",
       "        s.onerror = function() {\n",
       "          console.warn(\"failed to load library \" + url);\n",
       "        };\n",
       "        console.log(\"Bokeh: injecting script tag for BokehJS library: \", url);\n",
       "        document.getElementsByTagName(\"head\")[0].appendChild(s);\n",
       "      }\n",
       "    };var element = document.getElementById(\"37d13e33-272f-4a24-ba32-2e654564df9f\");\n",
       "    if (element == null) {\n",
       "      console.log(\"Bokeh: ERROR: autoload.js configured with elementid '37d13e33-272f-4a24-ba32-2e654564df9f' but no matching script tag was found. \")\n",
       "      return false;\n",
       "    }var js_urls = [];\n",
       "  \n",
       "    var inline_js = [\n",
       "      function(Bokeh) {\n",
       "        Bokeh.$(function() {\n",
       "            var docs_json = {\"026c1a63-ae9f-4e6c-9a31-068f381ea542\": {\"version\": \"0.11.0\", \"roots\": {\"root_ids\": [\"d499a4c7-f5c0-46db-b8b4-c77016838abd\", \"3e05992d-3f2a-41ed-bb98-ea172d2b7ea6\", \"9a9ff700-27c5-45a8-935d-05c66cb6e120\", \"85ad85d7-364d-4ef8-b15f-2229cacd782a\"], \"references\": [{\"attributes\": {}, \"type\": \"ToolEvents\", \"id\": \"336a7b0c-a067-4ebe-a81e-093f573be370\"}, {\"attributes\": {\"line_color\": {\"field\": \"line_color\"}, \"fill_color\": {\"field\": \"color\"}, \"fill_alpha\": {\"field\": \"fill_alpha\"}, \"height\": {\"units\": \"data\", \"field\": \"height\"}, \"width\": {\"units\": \"data\", \"field\": \"width\"}, \"y\": {\"field\": \"y\"}, \"x\": {\"field\": \"x\"}}, \"type\": \"Rect\", \"id\": \"4723e60c-3db5-4951-8b82-3d448176d360\"}, {\"attributes\": {}, \"type\": \"CategoricalTickFormatter\", \"id\": \"b153f168-9d0d-40a0-bddd-cfbfbc017dcc\"}, {\"attributes\": {\"nonselection_glyph\": null, \"data_source\": {\"type\": \"ColumnDataSource\", \"id\": \"94a11835-1e43-4194-b141-02a72c1caa13\"}, \"selection_glyph\": null, \"hover_glyph\": null, \"glyph\": {\"type\": \"Rect\", \"id\": \"a362cd4a-9e2f-48e6-8f86-c90ede512aea\"}}, \"type\": \"GlyphRenderer\", \"id\": \"1b88d51d-a1cd-4242-a940-8fc132f4b5c4\"}, {\"attributes\": {\"callback\": null, \"column_names\": [\"line_color\", \"line_alpha\", \"color\", \"fill_alpha\", \"height\", \"width\", \"y\", \"x\"], \"data\": {\"line_color\": [\"white\"], \"line_alpha\": [1.0], \"chart_index\": [{\"term\": \"sandshrew\"}], \"color\": [\"#f22c40\"], \"fill_alpha\": [0.8], \"term\": [\"sandshrew\"], \"height\": [1.0], \"width\": [0.8], \"y\": [0.5], \"x\": [\"sandshrew\"]}}, \"type\": \"ColumnDataSource\", \"id\": \"599ec5f7-9423-476c-8123-332bc7065a06\"}, {\"attributes\": {\"callback\": null, \"column_names\": [\"line_color\", \"line_alpha\", \"color\", \"fill_alpha\", \"height\", \"width\", \"y\", \"x\"], \"data\": {\"line_color\": [\"white\"], \"line_alpha\": [1.0], \"chart_index\": [{\"term\": \"nidoran\"}], \"color\": [\"#f22c40\"], \"fill_alpha\": [0.8], \"term\": [\"nidoran\"], \"height\": [3.912023005428146], \"width\": [0.8], \"y\": [1.956011502714073], \"x\": [\"nidoran\"]}}, \"type\": \"ColumnDataSource\", \"id\": \"0ffa9160-44a0-4151-b04e-1e062841a6ec\"}, {\"attributes\": {\"callback\": null, \"column_names\": [\"line_color\", \"line_alpha\", \"color\", \"fill_alpha\", \"height\", \"width\", \"y\", \"x\"], \"data\": {\"line_color\": [\"white\"], \"line_alpha\": [1.0], \"chart_index\": [{\"term\": \"ivysaur\"}], \"color\": [\"#f22c40\"], \"fill_alpha\": [0.8], \"term\": [\"ivysaur\"], \"height\": [1.0], \"width\": [0.8], \"y\": [0.5], \"x\": [\"ivysaur\"]}}, \"type\": \"ColumnDataSource\", \"id\": \"0c365aa4-51fc-4306-9f3b-07a4a448e1fe\"}, {\"attributes\": {\"line_color\": {\"field\": \"line_color\"}, \"fill_color\": {\"field\": \"color\"}, \"fill_alpha\": {\"field\": \"fill_alpha\"}, \"height\": {\"units\": \"data\", \"field\": \"height\"}, \"width\": {\"units\": \"data\", \"field\": \"width\"}, \"y\": {\"field\": \"y\"}, \"x\": {\"field\": \"x\"}}, \"type\": \"Rect\", \"id\": \"51bcbee2-bbfd-4095-811f-f8c4f3f439fa\"}, {\"attributes\": {\"plot\": {\"subtype\": \"Figure\", \"type\": \"Plot\", \"id\": \"d499a4c7-f5c0-46db-b8b4-c77016838abd\"}, \"axis_label\": \"Sparsity\", \"formatter\": {\"type\": \"BasicTickFormatter\", \"id\": \"9cbf7dce-ab3f-4f84-b858-4697f8031b8e\"}, \"ticker\": {\"type\": \"BasicTicker\", \"id\": \"766e07e3-ae13-4e20-bd15-bd3159880d0e\"}}, \"type\": \"LinearAxis\", \"id\": \"7c034e3f-f676-4073-ac44-6d90ec0c698f\"}, {\"attributes\": {\"callback\": null, \"column_names\": [\"line_color\", \"line_alpha\", \"color\", \"fill_alpha\", \"height\", \"width\", \"y\", \"x\"], \"data\": {\"line_color\": [\"white\"], \"line_alpha\": [1.0], \"chart_index\": [{\"term\": \"drowzee\"}], \"color\": [\"#f22c40\"], \"fill_alpha\": [0.8], \"term\": [\"drowzee\"], \"height\": [1.0], \"width\": [0.8], \"y\": [0.5], \"x\": [\"drowzee\"]}}, \"type\": \"ColumnDataSource\", \"id\": \"e6ae1951-1e98-4266-9907-cca624c03a8b\"}, {\"attributes\": {\"callback\": null, \"column_names\": [\"line_color\", \"line_alpha\", \"color\", \"fill_alpha\", \"height\", \"width\", \"y\", \"x\"], \"data\": {\"line_color\": [\"white\"], \"line_alpha\": [1.0], \"chart_index\": [{\"term\": \"jolteon\"}], \"color\": [\"#f22c40\"], \"fill_alpha\": [0.8], \"term\": [\"jolteon\"], \"height\": [4.31748811353631], \"width\": [0.8], \"y\": [2.158744056768155], \"x\": [\"jolteon\"]}}, \"type\": \"ColumnDataSource\", \"id\": \"38309f95-22b7-42fe-92a7-fd470edfa6e6\"}, {\"attributes\": {\"callback\": null, \"column_names\": [\"line_color\", \"line_alpha\", \"color\", \"fill_alpha\", \"height\", \"width\", \"y\", \"x\"], \"data\": {\"line_color\": [\"white\"], \"line_alpha\": [1.0], \"chart_index\": [{\"term\": \"kabutops\"}], \"color\": [\"#f22c40\"], \"fill_alpha\": [0.8], \"term\": [\"kabutops\"], \"height\": [1.0], \"width\": [0.8], \"y\": [0.5], \"x\": [\"kabutops\"]}}, \"type\": \"ColumnDataSource\", \"id\": \"bd2d9b5e-73f8-4dc5-a2a2-1cf94d9a0a6f\"}, {\"attributes\": {\"plot\": {\"subtype\": \"Chart\", \"type\": \"Plot\", \"id\": \"009283ca-9e1d-4afe-bb23-d21a37a7e3a2\"}, \"axis_label\": \"Sum( Freq )\", \"formatter\": {\"type\": \"BasicTickFormatter\", \"id\": \"9724295c-f566-4170-9b1a-05accce1c47d\"}, \"ticker\": {\"type\": \"BasicTicker\", \"id\": \"9270c947-a19c-4448-8aca-83f2ca7a78ca\"}}, \"type\": \"LinearAxis\", \"id\": \"85903f65-02fd-49e6-abe9-e692217e203c\"}, {\"attributes\": {\"line_color\": {\"value\": \"#1f77b4\"}, \"x\": {\"field\": \"x\"}, \"y\": {\"field\": \"y\"}, \"fill_color\": {\"value\": \"white\"}, \"size\": {\"units\": \"screen\", \"value\": 8}}, \"type\": \"Circle\", \"id\": \"6360eb4c-4b7c-4fc1-bcfe-d6d7379fc54a\"}, {\"attributes\": {\"line_color\": {\"field\": \"line_color\"}, \"fill_color\": {\"field\": \"color\"}, \"fill_alpha\": {\"field\": \"fill_alpha\"}, \"height\": {\"units\": \"data\", \"field\": \"height\"}, \"width\": {\"units\": \"data\", \"field\": \"width\"}, \"y\": {\"field\": \"y\"}, \"x\": {\"field\": \"x\"}}, \"type\": \"Rect\", \"id\": \"f59f7ab7-9440-4cb8-81ce-251af8405661\"}, {\"attributes\": {\"callback\": null, \"column_names\": [\"line_color\", \"line_alpha\", \"color\", \"fill_alpha\", \"height\", \"width\", \"y\", \"x\"], \"data\": {\"line_color\": [\"white\"], \"line_alpha\": [1.0], \"chart_index\": [{\"term\": \"hypno\"}], \"color\": [\"#f22c40\"], \"fill_alpha\": [0.8], \"term\": [\"hypno\"], \"height\": [1.0], \"width\": [0.8], \"y\": [0.5], \"x\": [\"hypno\"]}}, \"type\": \"ColumnDataSource\", \"id\": \"65f6d905-3e1a-40a8-819c-1eae048d9547\"}, {\"attributes\": {\"line_color\": {\"field\": \"line_color\"}, \"fill_color\": {\"field\": \"color\"}, \"fill_alpha\": {\"field\": \"fill_alpha\"}, \"height\": {\"units\": \"data\", \"field\": \"height\"}, \"width\": {\"units\": \"data\", \"field\": \"width\"}, \"y\": {\"field\": \"y\"}, \"x\": {\"field\": \"x\"}}, \"type\": \"Rect\", \"id\": \"c42cb799-d6f8-436f-a42b-60716d2cdff5\"}, {\"attributes\": {\"callback\": null, \"column_names\": [\"line_color\", \"line_alpha\", \"color\", \"fill_alpha\", \"height\", \"width\", \"y\", \"x\"], \"data\": {\"line_color\": [\"white\"], \"line_alpha\": [1.0], \"chart_index\": [{\"term\": \"exeggutor\"}], \"color\": [\"#f22c40\"], \"fill_alpha\": [0.8], \"term\": [\"exeggutor\"], \"height\": [4.31748811353631], \"width\": [0.8], \"y\": [2.158744056768155], \"x\": [\"exeggutor\"]}}, \"type\": \"ColumnDataSource\", \"id\": \"8aa64f5a-2b94-4c4f-b793-891ab7ef14db\"}, {\"attributes\": {\"callback\": null, \"column_names\": [\"line_color\", \"line_alpha\", \"color\", \"fill_alpha\", \"height\", \"width\", \"y\", \"x\"], \"data\": {\"line_color\": [\"white\"], \"line_alpha\": [1.0], \"chart_index\": [{\"term\": \"golduck\"}], \"color\": [\"#f22c40\"], \"fill_alpha\": [0.8], \"term\": [\"golduck\"], \"height\": [1.0], \"width\": [0.8], \"y\": [0.5], \"x\": [\"golduck\"]}}, \"type\": \"ColumnDataSource\", \"id\": \"e8c2e0f4-b5b3-4366-b736-fd337c1257f2\"}, {\"attributes\": {\"nonselection_glyph\": null, \"data_source\": {\"type\": \"ColumnDataSource\", \"id\": \"8924dae1-1751-4113-b81b-87d5c5a3a231\"}, \"selection_glyph\": null, \"hover_glyph\": null, \"glyph\": {\"type\": \"Rect\", \"id\": \"40517a12-70c1-483b-8427-22bd3c0824b6\"}}, \"type\": \"GlyphRenderer\", \"id\": \"4ef3fab0-95d5-461b-92b6-7956d78c4e76\"}, {\"attributes\": {\"plot\": {\"subtype\": \"Figure\", \"type\": \"Plot\", \"id\": \"3e05992d-3f2a-41ed-bb98-ea172d2b7ea6\"}, \"axis_label\": \"Sparsity\", \"formatter\": {\"type\": \"BasicTickFormatter\", \"id\": \"5b045af2-c72b-4a82-b400-dd05be13db8f\"}, \"ticker\": {\"type\": \"BasicTicker\", \"id\": \"1ed2ef9f-b00a-4cda-b5bc-61a0a815d526\"}}, \"type\": \"LinearAxis\", \"id\": \"f8a2fe1f-86b3-485b-8507-e181af2eb790\"}, {\"attributes\": {}, \"type\": \"BasicTicker\", \"id\": \"1ed2ef9f-b00a-4cda-b5bc-61a0a815d526\"}, {\"attributes\": {\"callback\": null, \"column_names\": [\"line_color\", \"line_alpha\", \"color\", \"fill_alpha\", \"height\", \"width\", \"y\", \"x\"], \"data\": {\"line_color\": [\"white\"], \"line_alpha\": [1.0], \"chart_index\": [{\"term\": \"omanyte\"}], \"color\": [\"#f22c40\"], \"fill_alpha\": [0.8], \"term\": [\"omanyte\"], \"height\": [4.31748811353631], \"width\": [0.8], \"y\": [2.158744056768155], \"x\": [\"omanyte\"]}}, \"type\": \"ColumnDataSource\", \"id\": \"f4504017-4aae-4206-9230-f40be88fd693\"}, {\"attributes\": {\"line_color\": {\"field\": \"line_color\"}, \"fill_color\": {\"field\": \"color\"}, \"fill_alpha\": {\"field\": \"fill_alpha\"}, \"height\": {\"units\": \"data\", \"field\": \"height\"}, \"width\": {\"units\": \"data\", \"field\": \"width\"}, \"y\": {\"field\": \"y\"}, \"x\": {\"field\": \"x\"}}, \"type\": \"Rect\", \"id\": \"d60c2c57-f777-4527-bc32-2edcd3f0523c\"}, {\"attributes\": {\"line_color\": {\"field\": \"line_color\"}, \"fill_color\": {\"field\": \"color\"}, \"fill_alpha\": {\"field\": \"fill_alpha\"}, \"height\": {\"units\": \"data\", \"field\": \"height\"}, \"width\": {\"units\": \"data\", \"field\": \"width\"}, \"y\": {\"field\": \"y\"}, \"x\": {\"field\": \"x\"}}, \"type\": \"Rect\", \"id\": \"249c8755-97d6-4cf7-a44f-7145cefd5d1e\"}, {\"attributes\": {\"line_color\": {\"field\": \"line_color\"}, \"fill_color\": {\"field\": \"color\"}, \"fill_alpha\": {\"field\": \"fill_alpha\"}, \"height\": {\"units\": \"data\", \"field\": \"height\"}, \"width\": {\"units\": \"data\", \"field\": \"width\"}, \"y\": {\"field\": \"y\"}, \"x\": {\"field\": \"x\"}}, \"type\": \"Rect\", \"id\": \"2aa347f8-eb84-42fc-9036-8f54313896bd\"}, {\"attributes\": {\"callback\": null, \"column_names\": [\"line_color\", \"line_alpha\", \"color\", \"fill_alpha\", \"height\", \"width\", \"y\", \"x\"], \"data\": {\"line_color\": [\"white\"], \"line_alpha\": [1.0], \"chart_index\": [{\"term\": \"pidgeot\"}], \"color\": [\"#f22c40\"], \"fill_alpha\": [0.8], \"term\": [\"pidgeot\"], \"height\": [4.31748811353631], \"width\": [0.8], \"y\": [2.158744056768155], \"x\": [\"pidgeot\"]}}, \"type\": \"ColumnDataSource\", \"id\": \"bf2b7b94-f97e-4f30-8fac-f16cefa5c14a\"}, {\"attributes\": {\"nonselection_glyph\": null, \"data_source\": {\"type\": \"ColumnDataSource\", \"id\": \"cfa1fe32-0dd7-4bde-b742-4fe33a881056\"}, \"selection_glyph\": null, \"hover_glyph\": null, \"glyph\": {\"type\": \"Rect\", \"id\": \"2d304fec-c319-4dcd-be5b-fcd5595cba1a\"}}, \"type\": \"GlyphRenderer\", \"id\": \"8178afaf-2a43-40b3-ad52-93df1dd07cee\"}, {\"attributes\": {\"nonselection_glyph\": null, \"data_source\": {\"type\": \"ColumnDataSource\", \"id\": \"eba60d32-a21a-4c1b-9d90-fbc0b5899445\"}, \"selection_glyph\": null, \"hover_glyph\": null, \"glyph\": {\"type\": \"Rect\", \"id\": \"d36b3fe0-e7f3-4b09-9c2b-6fbe39df02ac\"}}, \"type\": \"GlyphRenderer\", \"id\": \"e5c3d7e2-e8da-477f-ad38-cc7a6ecd0e9c\"}, {\"attributes\": {}, \"type\": \"ToolEvents\", \"id\": \"a12bf1a9-85e2-4c11-ae19-d8b7efb6aa84\"}, {\"attributes\": {\"line_color\": {\"field\": \"line_color\"}, \"fill_color\": {\"field\": \"color\"}, \"fill_alpha\": {\"field\": \"fill_alpha\"}, \"height\": {\"units\": \"data\", \"field\": \"height\"}, \"width\": {\"units\": \"data\", \"field\": \"width\"}, \"y\": {\"field\": \"y\"}, \"x\": {\"field\": \"x\"}}, \"type\": \"Rect\", \"id\": \"3dbb0db1-61bb-42e8-a35f-2167076cd6c8\"}, {\"attributes\": {\"line_color\": {\"field\": \"line_color\"}, \"fill_color\": {\"field\": \"color\"}, \"fill_alpha\": {\"field\": \"fill_alpha\"}, \"height\": {\"units\": \"data\", \"field\": \"height\"}, \"width\": {\"units\": \"data\", \"field\": \"width\"}, \"y\": {\"field\": \"y\"}, \"x\": {\"field\": \"x\"}}, \"type\": \"Rect\", \"id\": \"65d7304e-0fb4-4001-98ca-75b3adda5d73\"}, {\"attributes\": {\"nonselection_glyph\": null, \"data_source\": {\"type\": \"ColumnDataSource\", \"id\": \"006ab3df-272e-45b2-bac5-4003872a45fd\"}, \"selection_glyph\": null, \"hover_glyph\": null, \"glyph\": {\"type\": \"Rect\", \"id\": \"8b150cbe-9d9c-4ca5-9fd1-f142098e5b52\"}}, \"type\": \"GlyphRenderer\", \"id\": \"b2d2adbc-958f-4ae3-a175-fcf7ed0499b1\"}, {\"attributes\": {\"callback\": null, \"column_names\": [\"line_color\", \"line_alpha\", \"color\", \"fill_alpha\", \"height\", \"width\", \"y\", \"x\"], \"data\": {\"line_color\": [\"white\"], \"line_alpha\": [1.0], \"chart_index\": [{\"term\": \"seadra\"}], \"color\": [\"#f22c40\"], \"fill_alpha\": [0.8], \"term\": [\"seadra\"], \"height\": [1.0], \"width\": [0.8], \"y\": [0.5], \"x\": [\"seadra\"]}}, \"type\": \"ColumnDataSource\", \"id\": \"335b9ec4-1c31-4cc4-8ed9-ca49cc48f8f9\"}, {\"attributes\": {\"callback\": null, \"column_names\": [\"line_color\", \"line_alpha\", \"color\", \"fill_alpha\", \"height\", \"width\", \"y\", \"x\"], \"data\": {\"line_color\": [\"white\"], \"line_alpha\": [1.0], \"chart_index\": [{\"term\": \"electabuzz\"}], \"color\": [\"#f22c40\"], \"fill_alpha\": [0.8], \"term\": [\"electabuzz\"], \"height\": [1.0], \"width\": [0.8], \"y\": [0.5], \"x\": [\"electabuzz\"]}}, \"type\": \"ColumnDataSource\", \"id\": \"77aea507-5f07-4300-ae24-dbe6055574ac\"}, {\"attributes\": {}, \"type\": \"CategoricalTickFormatter\", \"id\": \"c0ad7cfd-833d-45ad-b5dd-6b248f18ddee\"}, {\"attributes\": {\"plot\": {\"subtype\": \"Figure\", \"type\": \"Plot\", \"id\": \"3e05992d-3f2a-41ed-bb98-ea172d2b7ea6\"}, \"overlay\": {\"type\": \"BoxAnnotation\", \"id\": \"cfc2e727-b088-4899-a2b5-60b708027af0\"}}, \"type\": \"BoxZoomTool\", \"id\": \"c624deba-df7c-4da6-af8c-6cd52642a15d\"}, {\"attributes\": {\"nonselection_glyph\": null, \"data_source\": {\"type\": \"ColumnDataSource\", \"id\": \"39a53b05-1307-404b-9bc7-5b27a1872371\"}, \"selection_glyph\": null, \"hover_glyph\": null, \"glyph\": {\"type\": \"Rect\", \"id\": \"4e4b10cf-22cc-4549-b9d3-2c39748b00f8\"}}, \"type\": \"GlyphRenderer\", \"id\": \"b6330aab-60ab-4c40-99c6-b0533451b616\"}, {\"attributes\": {\"nonselection_glyph\": null, \"data_source\": {\"type\": \"ColumnDataSource\", \"id\": \"485426a6-0724-4fe5-8447-19d55bb23a5a\"}, \"selection_glyph\": null, \"hover_glyph\": null, \"glyph\": {\"type\": \"Rect\", \"id\": \"5815f9a6-3dc0-4d88-95ac-d385d6538182\"}}, \"type\": \"GlyphRenderer\", \"id\": \"6b11601f-f9cd-443d-b0a0-72a1b70feee6\"}, {\"attributes\": {\"nonselection_glyph\": null, \"data_source\": {\"type\": \"ColumnDataSource\", \"id\": \"35ff52b9-9c07-465d-814e-b2191999c1dd\"}, \"selection_glyph\": null, \"hover_glyph\": null, \"glyph\": {\"type\": \"Rect\", \"id\": \"fc0802d0-e428-4799-9d30-6e0005130920\"}}, \"type\": \"GlyphRenderer\", \"id\": \"666bf553-baaa-4aae-bd64-55333aac6fa4\"}, {\"attributes\": {\"callback\": null, \"column_names\": [\"line_color\", \"line_alpha\", \"color\", \"fill_alpha\", \"height\", \"width\", \"y\", \"x\"], \"data\": {\"line_color\": [\"white\"], \"line_alpha\": [1.0], \"chart_index\": [{\"term\": \"diglett\"}], \"color\": [\"#f22c40\"], \"fill_alpha\": [0.8], \"term\": [\"diglett\"], \"height\": [4.31748811353631], \"width\": [0.8], \"y\": [2.158744056768155], \"x\": [\"diglett\"]}}, \"type\": \"ColumnDataSource\", \"id\": \"2cf060c3-abea-4e1f-9dab-94a75ef46120\"}, {\"attributes\": {\"callback\": null, \"column_names\": [\"y\", \"x\"], \"data\": {\"y\": [0.9899, 0.993289183222958, 0.993289183222958, 0.993289183222958, 0.993289183222958, 0.993289183222958, 0.993289183222958, 0.993289183222958, 0.993289183222958], \"x\": [100, 200, 300, 400, 500, 600, 700, 800, 900]}}, \"type\": \"ColumnDataSource\", \"id\": \"c11e5769-b5db-4e88-9683-df5c5dfc4adc\"}, {\"attributes\": {}, \"type\": \"BasicTicker\", \"id\": \"20ea0c11-6c8e-4762-b650-a44968f74ada\"}, {\"attributes\": {\"callback\": null, \"column_names\": [\"line_color\", \"line_alpha\", \"color\", \"fill_alpha\", \"height\", \"width\", \"y\", \"x\"], \"data\": {\"line_color\": [\"white\"], \"line_alpha\": [1.0], \"chart_index\": [{\"term\": \"nidoran\"}], \"color\": [\"#f22c40\"], \"fill_alpha\": [0.8], \"term\": [\"nidoran\"], \"height\": [2.0], \"width\": [0.8], \"y\": [1.0], \"x\": [\"nidoran\"]}}, \"type\": \"ColumnDataSource\", \"id\": \"05654f85-5db7-453a-bc4d-7bf8669f3035\"}, {\"attributes\": {\"line_color\": {\"field\": \"line_color\"}, \"fill_color\": {\"field\": \"color\"}, \"fill_alpha\": {\"field\": \"fill_alpha\"}, \"height\": {\"units\": \"data\", \"field\": \"height\"}, \"width\": {\"units\": \"data\", \"field\": \"width\"}, \"y\": {\"field\": \"y\"}, \"x\": {\"field\": \"x\"}}, \"type\": \"Rect\", \"id\": \"e94f1f69-b9ff-4d5a-af3c-bd67ea98a157\"}, {\"attributes\": {\"callback\": null, \"column_names\": [\"line_color\", \"line_alpha\", \"color\", \"fill_alpha\", \"height\", \"width\", \"y\", \"x\"], \"data\": {\"line_color\": [\"white\"], \"line_alpha\": [1.0], \"chart_index\": [{\"term\": \"ekans\"}], \"color\": [\"#f22c40\"], \"fill_alpha\": [0.8], \"term\": [\"ekans\"], \"height\": [1.0], \"width\": [0.8], \"y\": [0.5], \"x\": [\"ekans\"]}}, \"type\": \"ColumnDataSource\", \"id\": \"a17b48e6-74ef-485e-bc95-0e35ab24d203\"}, {\"attributes\": {\"callback\": null, \"column_names\": [\"line_color\", \"line_alpha\", \"color\", \"fill_alpha\", \"height\", \"width\", \"y\", \"x\"], \"data\": {\"line_color\": [\"white\"], \"line_alpha\": [1.0], \"chart_index\": [{\"term\": \"ivysaur\"}], \"color\": [\"#f22c40\"], \"fill_alpha\": [0.8], \"term\": [\"ivysaur\"], \"height\": [1.0], \"width\": [0.8], \"y\": [0.5], \"x\": [\"ivysaur\"]}}, \"type\": \"ColumnDataSource\", \"id\": \"56bcddaa-26ca-4dd1-aafa-d6a803e9ae61\"}, {\"attributes\": {\"line_color\": {\"field\": \"line_color\"}, \"fill_color\": {\"field\": \"color\"}, \"fill_alpha\": {\"field\": \"fill_alpha\"}, \"height\": {\"units\": \"data\", \"field\": \"height\"}, \"width\": {\"units\": \"data\", \"field\": \"width\"}, \"y\": {\"field\": \"y\"}, \"x\": {\"field\": \"x\"}}, \"type\": \"Rect\", \"id\": \"4e4b10cf-22cc-4549-b9d3-2c39748b00f8\"}, {\"attributes\": {\"nonselection_glyph\": {\"type\": \"Circle\", \"id\": \"d376be00-f614-44b8-8e37-17f920e8f661\"}, \"data_source\": {\"type\": \"ColumnDataSource\", \"id\": \"dae26062-2568-42a2-a85d-d009e5cdfd5c\"}, \"selection_glyph\": null, \"hover_glyph\": null, \"glyph\": {\"type\": \"Circle\", \"id\": \"e6a5bd60-48ed-40e3-ad6c-2331b1ac80ca\"}}, \"type\": \"GlyphRenderer\", \"id\": \"19a7319e-41ff-495f-9a9b-106eebbe8944\"}, {\"attributes\": {\"callback\": null, \"column_names\": [\"line_color\", \"line_alpha\", \"color\", \"fill_alpha\", \"height\", \"width\", \"y\", \"x\"], \"data\": {\"line_color\": [\"white\"], \"line_alpha\": [1.0], \"chart_index\": [{\"term\": \"exeggcute\"}], \"color\": [\"#f22c40\"], \"fill_alpha\": [0.8], \"term\": [\"exeggcute\"], \"height\": [4.31748811353631], \"width\": [0.8], \"y\": [2.158744056768155], \"x\": [\"exeggcute\"]}}, \"type\": \"ColumnDataSource\", \"id\": \"cfa1fe32-0dd7-4bde-b742-4fe33a881056\"}, {\"attributes\": {\"line_color\": {\"field\": \"line_color\"}, \"fill_color\": {\"field\": \"color\"}, \"fill_alpha\": {\"field\": \"fill_alpha\"}, \"height\": {\"units\": \"data\", \"field\": \"height\"}, \"width\": {\"units\": \"data\", \"field\": \"width\"}, \"y\": {\"field\": \"y\"}, \"x\": {\"field\": \"x\"}}, \"type\": \"Rect\", \"id\": \"65086aaf-5000-4ef8-9070-29b0c1576581\"}, {\"attributes\": {\"nonselection_glyph\": null, \"data_source\": {\"type\": \"ColumnDataSource\", \"id\": \"335b9ec4-1c31-4cc4-8ed9-ca49cc48f8f9\"}, \"selection_glyph\": null, \"hover_glyph\": null, \"glyph\": {\"type\": \"Rect\", \"id\": \"f6807626-873e-47e0-9aa2-a9c3c87553d0\"}}, \"type\": \"GlyphRenderer\", \"id\": \"46ba469f-7f07-4aab-b876-60a6b6972d94\"}, {\"attributes\": {\"plot\": {\"subtype\": \"Figure\", \"type\": \"Plot\", \"id\": \"3e05992d-3f2a-41ed-bb98-ea172d2b7ea6\"}}, \"type\": \"PanTool\", \"id\": \"d32b5197-a9cd-48f6-b1cf-73f016d0e4e9\"}, {\"attributes\": {\"nonselection_glyph\": null, \"data_source\": {\"type\": \"ColumnDataSource\", \"id\": \"75b64652-4bfd-4ee8-8b2c-fd0baf81c345\"}, \"selection_glyph\": null, \"hover_glyph\": null, \"glyph\": {\"type\": \"Rect\", \"id\": \"f59f7ab7-9440-4cb8-81ce-251af8405661\"}}, \"type\": \"GlyphRenderer\", \"id\": \"f7bc393c-129d-4e2b-b909-7e03a9e07f4d\"}, {\"attributes\": {\"line_color\": {\"field\": \"line_color\"}, \"fill_color\": {\"field\": \"color\"}, \"fill_alpha\": {\"field\": \"fill_alpha\"}, \"height\": {\"units\": \"data\", \"field\": \"height\"}, \"width\": {\"units\": \"data\", \"field\": \"width\"}, \"y\": {\"field\": \"y\"}, \"x\": {\"field\": \"x\"}}, \"type\": \"Rect\", \"id\": \"dd40ba0f-1947-48c7-a552-a05518b7edd0\"}, {\"attributes\": {\"callback\": null, \"end\": 2.1}, \"type\": \"Range1d\", \"id\": \"b580d0c5-89ce-4b67-9ca8-baf5e4d3fd86\"}, {\"attributes\": {\"x_range\": {\"type\": \"FactorRange\", \"id\": \"0c55bfef-2853-4e27-840a-dc3e55ba1c3a\"}, \"y_mapper_type\": \"auto\", \"title_text_font_size\": {\"value\": \"14pt\"}, \"yscale\": \"auto\", \"y_range\": {\"type\": \"Range1d\", \"id\": \"4e399196-2f53-457f-936c-01aa65292d07\"}, \"x_mapper_type\": \"auto\", \"renderers\": [{\"type\": \"BoxAnnotation\", \"id\": \"3e150ceb-b567-4391-93c7-0006fd5b71d4\"}, {\"type\": \"GlyphRenderer\", \"id\": \"6452cd64-040c-480d-abac-4133709609a9\"}, {\"type\": \"GlyphRenderer\", \"id\": \"930b424d-84b1-48d9-9132-07e66444abfc\"}, {\"type\": \"GlyphRenderer\", \"id\": \"6b11601f-f9cd-443d-b0a0-72a1b70feee6\"}, {\"type\": \"GlyphRenderer\", \"id\": \"f1fadd7f-32c0-4b74-a45f-6987087246d2\"}, {\"type\": \"GlyphRenderer\", \"id\": \"225a3cf1-fc5c-4894-bce6-45b9a2b7bd6d\"}, {\"type\": \"GlyphRenderer\", \"id\": \"e6c22686-6519-4278-8a41-c3533fdf0a16\"}, {\"type\": \"GlyphRenderer\", \"id\": \"6b43b947-e2f5-4d1a-95f9-d33eac4bfba2\"}, {\"type\": \"GlyphRenderer\", \"id\": \"f34889a6-a0dd-49e1-9b81-93c7ab0b4538\"}, {\"type\": \"GlyphRenderer\", \"id\": \"5651885b-fb7f-40aa-9ed2-8840b17c9688\"}, {\"type\": \"GlyphRenderer\", \"id\": \"b879a7a7-f039-48a3-97ef-b58b1c6e6569\"}, {\"type\": \"GlyphRenderer\", \"id\": \"eb468a4d-852e-4a7b-9e69-b9cd4cbdc806\"}, {\"type\": \"GlyphRenderer\", \"id\": \"e37a796e-c345-4903-94a5-557502176d7e\"}, {\"type\": \"GlyphRenderer\", \"id\": \"ea55605c-0303-4caa-8027-ec85e8f0ddfe\"}, {\"type\": \"GlyphRenderer\", \"id\": \"e5c3d7e2-e8da-477f-ad38-cc7a6ecd0e9c\"}, {\"type\": \"GlyphRenderer\", \"id\": \"9f9d333b-26a6-41ca-b146-05dd0d4ed38b\"}, {\"type\": \"GlyphRenderer\", \"id\": \"16ce4b5a-56b6-4638-8a07-73d92961b4d9\"}, {\"type\": \"GlyphRenderer\", \"id\": \"42408c21-4671-496a-9059-72c76e74b419\"}, {\"type\": \"GlyphRenderer\", \"id\": \"37172a16-a50a-4728-9b83-1b732f9f0796\"}, {\"type\": \"GlyphRenderer\", \"id\": \"229f87ee-2ea4-4d01-8907-a3855d6de8ae\"}, {\"type\": \"GlyphRenderer\", \"id\": \"ebe24a1a-77b4-4f49-b173-2238dd940006\"}, {\"type\": \"GlyphRenderer\", \"id\": \"b2d2adbc-958f-4ae3-a175-fcf7ed0499b1\"}, {\"type\": \"GlyphRenderer\", \"id\": \"2b3c0359-a248-4c2f-b181-0a79ad9b7970\"}, {\"type\": \"GlyphRenderer\", \"id\": \"038652b1-32ea-4770-8c17-4a8d003e19e2\"}, {\"type\": \"GlyphRenderer\", \"id\": \"8e089a34-16be-438e-8801-2a84a5a8e07b\"}, {\"type\": \"GlyphRenderer\", \"id\": \"fe5b4f3b-fd46-4728-a67d-75ca61a864d3\"}, {\"type\": \"GlyphRenderer\", \"id\": \"1efc20b4-004c-411f-9217-c516041457e8\"}, {\"type\": \"GlyphRenderer\", \"id\": \"02fef96c-f55a-4fdf-b78d-1fba220404db\"}, {\"type\": \"GlyphRenderer\", \"id\": \"01e64b3a-0bae-4794-a434-eebb28d248cf\"}, {\"type\": \"GlyphRenderer\", \"id\": \"355280a2-804d-4e91-8836-3f47c0d341c1\"}, {\"type\": \"GlyphRenderer\", \"id\": \"3c98a5cb-28c8-46b4-a36c-11954bc0ffb4\"}, {\"type\": \"CategoricalAxis\", \"id\": \"51c756a0-1d49-4df5-8a11-ddfc4af336e4\"}, {\"type\": \"LinearAxis\", \"id\": \"85903f65-02fd-49e6-abe9-e692217e203c\"}, {\"type\": \"Grid\", \"id\": \"d0258ec8-ced1-4231-9f25-7fde9863b465\"}], \"plot_width\": 800, \"xgrid\": false, \"below\": [{\"type\": \"CategoricalAxis\", \"id\": \"51c756a0-1d49-4df5-8a11-ddfc4af336e4\"}], \"tool_events\": {\"type\": \"ToolEvents\", \"id\": \"54f3100b-1423-4728-a3e8-4c0a63143e85\"}, \"plot_height\": 400, \"xscale\": \"auto\", \"tools\": [{\"type\": \"PanTool\", \"id\": \"c658300c-8379-4daf-bd9f-4830de1a4a02\"}, {\"type\": \"WheelZoomTool\", \"id\": \"4c8196a0-08a3-442a-a679-a4448377fd7b\"}, {\"type\": \"BoxZoomTool\", \"id\": \"6de1bcc2-5ad7-434c-8124-75b2d6e39ed7\"}, {\"type\": \"PreviewSaveTool\", \"id\": \"708ace40-ac4c-4712-87be-46d34ac7e8f9\"}, {\"type\": \"ResizeTool\", \"id\": \"eb98878f-653d-45cf-8777-f9c66b6a1429\"}, {\"type\": \"ResetTool\", \"id\": \"27b55bd8-1c11-4e92-a2d0-c195871416ce\"}, {\"type\": \"HelpTool\", \"id\": \"00cb8110-6478-4507-aa33-a9786551b69b\"}], \"legend\": null, \"left\": [{\"type\": \"LinearAxis\", \"id\": \"85903f65-02fd-49e6-abe9-e692217e203c\"}]}, \"type\": \"Plot\", \"id\": \"009283ca-9e1d-4afe-bb23-d21a37a7e3a2\", \"subtype\": \"Chart\"}, {\"attributes\": {\"callback\": null, \"column_names\": [\"line_color\", \"line_alpha\", \"color\", \"fill_alpha\", \"height\", \"width\", \"y\", \"x\"], \"data\": {\"line_color\": [\"white\"], \"line_alpha\": [1.0], \"chart_index\": [{\"term\": \"seadra\"}], \"color\": [\"#f22c40\"], \"fill_alpha\": [0.8], \"term\": [\"seadra\"], \"height\": [1.0], \"width\": [0.8], \"y\": [0.5], \"x\": [\"seadra\"]}}, \"type\": \"ColumnDataSource\", \"id\": \"15ff8fa7-361c-411a-8d02-e320268143bb\"}, {\"attributes\": {\"nonselection_glyph\": null, \"data_source\": {\"type\": \"ColumnDataSource\", \"id\": \"8f8d11c4-6bc1-4e9b-be15-d0dcd385a3ad\"}, \"selection_glyph\": null, \"hover_glyph\": null, \"glyph\": {\"type\": \"Rect\", \"id\": \"ef4abb6c-21d2-4662-8621-6adbc5eac1a2\"}}, \"type\": \"GlyphRenderer\", \"id\": \"422a2e96-3eb1-4bdf-a7ba-1b3779977c33\"}, {\"attributes\": {\"plot\": {\"subtype\": \"Chart\", \"type\": \"Plot\", \"id\": \"9a9ff700-27c5-45a8-935d-05c66cb6e120\"}, \"axis_label\": \"Sum( Freq )\", \"formatter\": {\"type\": \"BasicTickFormatter\", \"id\": \"b6a8e82e-1e2f-4b22-9555-6962d4d7e893\"}, \"ticker\": {\"type\": \"BasicTicker\", \"id\": \"b29ba4fa-4387-4b23-a096-92bfd1559df8\"}}, \"type\": \"LinearAxis\", \"id\": \"54dfd3c1-4dce-44d3-b112-4d8809055c95\"}, {\"attributes\": {\"nonselection_glyph\": null, \"data_source\": {\"type\": \"ColumnDataSource\", \"id\": \"f9b3ae21-a41e-410e-8e2b-cd5d8c07fa9a\"}, \"selection_glyph\": null, \"hover_glyph\": null, \"glyph\": {\"type\": \"Rect\", \"id\": \"fc104bf8-a023-4cd2-93a4-2c22abf9df43\"}}, \"type\": \"GlyphRenderer\", \"id\": \"d40895bf-1f3b-4731-8919-a163baf4c757\"}, {\"attributes\": {\"line_color\": {\"field\": \"line_color\"}, \"fill_color\": {\"field\": \"color\"}, \"fill_alpha\": {\"field\": \"fill_alpha\"}, \"height\": {\"units\": \"data\", \"field\": \"height\"}, \"width\": {\"units\": \"data\", \"field\": \"width\"}, \"y\": {\"field\": \"y\"}, \"x\": {\"field\": \"x\"}}, \"type\": \"Rect\", \"id\": \"78a200c8-80bd-4c5b-8a7c-81f40b89a7f7\"}, {\"attributes\": {\"nonselection_glyph\": null, \"data_source\": {\"type\": \"ColumnDataSource\", \"id\": \"0b26485d-816d-4d66-9fad-aabd87b9e4e0\"}, \"selection_glyph\": null, \"hover_glyph\": null, \"glyph\": {\"type\": \"Rect\", \"id\": \"0f0bfba8-ac1f-4530-9fc1-356c2fed9758\"}}, \"type\": \"GlyphRenderer\", \"id\": \"163bb0fc-7040-4b37-9dc2-690ce2515a2c\"}, {\"attributes\": {}, \"type\": \"CategoricalTicker\", \"id\": \"043a0c75-2503-49a7-8766-e4ef7a0c56ef\"}, {\"attributes\": {\"line_color\": {\"field\": \"line_color\"}, \"fill_color\": {\"field\": \"color\"}, \"fill_alpha\": {\"field\": \"fill_alpha\"}, \"height\": {\"units\": \"data\", \"field\": \"height\"}, \"width\": {\"units\": \"data\", \"field\": \"width\"}, \"y\": {\"field\": \"y\"}, \"x\": {\"field\": \"x\"}}, \"type\": \"Rect\", \"id\": \"5f1a8232-c551-4038-a39f-02d2b26a4d17\"}, {\"attributes\": {}, \"type\": \"BasicTickFormatter\", \"id\": \"5b045af2-c72b-4a82-b400-dd05be13db8f\"}, {\"attributes\": {\"line_color\": {\"field\": \"line_color\"}, \"fill_color\": {\"field\": \"color\"}, \"fill_alpha\": {\"field\": \"fill_alpha\"}, \"height\": {\"units\": \"data\", \"field\": \"height\"}, \"width\": {\"units\": \"data\", \"field\": \"width\"}, \"y\": {\"field\": \"y\"}, \"x\": {\"field\": \"x\"}}, \"type\": \"Rect\", \"id\": \"7ab10350-e880-4430-89fa-546bbf28fa84\"}, {\"attributes\": {\"callback\": null, \"column_names\": [\"line_color\", \"line_alpha\", \"color\", \"fill_alpha\", \"height\", \"width\", \"y\", \"x\"], \"data\": {\"line_color\": [\"white\"], \"line_alpha\": [1.0], \"chart_index\": [{\"term\": \"horsea\"}], \"color\": [\"#f22c40\"], \"fill_alpha\": [0.8], \"term\": [\"horsea\"], \"height\": [4.31748811353631], \"width\": [0.8], \"y\": [2.158744056768155], \"x\": [\"horsea\"]}}, \"type\": \"ColumnDataSource\", \"id\": \"b0862d48-ec09-4363-b9fc-c5b9fdc02d70\"}, {\"attributes\": {\"major_label_orientation\": 0.7853981633974483, \"plot\": {\"subtype\": \"Chart\", \"type\": \"Plot\", \"id\": \"1a80b1af-2437-4248-b6d8-f2987ccdd523\"}, \"axis_label\": \"Term\", \"formatter\": {\"type\": \"CategoricalTickFormatter\", \"id\": \"c0ad7cfd-833d-45ad-b5dd-6b248f18ddee\"}, \"ticker\": {\"type\": \"CategoricalTicker\", \"id\": \"46d1781c-b7d1-480b-aee9-00ec3ec3afab\"}}, \"type\": \"CategoricalAxis\", \"id\": \"12115286-1175-4af9-82a7-81d674eaa376\"}, {\"attributes\": {\"callback\": null}, \"type\": \"DataRange1d\", \"id\": \"66cef98f-34fb-4bb6-905c-7e63922a4ba1\"}, {\"attributes\": {\"nonselection_glyph\": null, \"data_source\": {\"type\": \"ColumnDataSource\", \"id\": \"d316295e-a238-4dfe-a7c8-13b23d828d99\"}, \"selection_glyph\": null, \"hover_glyph\": null, \"glyph\": {\"type\": \"Rect\", \"id\": \"58b34111-21f2-4d8b-8fc9-f9cad19fe547\"}}, \"type\": \"GlyphRenderer\", \"id\": \"9be074a9-c104-4cf8-bd84-00bf4cb787e0\"}, {\"attributes\": {\"plot\": {\"subtype\": \"Chart\", \"type\": \"Plot\", \"id\": \"1a80b1af-2437-4248-b6d8-f2987ccdd523\"}}, \"type\": \"ResetTool\", \"id\": \"6ce7ddcb-b57e-4172-83a4-012c281d0604\"}, {\"attributes\": {\"nonselection_glyph\": null, \"data_source\": {\"type\": \"ColumnDataSource\", \"id\": \"f4504017-4aae-4206-9230-f40be88fd693\"}, \"selection_glyph\": null, \"hover_glyph\": null, \"glyph\": {\"type\": \"Rect\", \"id\": \"80a5aa5c-86af-4e75-8b88-28d377fbf8e6\"}}, \"type\": \"GlyphRenderer\", \"id\": \"45e16cac-541d-4e2e-afd4-4aa391754f80\"}, {\"attributes\": {\"line_color\": {\"field\": \"line_color\"}, \"fill_color\": {\"field\": \"color\"}, \"fill_alpha\": {\"field\": \"fill_alpha\"}, \"height\": {\"units\": \"data\", \"field\": \"height\"}, \"width\": {\"units\": \"data\", \"field\": \"width\"}, \"y\": {\"field\": \"y\"}, \"x\": {\"field\": \"x\"}}, \"type\": \"Rect\", \"id\": \"a76be5dc-b67d-4bd5-b2b9-be9d2032963e\"}, {\"attributes\": {\"nonselection_glyph\": null, \"data_source\": {\"type\": \"ColumnDataSource\", \"id\": \"25cd9065-2119-4fb9-b10c-9eaabc6fab8c\"}, \"selection_glyph\": null, \"hover_glyph\": null, \"glyph\": {\"type\": \"Rect\", \"id\": \"7ab10350-e880-4430-89fa-546bbf28fa84\"}}, \"type\": \"GlyphRenderer\", \"id\": \"31bbb821-46ea-4475-8a5d-f544222245ea\"}, {\"attributes\": {\"nonselection_glyph\": null, \"data_source\": {\"type\": \"ColumnDataSource\", \"id\": \"79104f14-dfe5-43cc-bb7e-1b1c8b0c93fc\"}, \"selection_glyph\": null, \"hover_glyph\": null, \"glyph\": {\"type\": \"Rect\", \"id\": \"d0aaa8c3-c789-4e44-a79c-d5b7ad59cf59\"}}, \"type\": \"GlyphRenderer\", \"id\": \"8da79405-e8d9-4e66-98f5-c99c217bd6d8\"}, {\"attributes\": {\"nonselection_glyph\": null, \"data_source\": {\"type\": \"ColumnDataSource\", \"id\": \"10854c2c-921c-4b7f-a764-f41c0521f9ab\"}, \"selection_glyph\": null, \"hover_glyph\": null, \"glyph\": {\"type\": \"Rect\", \"id\": \"1a4548f5-1761-4544-b794-444f1ad43a70\"}}, \"type\": \"GlyphRenderer\", \"id\": \"9f9d333b-26a6-41ca-b146-05dd0d4ed38b\"}, {\"attributes\": {\"nonselection_glyph\": null, \"data_source\": {\"type\": \"ColumnDataSource\", \"id\": \"6794f5c6-ea5c-44ed-9258-2a6193fbda41\"}, \"selection_glyph\": null, \"hover_glyph\": null, \"glyph\": {\"type\": \"Rect\", \"id\": \"f4389c00-8299-417c-aab2-b4aa1612c0a9\"}}, \"type\": \"GlyphRenderer\", \"id\": \"4381cc5b-2ffc-4694-b07f-5c884c50843e\"}, {\"attributes\": {\"line_color\": {\"field\": \"line_color\"}, \"fill_color\": {\"field\": \"color\"}, \"fill_alpha\": {\"field\": \"fill_alpha\"}, \"height\": {\"units\": \"data\", \"field\": \"height\"}, \"width\": {\"units\": \"data\", \"field\": \"width\"}, \"y\": {\"field\": \"y\"}, \"x\": {\"field\": \"x\"}}, \"type\": \"Rect\", \"id\": \"7b2ae69d-7671-4c64-968a-3db26090854a\"}, {\"attributes\": {\"line_color\": {\"field\": \"line_color\"}, \"fill_color\": {\"field\": \"color\"}, \"fill_alpha\": {\"field\": \"fill_alpha\"}, \"height\": {\"units\": \"data\", \"field\": \"height\"}, \"width\": {\"units\": \"data\", \"field\": \"width\"}, \"y\": {\"field\": \"y\"}, \"x\": {\"field\": \"x\"}}, \"type\": \"Rect\", \"id\": \"9e797086-64ce-401e-878b-d8920a088f54\"}, {\"attributes\": {\"nonselection_glyph\": null, \"data_source\": {\"type\": \"ColumnDataSource\", \"id\": \"3608e321-f4aa-4a53-9a54-d2c69b7b03bc\"}, \"selection_glyph\": null, \"hover_glyph\": null, \"glyph\": {\"type\": \"Rect\", \"id\": \"f6383b4c-541f-42cc-ae87-92683ec8f4b1\"}}, \"type\": \"GlyphRenderer\", \"id\": \"f26ad7fa-d61b-45c1-8555-fcb3c34b61b6\"}, {\"attributes\": {\"plot\": {\"subtype\": \"Figure\", \"type\": \"Plot\", \"id\": \"3e05992d-3f2a-41ed-bb98-ea172d2b7ea6\"}}, \"type\": \"ResetTool\", \"id\": \"02756b06-78f5-436e-a66c-06d2d079f623\"}, {\"attributes\": {\"plot\": {\"subtype\": \"Figure\", \"type\": \"Plot\", \"id\": \"d499a4c7-f5c0-46db-b8b4-c77016838abd\"}, \"ticker\": {\"type\": \"BasicTicker\", \"id\": \"766e07e3-ae13-4e20-bd15-bd3159880d0e\"}, \"dimension\": 1}, \"type\": \"Grid\", \"id\": \"69a36310-eb80-457a-9838-42c78a8394ce\"}, {\"attributes\": {}, \"type\": \"CategoricalTicker\", \"id\": \"46d1781c-b7d1-480b-aee9-00ec3ec3afab\"}, {\"attributes\": {\"callback\": null, \"column_names\": [\"line_color\", \"line_alpha\", \"color\", \"fill_alpha\", \"height\", \"width\", \"y\", \"x\"], \"data\": {\"line_color\": [\"white\"], \"line_alpha\": [1.0], \"chart_index\": [{\"term\": \"ivysaur\"}], \"color\": [\"#f22c40\"], \"fill_alpha\": [0.8], \"term\": [\"ivysaur\"], \"height\": [4.31748811353631], \"width\": [0.8], \"y\": [2.158744056768155], \"x\": [\"ivysaur\"]}}, \"type\": \"ColumnDataSource\", \"id\": \"8924dae1-1751-4113-b81b-87d5c5a3a231\"}, {\"attributes\": {\"nonselection_glyph\": null, \"data_source\": {\"type\": \"ColumnDataSource\", \"id\": \"d55d4dd3-f3e8-4978-b4f3-09f5f598cdae\"}, \"selection_glyph\": null, \"hover_glyph\": null, \"glyph\": {\"type\": \"Rect\", \"id\": \"f406a5ed-2177-4dc1-963e-cae89082fd68\"}}, \"type\": \"GlyphRenderer\", \"id\": \"229f87ee-2ea4-4d01-8907-a3855d6de8ae\"}, {\"attributes\": {\"nonselection_glyph\": null, \"data_source\": {\"type\": \"ColumnDataSource\", \"id\": \"4602c747-b89b-448e-bf52-b56c91fff432\"}, \"selection_glyph\": null, \"hover_glyph\": null, \"glyph\": {\"type\": \"Rect\", \"id\": \"dce6785e-0265-4738-8c81-32fc4700cc7f\"}}, \"type\": \"GlyphRenderer\", \"id\": \"e6c22686-6519-4278-8a41-c3533fdf0a16\"}, {\"attributes\": {\"line_color\": {\"field\": \"line_color\"}, \"fill_color\": {\"field\": \"color\"}, \"fill_alpha\": {\"field\": \"fill_alpha\"}, \"height\": {\"units\": \"data\", \"field\": \"height\"}, \"width\": {\"units\": \"data\", \"field\": \"width\"}, \"y\": {\"field\": \"y\"}, \"x\": {\"field\": \"x\"}}, \"type\": \"Rect\", \"id\": \"2d304fec-c319-4dcd-be5b-fcd5595cba1a\"}, {\"attributes\": {\"line_color\": {\"field\": \"line_color\"}, \"fill_color\": {\"field\": \"color\"}, \"fill_alpha\": {\"field\": \"fill_alpha\"}, \"height\": {\"units\": \"data\", \"field\": \"height\"}, \"width\": {\"units\": \"data\", \"field\": \"width\"}, \"y\": {\"field\": \"y\"}, \"x\": {\"field\": \"x\"}}, \"type\": \"Rect\", \"id\": \"05679515-21c6-4c37-8226-cd75b677018b\"}, {\"attributes\": {\"line_color\": {\"value\": \"black\"}, \"line_alpha\": {\"value\": 1.0}, \"render_mode\": \"css\", \"bottom_units\": \"screen\", \"level\": \"overlay\", \"top_units\": \"screen\", \"fill_alpha\": {\"value\": 0.5}, \"plot\": null, \"left_units\": \"screen\", \"line_dash\": [4, 4], \"line_width\": {\"value\": 2}, \"right_units\": \"screen\", \"fill_color\": {\"value\": \"lightgrey\"}}, \"type\": \"BoxAnnotation\", \"id\": \"f8b72848-f65c-4e15-8a71-27220fb71f47\"}, {\"attributes\": {\"callback\": null, \"column_names\": [\"line_color\", \"line_alpha\", \"color\", \"fill_alpha\", \"height\", \"width\", \"y\", \"x\"], \"data\": {\"line_color\": [\"white\"], \"line_alpha\": [1.0], \"chart_index\": [{\"term\": \"hypno\"}], \"color\": [\"#f22c40\"], \"fill_alpha\": [0.8], \"term\": [\"hypno\"], \"height\": [1.0], \"width\": [0.8], \"y\": [0.5], \"x\": [\"hypno\"]}}, \"type\": \"ColumnDataSource\", \"id\": \"03492791-ab48-46a7-8c2f-d7876af4ad05\"}, {\"attributes\": {\"callback\": null, \"column_names\": [\"line_color\", \"line_alpha\", \"color\", \"fill_alpha\", \"height\", \"width\", \"y\", \"x\"], \"data\": {\"line_color\": [\"white\"], \"line_alpha\": [1.0], \"chart_index\": [{\"term\": \"diglett\"}], \"color\": [\"#f22c40\"], \"fill_alpha\": [0.8], \"term\": [\"diglett\"], \"height\": [1.0], \"width\": [0.8], \"y\": [0.5], \"x\": [\"diglett\"]}}, \"type\": \"ColumnDataSource\", \"id\": \"4602c747-b89b-448e-bf52-b56c91fff432\"}, {\"attributes\": {\"callback\": null, \"column_names\": [\"line_color\", \"line_alpha\", \"color\", \"fill_alpha\", \"height\", \"width\", \"y\", \"x\"], \"data\": {\"line_color\": [\"white\"], \"line_alpha\": [1.0], \"chart_index\": [{\"term\": \"charmeleon\"}], \"color\": [\"#f22c40\"], \"fill_alpha\": [0.8], \"term\": [\"charmeleon\"], \"height\": [4.31748811353631], \"width\": [0.8], \"y\": [2.158744056768155], \"x\": [\"charmeleon\"]}}, \"type\": \"ColumnDataSource\", \"id\": \"b36e7bcb-bb72-4255-aa4a-06707ac9dad8\"}, {\"attributes\": {\"plot\": {\"subtype\": \"Chart\", \"type\": \"Plot\", \"id\": \"9a9ff700-27c5-45a8-935d-05c66cb6e120\"}}, \"type\": \"PreviewSaveTool\", \"id\": \"c5e9744a-ac34-46e7-abf1-02f91a4b6f5b\"}, {\"attributes\": {\"nonselection_glyph\": null, \"data_source\": {\"type\": \"ColumnDataSource\", \"id\": \"b0862d48-ec09-4363-b9fc-c5b9fdc02d70\"}, \"selection_glyph\": null, \"hover_glyph\": null, \"glyph\": {\"type\": \"Rect\", \"id\": \"1376216f-37aa-4eea-a46b-74a7efc80a2e\"}}, \"type\": \"GlyphRenderer\", \"id\": \"3a280839-0582-41c8-b168-b5da3c7aa47a\"}, {\"attributes\": {\"plot\": {\"subtype\": \"Figure\", \"type\": \"Plot\", \"id\": \"d499a4c7-f5c0-46db-b8b4-c77016838abd\"}, \"axis_label\": \"Documents\", \"formatter\": {\"type\": \"BasicTickFormatter\", \"id\": \"a1844ccb-f20e-4cb0-98c4-75213e470633\"}, \"ticker\": {\"type\": \"BasicTicker\", \"id\": \"20ea0c11-6c8e-4762-b650-a44968f74ada\"}}, \"type\": \"LinearAxis\", \"id\": \"46feed31-7bbe-430e-9707-de6caa89e8bc\"}, {\"attributes\": {\"plot\": {\"subtype\": \"Chart\", \"type\": \"Plot\", \"id\": \"9a9ff700-27c5-45a8-935d-05c66cb6e120\"}}, \"type\": \"WheelZoomTool\", \"id\": \"027a455e-d9b7-4ef1-97ca-cd448027d9a1\"}, {\"attributes\": {\"callback\": null, \"column_names\": [\"line_color\", \"line_alpha\", \"color\", \"fill_alpha\", \"height\", \"width\", \"y\", \"x\"], \"data\": {\"line_color\": [\"white\"], \"line_alpha\": [1.0], \"chart_index\": [{\"term\": \"omanyte\"}], \"color\": [\"#f22c40\"], \"fill_alpha\": [0.8], \"term\": [\"omanyte\"], \"height\": [1.0], \"width\": [0.8], \"y\": [0.5], \"x\": [\"omanyte\"]}}, \"type\": \"ColumnDataSource\", \"id\": \"dce364b6-39dd-43ab-bfdc-a6e812231133\"}, {\"attributes\": {\"callback\": null, \"column_names\": [\"line_color\", \"line_alpha\", \"color\", \"fill_alpha\", \"height\", \"width\", \"y\", \"x\"], \"data\": {\"line_color\": [\"white\"], \"line_alpha\": [1.0], \"chart_index\": [{\"term\": \"kabutops\"}], \"color\": [\"#f22c40\"], \"fill_alpha\": [0.8], \"term\": [\"kabutops\"], \"height\": [1.0], \"width\": [0.8], \"y\": [0.5], \"x\": [\"kabutops\"]}}, \"type\": \"ColumnDataSource\", \"id\": \"03aabf8b-6d60-4978-a25e-b91b10861255\"}, {\"attributes\": {\"nonselection_glyph\": null, \"data_source\": {\"type\": \"ColumnDataSource\", \"id\": \"56bcddaa-26ca-4dd1-aafa-d6a803e9ae61\"}, \"selection_glyph\": null, \"hover_glyph\": null, \"glyph\": {\"type\": \"Rect\", \"id\": \"cb504057-5069-4a3c-b9af-b98693d78b2a\"}}, \"type\": \"GlyphRenderer\", \"id\": \"ebe24a1a-77b4-4f49-b173-2238dd940006\"}, {\"attributes\": {\"line_color\": {\"field\": \"line_color\"}, \"fill_color\": {\"field\": \"color\"}, \"fill_alpha\": {\"field\": \"fill_alpha\"}, \"height\": {\"units\": \"data\", \"field\": \"height\"}, \"width\": {\"units\": \"data\", \"field\": \"width\"}, \"y\": {\"field\": \"y\"}, \"x\": {\"field\": \"x\"}}, \"type\": \"Rect\", \"id\": \"80a5aa5c-86af-4e75-8b88-28d377fbf8e6\"}, {\"attributes\": {\"line_color\": {\"field\": \"line_color\"}, \"fill_color\": {\"field\": \"color\"}, \"fill_alpha\": {\"field\": \"fill_alpha\"}, \"height\": {\"units\": \"data\", \"field\": \"height\"}, \"width\": {\"units\": \"data\", \"field\": \"width\"}, \"y\": {\"field\": \"y\"}, \"x\": {\"field\": \"x\"}}, \"type\": \"Rect\", \"id\": \"a362cd4a-9e2f-48e6-8f86-c90ede512aea\"}, {\"attributes\": {}, \"type\": \"ToolEvents\", \"id\": \"d8f5918c-76cf-4a43-8f29-4072983e9871\"}, {\"attributes\": {\"line_color\": {\"value\": \"#1f77b4\"}, \"line_alpha\": {\"value\": 0.1}, \"y\": {\"field\": \"y\"}, \"x\": {\"field\": \"x\"}, \"line_width\": {\"value\": 2}}, \"type\": \"Line\", \"id\": \"02e1f0bc-3bd7-4290-a884-04c9ab42ac55\"}, {\"attributes\": {\"nonselection_glyph\": null, \"data_source\": {\"type\": \"ColumnDataSource\", \"id\": \"e8c2e0f4-b5b3-4366-b736-fd337c1257f2\"}, \"selection_glyph\": null, \"hover_glyph\": null, \"glyph\": {\"type\": \"Rect\", \"id\": \"83d9d25f-654c-4031-af3c-d22a87249aa3\"}}, \"type\": \"GlyphRenderer\", \"id\": \"1d8e9056-536c-4099-af4d-518b15fc6599\"}, {\"attributes\": {}, \"type\": \"BasicTickFormatter\", \"id\": \"a1844ccb-f20e-4cb0-98c4-75213e470633\"}, {\"attributes\": {\"nonselection_glyph\": null, \"data_source\": {\"type\": \"ColumnDataSource\", \"id\": \"493e3a0f-58c6-44b3-878b-8077af93bd04\"}, \"selection_glyph\": null, \"hover_glyph\": null, \"glyph\": {\"type\": \"Rect\", \"id\": \"45b9841b-7cbd-4eaa-bdec-365949502068\"}}, \"type\": \"GlyphRenderer\", \"id\": \"ea55605c-0303-4caa-8027-ec85e8f0ddfe\"}, {\"attributes\": {\"callback\": null, \"column_names\": [\"line_color\", \"line_alpha\", \"color\", \"fill_alpha\", \"height\", \"width\", \"y\", \"x\"], \"data\": {\"line_color\": [\"white\"], \"line_alpha\": [1.0], \"chart_index\": [{\"term\": \"nidoran\"}], \"color\": [\"#f22c40\"], \"fill_alpha\": [0.8], \"term\": [\"nidoran\"], \"height\": [2.0], \"width\": [0.8], \"y\": [1.0], \"x\": [\"nidoran\"]}}, \"type\": \"ColumnDataSource\", \"id\": \"5625f93b-bf4e-48b0-b465-d6dd4d33e219\"}, {\"attributes\": {\"nonselection_glyph\": null, \"data_source\": {\"type\": \"ColumnDataSource\", \"id\": \"0d9fe601-85cd-45cc-94a6-e1206aba3134\"}, \"selection_glyph\": null, \"hover_glyph\": null, \"glyph\": {\"type\": \"Rect\", \"id\": \"915c0ff5-f257-4833-a952-ab9a7a2e2abd\"}}, \"type\": \"GlyphRenderer\", \"id\": \"ea3e6ae4-2f3b-40f4-a7e6-133cefdc16b9\"}, {\"attributes\": {\"plot\": {\"subtype\": \"Chart\", \"type\": \"Plot\", \"id\": \"009283ca-9e1d-4afe-bb23-d21a37a7e3a2\"}}, \"type\": \"ResetTool\", \"id\": \"27b55bd8-1c11-4e92-a2d0-c195871416ce\"}, {\"attributes\": {\"nonselection_glyph\": null, \"data_source\": {\"type\": \"ColumnDataSource\", \"id\": \"5620c6de-7707-4c21-98ce-a523396e1c3f\"}, \"selection_glyph\": null, \"hover_glyph\": null, \"glyph\": {\"type\": \"Rect\", \"id\": \"3dbb0db1-61bb-42e8-a35f-2167076cd6c8\"}}, \"type\": \"GlyphRenderer\", \"id\": \"ba21d822-2a29-47c4-9db6-29139c3e4667\"}, {\"attributes\": {\"nonselection_glyph\": null, \"data_source\": {\"type\": \"ColumnDataSource\", \"id\": \"167219cc-d6d1-4a85-b199-a1508409440f\"}, \"selection_glyph\": null, \"hover_glyph\": null, \"glyph\": {\"type\": \"Rect\", \"id\": \"81ebd47f-3782-44c6-8793-948b08829782\"}}, \"type\": \"GlyphRenderer\", \"id\": \"91e37476-b087-42ac-9151-0f81e866b168\"}, {\"attributes\": {\"callback\": null}, \"type\": \"DataRange1d\", \"id\": \"c43c06f7-f687-49e1-aa83-34ae8b14b83c\"}, {\"attributes\": {\"line_color\": {\"field\": \"line_color\"}, \"fill_color\": {\"field\": \"color\"}, \"fill_alpha\": {\"field\": \"fill_alpha\"}, \"height\": {\"units\": \"data\", \"field\": \"height\"}, \"width\": {\"units\": \"data\", \"field\": \"width\"}, \"y\": {\"field\": \"y\"}, \"x\": {\"field\": \"x\"}}, \"type\": \"Rect\", \"id\": \"5d6134b7-da9a-4eae-881b-56210a7f55ec\"}, {\"attributes\": {\"callback\": null, \"column_names\": [\"line_color\", \"line_alpha\", \"color\", \"fill_alpha\", \"height\", \"width\", \"y\", \"x\"], \"data\": {\"line_color\": [\"white\"], \"line_alpha\": [1.0], \"chart_index\": [{\"term\": \"graveler\"}], \"color\": [\"#f22c40\"], \"fill_alpha\": [0.8], \"term\": [\"graveler\"], \"height\": [4.31748811353631], \"width\": [0.8], \"y\": [2.158744056768155], \"x\": [\"graveler\"]}}, \"type\": \"ColumnDataSource\", \"id\": \"e64d2f73-7737-48c6-92e8-3dc954dab430\"}, {\"attributes\": {\"line_color\": {\"field\": \"line_color\"}, \"fill_color\": {\"field\": \"color\"}, \"fill_alpha\": {\"field\": \"fill_alpha\"}, \"height\": {\"units\": \"data\", \"field\": \"height\"}, \"width\": {\"units\": \"data\", \"field\": \"width\"}, \"y\": {\"field\": \"y\"}, \"x\": {\"field\": \"x\"}}, \"type\": \"Rect\", \"id\": \"ed1cfcda-e1a5-4606-9f74-e1a38044f94f\"}, {\"attributes\": {\"line_color\": {\"field\": \"line_color\"}, \"fill_color\": {\"field\": \"color\"}, \"fill_alpha\": {\"field\": \"fill_alpha\"}, \"height\": {\"units\": \"data\", \"field\": \"height\"}, \"width\": {\"units\": \"data\", \"field\": \"width\"}, \"y\": {\"field\": \"y\"}, \"x\": {\"field\": \"x\"}}, \"type\": \"Rect\", \"id\": \"0e9d24de-144c-45c0-af70-2866aeb0c212\"}, {\"attributes\": {\"callback\": null, \"column_names\": [\"line_color\", \"line_alpha\", \"color\", \"fill_alpha\", \"height\", \"width\", \"y\", \"x\"], \"data\": {\"line_color\": [\"white\"], \"line_alpha\": [1.0], \"chart_index\": [{\"term\": \"exeggutor\"}], \"color\": [\"#f22c40\"], \"fill_alpha\": [0.8], \"term\": [\"exeggutor\"], \"height\": [1.0], \"width\": [0.8], \"y\": [0.5], \"x\": [\"exeggutor\"]}}, \"type\": \"ColumnDataSource\", \"id\": \"7a6f6097-dbec-48cd-a8ea-0745fe4330a2\"}, {\"attributes\": {}, \"type\": \"ToolEvents\", \"id\": \"f6e773e6-c541-418f-9d32-c796ba342345\"}, {\"attributes\": {\"callback\": null, \"column_names\": [\"line_color\", \"line_alpha\", \"color\", \"fill_alpha\", \"height\", \"width\", \"y\", \"x\"], \"data\": {\"line_color\": [\"white\"], \"line_alpha\": [1.0], \"chart_index\": [{\"term\": \"zapdos\"}], \"color\": [\"#f22c40\"], \"fill_alpha\": [0.8], \"term\": [\"zapdos\"], \"height\": [1.0], \"width\": [0.8], \"y\": [0.5], \"x\": [\"zapdos\"]}}, \"type\": \"ColumnDataSource\", \"id\": \"003b8fe9-18ed-4028-855f-25b7a551432a\"}, {\"attributes\": {\"nonselection_glyph\": null, \"data_source\": {\"type\": \"ColumnDataSource\", \"id\": \"ce854528-7f53-491f-a2a5-b007cfd152d5\"}, \"selection_glyph\": null, \"hover_glyph\": null, \"glyph\": {\"type\": \"Rect\", \"id\": \"f483c648-c305-4f6f-ac12-8add1237b5eb\"}}, \"type\": \"GlyphRenderer\", \"id\": \"930b424d-84b1-48d9-9132-07e66444abfc\"}, {\"attributes\": {\"plot\": {\"subtype\": \"Chart\", \"type\": \"Plot\", \"id\": \"009283ca-9e1d-4afe-bb23-d21a37a7e3a2\"}}, \"type\": \"ResizeTool\", \"id\": \"eb98878f-653d-45cf-8777-f9c66b6a1429\"}, {\"attributes\": {\"callback\": null}, \"type\": \"DataRange1d\", \"id\": \"0415e903-abea-4536-92a5-efa25c11e63d\"}, {\"attributes\": {}, \"type\": \"BasicTickFormatter\", \"id\": \"9724295c-f566-4170-9b1a-05accce1c47d\"}, {\"attributes\": {\"callback\": null, \"column_names\": [\"line_color\", \"line_alpha\", \"color\", \"fill_alpha\", \"height\", \"width\", \"y\", \"x\"], \"data\": {\"line_color\": [\"white\"], \"line_alpha\": [1.0], \"chart_index\": [{\"term\": \"dodrio\"}], \"color\": [\"#f22c40\"], \"fill_alpha\": [0.8], \"term\": [\"dodrio\"], \"height\": [1.0], \"width\": [0.8], \"y\": [0.5], \"x\": [\"dodrio\"]}}, \"type\": \"ColumnDataSource\", \"id\": \"0be289cb-0d80-4cba-9f01-bcfb19830ff3\"}, {\"attributes\": {\"plot\": {\"subtype\": \"Chart\", \"type\": \"Plot\", \"id\": \"9a9ff700-27c5-45a8-935d-05c66cb6e120\"}, \"ticker\": {\"type\": \"BasicTicker\", \"id\": \"b29ba4fa-4387-4b23-a096-92bfd1559df8\"}, \"dimension\": 1}, \"type\": \"Grid\", \"id\": \"f3534324-afd9-4934-9a8a-1bb2199c8e8d\"}, {\"attributes\": {\"nonselection_glyph\": null, \"data_source\": {\"type\": \"ColumnDataSource\", \"id\": \"e84f3ac1-1107-4fc3-aaa8-b06b2bcb4cd8\"}, \"selection_glyph\": null, \"hover_glyph\": null, \"glyph\": {\"type\": \"Rect\", \"id\": \"26a4ec75-8683-43a0-8492-17b8d0201c1c\"}}, \"type\": \"GlyphRenderer\", \"id\": \"5ce9ad47-d926-4799-bc6b-8f5669ae21ba\"}, {\"attributes\": {\"line_color\": {\"field\": \"line_color\"}, \"fill_color\": {\"field\": \"color\"}, \"fill_alpha\": {\"field\": \"fill_alpha\"}, \"height\": {\"units\": \"data\", \"field\": \"height\"}, \"width\": {\"units\": \"data\", \"field\": \"width\"}, \"y\": {\"field\": \"y\"}, \"x\": {\"field\": \"x\"}}, \"type\": \"Rect\", \"id\": \"1610e40b-df39-485f-8388-625e9707ad5d\"}, {\"attributes\": {\"callback\": null, \"column_names\": [\"line_color\", \"line_alpha\", \"color\", \"fill_alpha\", \"height\", \"width\", \"y\", \"x\"], \"data\": {\"line_color\": [\"white\"], \"line_alpha\": [1.0], \"chart_index\": [{\"term\": \"nidoking\"}], \"color\": [\"#f22c40\"], \"fill_alpha\": [0.8], \"term\": [\"nidoking\"], \"height\": [1.0], \"width\": [0.8], \"y\": [0.5], \"x\": [\"nidoking\"]}}, \"type\": \"ColumnDataSource\", \"id\": \"d316295e-a238-4dfe-a7c8-13b23d828d99\"}, {\"attributes\": {}, \"type\": \"ToolEvents\", \"id\": \"54f3100b-1423-4728-a3e8-4c0a63143e85\"}, {\"attributes\": {\"callback\": null, \"column_names\": [\"line_color\", \"line_alpha\", \"color\", \"fill_alpha\", \"height\", \"width\", \"y\", \"x\"], \"data\": {\"line_color\": [\"white\"], \"line_alpha\": [1.0], \"chart_index\": [{\"term\": \"voltorb\"}], \"color\": [\"#f22c40\"], \"fill_alpha\": [0.8], \"term\": [\"voltorb\"], \"height\": [1.0], \"width\": [0.8], \"y\": [0.5], \"x\": [\"voltorb\"]}}, \"type\": \"ColumnDataSource\", \"id\": \"25cd9065-2119-4fb9-b10c-9eaabc6fab8c\"}, {\"attributes\": {\"line_color\": {\"field\": \"line_color\"}, \"fill_color\": {\"field\": \"color\"}, \"fill_alpha\": {\"field\": \"fill_alpha\"}, \"height\": {\"units\": \"data\", \"field\": \"height\"}, \"width\": {\"units\": \"data\", \"field\": \"width\"}, \"y\": {\"field\": \"y\"}, \"x\": {\"field\": \"x\"}}, \"type\": \"Rect\", \"id\": \"8b150cbe-9d9c-4ca5-9fd1-f142098e5b52\"}, {\"attributes\": {\"line_color\": {\"field\": \"line_color\"}, \"fill_color\": {\"field\": \"color\"}, \"fill_alpha\": {\"field\": \"fill_alpha\"}, \"height\": {\"units\": \"data\", \"field\": \"height\"}, \"width\": {\"units\": \"data\", \"field\": \"width\"}, \"y\": {\"field\": \"y\"}, \"x\": {\"field\": \"x\"}}, \"type\": \"Rect\", \"id\": \"f483c648-c305-4f6f-ac12-8add1237b5eb\"}, {\"attributes\": {\"callback\": null, \"column_names\": [\"line_color\", \"line_alpha\", \"color\", \"fill_alpha\", \"height\", \"width\", \"y\", \"x\"], \"data\": {\"line_color\": [\"white\"], \"line_alpha\": [1.0], \"chart_index\": [{\"term\": \"pidgeot\"}], \"color\": [\"#f22c40\"], \"fill_alpha\": [0.8], \"term\": [\"pidgeot\"], \"height\": [1.0], \"width\": [0.8], \"y\": [0.5], \"x\": [\"pidgeot\"]}}, \"type\": \"ColumnDataSource\", \"id\": \"46835d7b-8943-4511-8c02-1915468187e0\"}, {\"attributes\": {\"line_color\": {\"value\": \"black\"}, \"line_alpha\": {\"value\": 1.0}, \"render_mode\": \"css\", \"bottom_units\": \"screen\", \"level\": \"overlay\", \"top_units\": \"screen\", \"fill_alpha\": {\"value\": 0.5}, \"plot\": null, \"left_units\": \"screen\", \"line_dash\": [4, 4], \"line_width\": {\"value\": 2}, \"right_units\": \"screen\", \"fill_color\": {\"value\": \"lightgrey\"}}, \"type\": \"BoxAnnotation\", \"id\": \"cfc2e727-b088-4899-a2b5-60b708027af0\"}, {\"attributes\": {\"line_color\": {\"field\": \"line_color\"}, \"fill_color\": {\"field\": \"color\"}, \"fill_alpha\": {\"field\": \"fill_alpha\"}, \"height\": {\"units\": \"data\", \"field\": \"height\"}, \"width\": {\"units\": \"data\", \"field\": \"width\"}, \"y\": {\"field\": \"y\"}, \"x\": {\"field\": \"x\"}}, \"type\": \"Rect\", \"id\": \"40517a12-70c1-483b-8427-22bd3c0824b6\"}, {\"attributes\": {\"callback\": null, \"column_names\": [\"line_color\", \"line_alpha\", \"color\", \"fill_alpha\", \"height\", \"width\", \"y\", \"x\"], \"data\": {\"line_color\": [\"white\"], \"line_alpha\": [1.0], \"chart_index\": [{\"term\": \"caterpie\"}], \"color\": [\"#f22c40\"], \"fill_alpha\": [0.8], \"term\": [\"caterpie\"], \"height\": [4.31748811353631], \"width\": [0.8], \"y\": [2.158744056768155], \"x\": [\"caterpie\"]}}, \"type\": \"ColumnDataSource\", \"id\": \"edcffc65-1e07-4550-b238-a8879ce8b862\"}, {\"attributes\": {\"line_color\": {\"field\": \"line_color\"}, \"fill_color\": {\"field\": \"color\"}, \"fill_alpha\": {\"field\": \"fill_alpha\"}, \"height\": {\"units\": \"data\", \"field\": \"height\"}, \"width\": {\"units\": \"data\", \"field\": \"width\"}, \"y\": {\"field\": \"y\"}, \"x\": {\"field\": \"x\"}}, \"type\": \"Rect\", \"id\": \"58b34111-21f2-4d8b-8fc9-f9cad19fe547\"}, {\"attributes\": {\"line_color\": {\"field\": \"line_color\"}, \"fill_color\": {\"field\": \"color\"}, \"fill_alpha\": {\"field\": \"fill_alpha\"}, \"height\": {\"units\": \"data\", \"field\": \"height\"}, \"width\": {\"units\": \"data\", \"field\": \"width\"}, \"y\": {\"field\": \"y\"}, \"x\": {\"field\": \"x\"}}, \"type\": \"Rect\", \"id\": \"f4389c00-8299-417c-aab2-b4aa1612c0a9\"}, {\"attributes\": {\"callback\": null, \"column_names\": [\"line_color\", \"line_alpha\", \"color\", \"fill_alpha\", \"height\", \"width\", \"y\", \"x\"], \"data\": {\"line_color\": [\"white\"], \"line_alpha\": [1.0], \"chart_index\": [{\"term\": \"diglett\"}], \"color\": [\"#f22c40\"], \"fill_alpha\": [0.8], \"term\": [\"diglett\"], \"height\": [1.0], \"width\": [0.8], \"y\": [0.5], \"x\": [\"diglett\"]}}, \"type\": \"ColumnDataSource\", \"id\": \"4939c385-d7fc-4fb7-a8f5-b4ae72752b72\"}, {\"attributes\": {\"callback\": null, \"column_names\": [\"line_color\", \"line_alpha\", \"color\", \"fill_alpha\", \"height\", \"width\", \"y\", \"x\"], \"data\": {\"line_color\": [\"white\"], \"line_alpha\": [1.0], \"chart_index\": [{\"term\": \"aerodactyl\"}], \"color\": [\"#f22c40\"], \"fill_alpha\": [0.8], \"term\": [\"aerodactyl\"], \"height\": [1.0], \"width\": [0.8], \"y\": [0.5], \"x\": [\"aerodactyl\"]}}, \"type\": \"ColumnDataSource\", \"id\": \"39a53b05-1307-404b-9bc7-5b27a1872371\"}, {\"attributes\": {\"x_range\": {\"type\": \"DataRange1d\", \"id\": \"0415e903-abea-4536-92a5-efa25c11e63d\"}, \"y_range\": {\"type\": \"DataRange1d\", \"id\": \"c43c06f7-f687-49e1-aa83-34ae8b14b83c\"}, \"renderers\": [{\"type\": \"LinearAxis\", \"id\": \"d2cc53fb-28af-4c5c-a7ad-593c62b36050\"}, {\"type\": \"Grid\", \"id\": \"ff261ab3-e54d-42ba-b00b-cbf77d80d796\"}, {\"type\": \"LinearAxis\", \"id\": \"f8a2fe1f-86b3-485b-8507-e181af2eb790\"}, {\"type\": \"Grid\", \"id\": \"9821cde8-cc98-4f25-a043-8742c74d057d\"}, {\"type\": \"BoxAnnotation\", \"id\": \"cfc2e727-b088-4899-a2b5-60b708027af0\"}, {\"type\": \"GlyphRenderer\", \"id\": \"a12e42e4-a8cc-4a8c-975c-e7c6754fb945\"}, {\"type\": \"GlyphRenderer\", \"id\": \"3c89debf-0427-4661-8d8e-4d92f7ed9228\"}], \"plot_width\": 400, \"below\": [{\"type\": \"LinearAxis\", \"id\": \"d2cc53fb-28af-4c5c-a7ad-593c62b36050\"}], \"tool_events\": {\"type\": \"ToolEvents\", \"id\": \"d8f5918c-76cf-4a43-8f29-4072983e9871\"}, \"plot_height\": 400, \"tools\": [{\"type\": \"PanTool\", \"id\": \"d32b5197-a9cd-48f6-b1cf-73f016d0e4e9\"}, {\"type\": \"WheelZoomTool\", \"id\": \"445a253c-9a76-4ce5-a5cf-735786b06a80\"}, {\"type\": \"BoxZoomTool\", \"id\": \"c624deba-df7c-4da6-af8c-6cd52642a15d\"}, {\"type\": \"PreviewSaveTool\", \"id\": \"64516698-7377-4069-b1b9-044ac0c530e4\"}, {\"type\": \"ResizeTool\", \"id\": \"edb37007-977b-4213-a272-dc05c7a34504\"}, {\"type\": \"ResetTool\", \"id\": \"02756b06-78f5-436e-a66c-06d2d079f623\"}, {\"type\": \"HelpTool\", \"id\": \"eed5acca-3b9a-47e0-a16a-8c69ed7eb2ab\"}], \"left\": [{\"type\": \"LinearAxis\", \"id\": \"f8a2fe1f-86b3-485b-8507-e181af2eb790\"}]}, \"type\": \"Plot\", \"id\": \"3e05992d-3f2a-41ed-bb98-ea172d2b7ea6\", \"subtype\": \"Figure\"}, {\"attributes\": {}, \"type\": \"BasicTicker\", \"id\": \"b29ba4fa-4387-4b23-a096-92bfd1559df8\"}, {\"attributes\": {\"callback\": null, \"column_names\": [\"line_color\", \"line_alpha\", \"color\", \"fill_alpha\", \"height\", \"width\", \"y\", \"x\"], \"data\": {\"line_color\": [\"white\"], \"line_alpha\": [1.0], \"chart_index\": [{\"term\": \"horsea\"}], \"color\": [\"#f22c40\"], \"fill_alpha\": [0.8], \"term\": [\"horsea\"], \"height\": [1.0], \"width\": [0.8], \"y\": [0.5], \"x\": [\"horsea\"]}}, \"type\": \"ColumnDataSource\", \"id\": \"ad1866d3-c328-42f7-be40-75e7231b014e\"}, {\"attributes\": {\"line_color\": {\"field\": \"line_color\"}, \"fill_color\": {\"field\": \"color\"}, \"fill_alpha\": {\"field\": \"fill_alpha\"}, \"height\": {\"units\": \"data\", \"field\": \"height\"}, \"width\": {\"units\": \"data\", \"field\": \"width\"}, \"y\": {\"field\": \"y\"}, \"x\": {\"field\": \"x\"}}, \"type\": \"Rect\", \"id\": \"f6807626-873e-47e0-9aa2-a9c3c87553d0\"}, {\"attributes\": {\"line_color\": {\"field\": \"line_color\"}, \"fill_color\": {\"field\": \"color\"}, \"fill_alpha\": {\"field\": \"fill_alpha\"}, \"height\": {\"units\": \"data\", \"field\": \"height\"}, \"width\": {\"units\": \"data\", \"field\": \"width\"}, \"y\": {\"field\": \"y\"}, \"x\": {\"field\": \"x\"}}, \"type\": \"Rect\", \"id\": \"51a2b7a0-aac5-4216-a82b-8f786e6cf0c4\"}, {\"attributes\": {\"nonselection_glyph\": null, \"data_source\": {\"type\": \"ColumnDataSource\", \"id\": \"66c1b56c-9b7d-4b88-8afb-ecfec15218db\"}, \"selection_glyph\": null, \"hover_glyph\": null, \"glyph\": {\"type\": \"Rect\", \"id\": \"7eaa1249-f2b4-45a2-b676-5bb42ea1b7a7\"}}, \"type\": \"GlyphRenderer\", \"id\": \"eb468a4d-852e-4a7b-9e69-b9cd4cbdc806\"}, {\"attributes\": {\"nonselection_glyph\": null, \"data_source\": {\"type\": \"ColumnDataSource\", \"id\": \"0ffa9160-44a0-4151-b04e-1e062841a6ec\"}, \"selection_glyph\": null, \"hover_glyph\": null, \"glyph\": {\"type\": \"Rect\", \"id\": \"62657c95-623c-4a96-b7f6-4b397dcccb93\"}}, \"type\": \"GlyphRenderer\", \"id\": \"0d9fb1a4-04dc-4734-be4b-98b687ca5faa\"}, {\"attributes\": {\"line_color\": {\"field\": \"line_color\"}, \"fill_color\": {\"field\": \"color\"}, \"fill_alpha\": {\"field\": \"fill_alpha\"}, \"height\": {\"units\": \"data\", \"field\": \"height\"}, \"width\": {\"units\": \"data\", \"field\": \"width\"}, \"y\": {\"field\": \"y\"}, \"x\": {\"field\": \"x\"}}, \"type\": \"Rect\", \"id\": \"b3d96fbc-3a6e-44e4-9f8c-b8fdcdc9326d\"}, {\"attributes\": {\"nonselection_glyph\": null, \"data_source\": {\"type\": \"ColumnDataSource\", \"id\": \"4939c385-d7fc-4fb7-a8f5-b4ae72752b72\"}, \"selection_glyph\": null, \"hover_glyph\": null, \"glyph\": {\"type\": \"Rect\", \"id\": \"0ca4930d-e76d-4f8d-8ff5-82dda6475b4d\"}}, \"type\": \"GlyphRenderer\", \"id\": \"36ba2337-f456-4b0e-bbfb-4ddf16a15485\"}, {\"attributes\": {\"plot\": {\"subtype\": \"Figure\", \"type\": \"Plot\", \"id\": \"d499a4c7-f5c0-46db-b8b4-c77016838abd\"}}, \"type\": \"PanTool\", \"id\": \"1c5af385-1ab7-421b-97f1-af6d4ea335fb\"}, {\"attributes\": {\"callback\": null, \"column_names\": [\"line_color\", \"line_alpha\", \"color\", \"fill_alpha\", \"height\", \"width\", \"y\", \"x\"], \"data\": {\"line_color\": [\"white\"], \"line_alpha\": [1.0], \"chart_index\": [{\"term\": \"golduck\"}], \"color\": [\"#f22c40\"], \"fill_alpha\": [0.8], \"term\": [\"golduck\"], \"height\": [1.0], \"width\": [0.8], \"y\": [0.5], \"x\": [\"golduck\"]}}, \"type\": \"ColumnDataSource\", \"id\": \"66c1b56c-9b7d-4b88-8afb-ecfec15218db\"}, {\"attributes\": {\"nonselection_glyph\": {\"type\": \"Line\", \"id\": \"c1b025ea-208f-449f-8991-2c68988e67ac\"}, \"data_source\": {\"type\": \"ColumnDataSource\", \"id\": \"b2a8f008-b5c5-43a4-89f5-5cd34e2bf7c6\"}, \"selection_glyph\": null, \"hover_glyph\": null, \"glyph\": {\"type\": \"Line\", \"id\": \"4a2aefaf-6215-4a5e-b67c-341b75866bb4\"}}, \"type\": \"GlyphRenderer\", \"id\": \"a12e42e4-a8cc-4a8c-975c-e7c6754fb945\"}, {\"attributes\": {\"x_range\": {\"type\": \"FactorRange\", \"id\": \"52595782-6a5b-4990-89dd-38447989e5e8\"}, \"y_mapper_type\": \"auto\", \"title_text_font_size\": {\"value\": \"14pt\"}, \"yscale\": \"auto\", \"y_range\": {\"type\": \"Range1d\", \"id\": \"49ba418a-4359-4085-b05a-024ab3ac1f2a\"}, \"x_mapper_type\": \"auto\", \"renderers\": [{\"type\": \"BoxAnnotation\", \"id\": \"b41f983f-cb94-4cc6-b2db-328f0bdce183\"}, {\"type\": \"GlyphRenderer\", \"id\": \"0d9fb1a4-04dc-4734-be4b-98b687ca5faa\"}, {\"type\": \"GlyphRenderer\", \"id\": \"9e476bd0-405c-4131-8258-b07bcc1eb041\"}, {\"type\": \"GlyphRenderer\", \"id\": \"e9c0b496-42a5-4c4a-9a17-8567cb986446\"}, {\"type\": \"GlyphRenderer\", \"id\": \"0dd9c335-64ae-40a6-b82c-ff91e8e8a7ec\"}, {\"type\": \"GlyphRenderer\", \"id\": \"b0c9a336-4abf-4293-bdfa-77fa011fb83d\"}, {\"type\": \"GlyphRenderer\", \"id\": \"08dc9632-74ca-40bd-a4d8-2ad6271b3de8\"}, {\"type\": \"GlyphRenderer\", \"id\": \"2b810337-078b-4c69-b98d-8214cc3d5393\"}, {\"type\": \"GlyphRenderer\", \"id\": \"666bf553-baaa-4aae-bd64-55333aac6fa4\"}, {\"type\": \"GlyphRenderer\", \"id\": \"3a280839-0582-41c8-b168-b5da3c7aa47a\"}, {\"type\": \"GlyphRenderer\", \"id\": \"81c23ee4-c5d8-4c06-9a69-1f4b2150d865\"}, {\"type\": \"GlyphRenderer\", \"id\": \"95e5a3f5-5fe9-4890-a4e7-8b2afd1a8c50\"}, {\"type\": \"GlyphRenderer\", \"id\": \"45e16cac-541d-4e2e-afd4-4aa391754f80\"}, {\"type\": \"GlyphRenderer\", \"id\": \"1b88d51d-a1cd-4242-a940-8fc132f4b5c4\"}, {\"type\": \"GlyphRenderer\", \"id\": \"80bb6ecd-9520-47d6-8b04-654109687130\"}, {\"type\": \"GlyphRenderer\", \"id\": \"8178afaf-2a43-40b3-ad52-93df1dd07cee\"}, {\"type\": \"GlyphRenderer\", \"id\": \"b1eb3463-4d67-4f97-a55d-ff4723da5805\"}, {\"type\": \"GlyphRenderer\", \"id\": \"828f978b-b72e-4f08-89d4-b518bc05b96b\"}, {\"type\": \"GlyphRenderer\", \"id\": \"163bb0fc-7040-4b37-9dc2-690ce2515a2c\"}, {\"type\": \"GlyphRenderer\", \"id\": \"5ce9ad47-d926-4799-bc6b-8f5669ae21ba\"}, {\"type\": \"GlyphRenderer\", \"id\": \"4ef3fab0-95d5-461b-92b6-7956d78c4e76\"}, {\"type\": \"GlyphRenderer\", \"id\": \"77e3e9da-0edd-46b9-b696-ff0f5b1cb05f\"}, {\"type\": \"GlyphRenderer\", \"id\": \"91e37476-b087-42ac-9151-0f81e866b168\"}, {\"type\": \"GlyphRenderer\", \"id\": \"ea3e6ae4-2f3b-40f4-a7e6-133cefdc16b9\"}, {\"type\": \"GlyphRenderer\", \"id\": \"1ef1ffa4-f598-4adf-a316-c64498fb86c0\"}, {\"type\": \"GlyphRenderer\", \"id\": \"f7bc393c-129d-4e2b-b909-7e03a9e07f4d\"}, {\"type\": \"GlyphRenderer\", \"id\": \"4381cc5b-2ffc-4694-b07f-5c884c50843e\"}, {\"type\": \"GlyphRenderer\", \"id\": \"8509fe35-2f31-483f-a09a-030b4dcf809d\"}, {\"type\": \"GlyphRenderer\", \"id\": \"33f93c46-9317-4e7c-908c-0c39b3f35101\"}, {\"type\": \"GlyphRenderer\", \"id\": \"d40895bf-1f3b-4731-8919-a163baf4c757\"}, {\"type\": \"GlyphRenderer\", \"id\": \"ecabd126-d04a-42c8-8368-e08f364a8238\"}, {\"type\": \"CategoricalAxis\", \"id\": \"12115286-1175-4af9-82a7-81d674eaa376\"}, {\"type\": \"LinearAxis\", \"id\": \"6addf687-19e0-4a37-9075-4082f91bdfd3\"}, {\"type\": \"Grid\", \"id\": \"c9dad71d-afa0-4944-baf6-6217723e45d1\"}], \"plot_width\": 800, \"xgrid\": false, \"below\": [{\"type\": \"CategoricalAxis\", \"id\": \"12115286-1175-4af9-82a7-81d674eaa376\"}], \"tool_events\": {\"type\": \"ToolEvents\", \"id\": \"336a7b0c-a067-4ebe-a81e-093f573be370\"}, \"plot_height\": 400, \"xscale\": \"auto\", \"tools\": [{\"type\": \"PanTool\", \"id\": \"3b77f9c0-06e2-4ce9-b682-cf33c504c771\"}, {\"type\": \"WheelZoomTool\", \"id\": \"6162cc3c-1f58-4718-baa2-9c2275278f02\"}, {\"type\": \"BoxZoomTool\", \"id\": \"8dedca9a-9570-482a-a150-2d31060f6011\"}, {\"type\": \"PreviewSaveTool\", \"id\": \"971ee4bf-1a32-4cf6-af94-5b49a29360fd\"}, {\"type\": \"ResizeTool\", \"id\": \"49e940f5-b06f-4b95-9cd5-28a914ea9108\"}, {\"type\": \"ResetTool\", \"id\": \"6ce7ddcb-b57e-4172-83a4-012c281d0604\"}, {\"type\": \"HelpTool\", \"id\": \"2c4a79a9-0eb8-4b0f-93a0-8677ba334573\"}], \"legend\": null, \"left\": [{\"type\": \"LinearAxis\", \"id\": \"6addf687-19e0-4a37-9075-4082f91bdfd3\"}]}, \"type\": \"Plot\", \"id\": \"1a80b1af-2437-4248-b6d8-f2987ccdd523\", \"subtype\": \"Chart\"}, {\"attributes\": {\"nonselection_glyph\": null, \"data_source\": {\"type\": \"ColumnDataSource\", \"id\": \"7a6f6097-dbec-48cd-a8ea-0745fe4330a2\"}, \"selection_glyph\": null, \"hover_glyph\": null, \"glyph\": {\"type\": \"Rect\", \"id\": \"4c7dcbd1-598e-4944-b0c5-e6a8ad5da6e2\"}}, \"type\": \"GlyphRenderer\", \"id\": \"4c8b1807-c831-48ae-a0c3-f2d9bc5e9830\"}, {\"attributes\": {\"callback\": null, \"column_names\": [\"line_color\", \"line_alpha\", \"color\", \"fill_alpha\", \"height\", \"width\", \"y\", \"x\"], \"data\": {\"line_color\": [\"white\"], \"line_alpha\": [1.0], \"chart_index\": [{\"term\": \"clefairy\"}], \"color\": [\"#f22c40\"], \"fill_alpha\": [0.8], \"term\": [\"clefairy\"], \"height\": [4.31748811353631], \"width\": [0.8], \"y\": [2.158744056768155], \"x\": [\"clefairy\"]}}, \"type\": \"ColumnDataSource\", \"id\": \"36c0ca0f-8417-46a2-8f1b-347eb31b089e\"}, {\"attributes\": {\"callback\": null, \"column_names\": [\"line_color\", \"line_alpha\", \"color\", \"fill_alpha\", \"height\", \"width\", \"y\", \"x\"], \"data\": {\"line_color\": [\"white\"], \"line_alpha\": [1.0], \"chart_index\": [{\"term\": \"ditto\"}], \"color\": [\"#f22c40\"], \"fill_alpha\": [0.8], \"term\": [\"ditto\"], \"height\": [4.31748811353631], \"width\": [0.8], \"y\": [2.158744056768155], \"x\": [\"ditto\"]}}, \"type\": \"ColumnDataSource\", \"id\": \"6794f5c6-ea5c-44ed-9258-2a6193fbda41\"}, {\"attributes\": {\"plot\": {\"subtype\": \"Chart\", \"type\": \"Plot\", \"id\": \"1a80b1af-2437-4248-b6d8-f2987ccdd523\"}}, \"type\": \"PreviewSaveTool\", \"id\": \"971ee4bf-1a32-4cf6-af94-5b49a29360fd\"}, {\"attributes\": {\"nonselection_glyph\": null, \"data_source\": {\"type\": \"ColumnDataSource\", \"id\": \"708de7f1-3a63-454d-8549-0e8530e5a838\"}, \"selection_glyph\": null, \"hover_glyph\": null, \"glyph\": {\"type\": \"Rect\", \"id\": \"bee8ef1d-3e8e-42f3-950d-b436fc32d374\"}}, \"type\": \"GlyphRenderer\", \"id\": \"5651885b-fb7f-40aa-9ed2-8840b17c9688\"}, {\"attributes\": {\"callback\": null, \"column_names\": [\"line_color\", \"line_alpha\", \"color\", \"fill_alpha\", \"height\", \"width\", \"y\", \"x\"], \"data\": {\"line_color\": [\"white\"], \"line_alpha\": [1.0], \"chart_index\": [{\"term\": \"mr\"}], \"color\": [\"#f22c40\"], \"fill_alpha\": [0.8], \"term\": [\"mr\"], \"height\": [1.0], \"width\": [0.8], \"y\": [0.5], \"x\": [\"mr\"]}}, \"type\": \"ColumnDataSource\", \"id\": \"93c867ae-4afc-4886-b4b8-0d8bfa2c9769\"}, {\"attributes\": {\"callback\": null, \"column_names\": [\"line_color\", \"line_alpha\", \"color\", \"fill_alpha\", \"height\", \"width\", \"y\", \"x\"], \"data\": {\"line_color\": [\"white\"], \"line_alpha\": [1.0], \"chart_index\": [{\"term\": \"aerodactyl\"}], \"color\": [\"#f22c40\"], \"fill_alpha\": [0.8], \"term\": [\"aerodactyl\"], \"height\": [1.0], \"width\": [0.8], \"y\": [0.5], \"x\": [\"aerodactyl\"]}}, \"type\": \"ColumnDataSource\", \"id\": \"493e3a0f-58c6-44b3-878b-8077af93bd04\"}, {\"attributes\": {\"line_color\": {\"field\": \"line_color\"}, \"fill_color\": {\"field\": \"color\"}, \"fill_alpha\": {\"field\": \"fill_alpha\"}, \"height\": {\"units\": \"data\", \"field\": \"height\"}, \"width\": {\"units\": \"data\", \"field\": \"width\"}, \"y\": {\"field\": \"y\"}, \"x\": {\"field\": \"x\"}}, \"type\": \"Rect\", \"id\": \"e1c926ee-7c06-4400-8dd1-6988c3b38748\"}, {\"attributes\": {\"nonselection_glyph\": null, \"data_source\": {\"type\": \"ColumnDataSource\", \"id\": \"1241b951-b76e-4c76-af97-2601f0a99256\"}, \"selection_glyph\": null, \"hover_glyph\": null, \"glyph\": {\"type\": \"Rect\", \"id\": \"05679515-21c6-4c37-8226-cd75b677018b\"}}, \"type\": \"GlyphRenderer\", \"id\": \"3a0736b0-b577-40f2-a535-9b8c5ee6f322\"}, {\"attributes\": {\"plot\": {\"subtype\": \"Chart\", \"type\": \"Plot\", \"id\": \"1a80b1af-2437-4248-b6d8-f2987ccdd523\"}}, \"type\": \"PanTool\", \"id\": \"3b77f9c0-06e2-4ce9-b682-cf33c504c771\"}, {\"attributes\": {\"line_color\": {\"value\": \"black\"}, \"line_alpha\": {\"value\": 1.0}, \"render_mode\": \"css\", \"bottom_units\": \"screen\", \"level\": \"overlay\", \"top_units\": \"screen\", \"fill_alpha\": {\"value\": 0.5}, \"plot\": null, \"left_units\": \"screen\", \"line_dash\": [4, 4], \"line_width\": {\"value\": 2}, \"right_units\": \"screen\", \"fill_color\": {\"value\": \"lightgrey\"}}, \"type\": \"BoxAnnotation\", \"id\": \"3e150ceb-b567-4391-93c7-0006fd5b71d4\"}, {\"attributes\": {\"nonselection_glyph\": null, \"data_source\": {\"type\": \"ColumnDataSource\", \"id\": \"93c867ae-4afc-4886-b4b8-0d8bfa2c9769\"}, \"selection_glyph\": null, \"hover_glyph\": null, \"glyph\": {\"type\": \"Rect\", \"id\": \"0e9d24de-144c-45c0-af70-2866aeb0c212\"}}, \"type\": \"GlyphRenderer\", \"id\": \"42408c21-4671-496a-9059-72c76e74b419\"}, {\"attributes\": {}, \"type\": \"BasicTicker\", \"id\": \"0674bb85-1166-40ad-ba62-b57e21cd8dc5\"}, {\"attributes\": {\"nonselection_glyph\": null, \"data_source\": {\"type\": \"ColumnDataSource\", \"id\": \"03aabf8b-6d60-4978-a25e-b91b10861255\"}, \"selection_glyph\": null, \"hover_glyph\": null, \"glyph\": {\"type\": \"Rect\", \"id\": \"a4925224-d5db-46b4-8a9e-425f1823045c\"}}, \"type\": \"GlyphRenderer\", \"id\": \"16ce4b5a-56b6-4638-8a07-73d92961b4d9\"}, {\"attributes\": {\"nonselection_glyph\": null, \"data_source\": {\"type\": \"ColumnDataSource\", \"id\": \"edcffc65-1e07-4550-b238-a8879ce8b862\"}, \"selection_glyph\": null, \"hover_glyph\": null, \"glyph\": {\"type\": \"Rect\", \"id\": \"d16c12b9-f59d-482c-a50e-034ac4dd247c\"}}, \"type\": \"GlyphRenderer\", \"id\": \"b0c9a336-4abf-4293-bdfa-77fa011fb83d\"}, {\"attributes\": {\"nonselection_glyph\": null, \"data_source\": {\"type\": \"ColumnDataSource\", \"id\": \"0be289cb-0d80-4cba-9f01-bcfb19830ff3\"}, \"selection_glyph\": null, \"hover_glyph\": null, \"glyph\": {\"type\": \"Rect\", \"id\": \"35c60446-3e3a-421d-8519-b64eb5bbc73a\"}}, \"type\": \"GlyphRenderer\", \"id\": \"cac988e5-6122-4390-9266-b9068b7dbf8c\"}, {\"attributes\": {\"line_color\": {\"field\": \"line_color\"}, \"fill_color\": {\"field\": \"color\"}, \"fill_alpha\": {\"field\": \"fill_alpha\"}, \"height\": {\"units\": \"data\", \"field\": \"height\"}, \"width\": {\"units\": \"data\", \"field\": \"width\"}, \"y\": {\"field\": \"y\"}, \"x\": {\"field\": \"x\"}}, \"type\": \"Rect\", \"id\": \"f51b8f68-7d5e-42e6-8b19-f64c75d341b4\"}, {\"attributes\": {\"major_label_orientation\": 0.7853981633974483, \"plot\": {\"subtype\": \"Chart\", \"type\": \"Plot\", \"id\": \"9a9ff700-27c5-45a8-935d-05c66cb6e120\"}, \"axis_label\": \"Term\", \"formatter\": {\"type\": \"CategoricalTickFormatter\", \"id\": \"b153f168-9d0d-40a0-bddd-cfbfbc017dcc\"}, \"ticker\": {\"type\": \"CategoricalTicker\", \"id\": \"043a0c75-2503-49a7-8766-e4ef7a0c56ef\"}}, \"type\": \"CategoricalAxis\", \"id\": \"60aba8ae-64e4-436f-bd48-de87f78621f7\"}, {\"attributes\": {\"line_color\": {\"field\": \"line_color\"}, \"fill_color\": {\"field\": \"color\"}, \"fill_alpha\": {\"field\": \"fill_alpha\"}, \"height\": {\"units\": \"data\", \"field\": \"height\"}, \"width\": {\"units\": \"data\", \"field\": \"width\"}, \"y\": {\"field\": \"y\"}, \"x\": {\"field\": \"x\"}}, \"type\": \"Rect\", \"id\": \"81ebd47f-3782-44c6-8793-948b08829782\"}, {\"attributes\": {\"nonselection_glyph\": null, \"data_source\": {\"type\": \"ColumnDataSource\", \"id\": \"dce364b6-39dd-43ab-bfdc-a6e812231133\"}, \"selection_glyph\": null, \"hover_glyph\": null, \"glyph\": {\"type\": \"Rect\", \"id\": \"e94f1f69-b9ff-4d5a-af3c-bd67ea98a157\"}}, \"type\": \"GlyphRenderer\", \"id\": \"e37a796e-c345-4903-94a5-557502176d7e\"}, {\"attributes\": {\"plot\": {\"subtype\": \"Chart\", \"type\": \"Plot\", \"id\": \"009283ca-9e1d-4afe-bb23-d21a37a7e3a2\"}}, \"type\": \"HelpTool\", \"id\": \"00cb8110-6478-4507-aa33-a9786551b69b\"}, {\"attributes\": {\"callback\": null, \"column_names\": [\"line_color\", \"line_alpha\", \"color\", \"fill_alpha\", \"height\", \"width\", \"y\", \"x\"], \"data\": {\"line_color\": [\"white\"], \"line_alpha\": [1.0], \"chart_index\": [{\"term\": \"sandshrew\"}], \"color\": [\"#f22c40\"], \"fill_alpha\": [0.8], \"term\": [\"sandshrew\"], \"height\": [4.31748811353631], \"width\": [0.8], \"y\": [2.158744056768155], \"x\": [\"sandshrew\"]}}, \"type\": \"ColumnDataSource\", \"id\": \"b419906a-e145-4da8-b4af-56008775cf63\"}, {\"attributes\": {\"line_color\": {\"field\": \"line_color\"}, \"fill_color\": {\"field\": \"color\"}, \"fill_alpha\": {\"field\": \"fill_alpha\"}, \"height\": {\"units\": \"data\", \"field\": \"height\"}, \"width\": {\"units\": \"data\", \"field\": \"width\"}, \"y\": {\"field\": \"y\"}, \"x\": {\"field\": \"x\"}}, \"type\": \"Rect\", \"id\": \"dce6785e-0265-4738-8c81-32fc4700cc7f\"}, {\"attributes\": {\"x_range\": {\"type\": \"DataRange1d\", \"id\": \"ee6875d5-d2a9-4f62-88ee-5a3873cba7bc\"}, \"y_range\": {\"type\": \"DataRange1d\", \"id\": \"66cef98f-34fb-4bb6-905c-7e63922a4ba1\"}, \"renderers\": [{\"type\": \"LinearAxis\", \"id\": \"46feed31-7bbe-430e-9707-de6caa89e8bc\"}, {\"type\": \"Grid\", \"id\": \"36fbbd41-b9a5-4fb7-bc9d-015871f80207\"}, {\"type\": \"LinearAxis\", \"id\": \"7c034e3f-f676-4073-ac44-6d90ec0c698f\"}, {\"type\": \"Grid\", \"id\": \"69a36310-eb80-457a-9838-42c78a8394ce\"}, {\"type\": \"BoxAnnotation\", \"id\": \"ca8b0fcb-6c65-4b5b-ba76-335bb4cf5869\"}, {\"type\": \"GlyphRenderer\", \"id\": \"49fde0f9-9674-4d0b-b1a1-ad3a16366f45\"}, {\"type\": \"GlyphRenderer\", \"id\": \"19a7319e-41ff-495f-9a9b-106eebbe8944\"}], \"plot_width\": 400, \"below\": [{\"type\": \"LinearAxis\", \"id\": \"46feed31-7bbe-430e-9707-de6caa89e8bc\"}], \"tool_events\": {\"type\": \"ToolEvents\", \"id\": \"a12bf1a9-85e2-4c11-ae19-d8b7efb6aa84\"}, \"plot_height\": 400, \"tools\": [{\"type\": \"PanTool\", \"id\": \"1c5af385-1ab7-421b-97f1-af6d4ea335fb\"}, {\"type\": \"WheelZoomTool\", \"id\": \"a86b02a1-d7c4-4317-b5df-9c84c52a078a\"}, {\"type\": \"BoxZoomTool\", \"id\": \"09c04c1b-516d-4ea8-81c4-a79ad37429a7\"}, {\"type\": \"PreviewSaveTool\", \"id\": \"c02c8ee7-73a5-4f79-b8af-bba1a6dcf520\"}, {\"type\": \"ResizeTool\", \"id\": \"fe512b6c-8f61-4a00-bd51-d4ff17ba1ffd\"}, {\"type\": \"ResetTool\", \"id\": \"151e8dd8-f816-43ea-a048-1bb609becd43\"}, {\"type\": \"HelpTool\", \"id\": \"8f1ece75-b92c-49db-af1e-ea828db7f045\"}], \"left\": [{\"type\": \"LinearAxis\", \"id\": \"7c034e3f-f676-4073-ac44-6d90ec0c698f\"}]}, \"type\": \"Plot\", \"id\": \"d499a4c7-f5c0-46db-b8b4-c77016838abd\", \"subtype\": \"Figure\"}, {\"attributes\": {\"nonselection_glyph\": {\"type\": \"Circle\", \"id\": \"a05c15b2-4dbf-43fb-9538-7a13c4cda711\"}, \"data_source\": {\"type\": \"ColumnDataSource\", \"id\": \"c11e5769-b5db-4e88-9683-df5c5dfc4adc\"}, \"selection_glyph\": null, \"hover_glyph\": null, \"glyph\": {\"type\": \"Circle\", \"id\": \"6360eb4c-4b7c-4fc1-bcfe-d6d7379fc54a\"}}, \"type\": \"GlyphRenderer\", \"id\": \"3c89debf-0427-4661-8d8e-4d92f7ed9228\"}, {\"attributes\": {\"nonselection_glyph\": null, \"data_source\": {\"type\": \"ColumnDataSource\", \"id\": \"d8c35ff4-c51c-4c0e-aa9a-2d47500c003d\"}, \"selection_glyph\": null, \"hover_glyph\": null, \"glyph\": {\"type\": \"Rect\", \"id\": \"9e797086-64ce-401e-878b-d8920a088f54\"}}, \"type\": \"GlyphRenderer\", \"id\": \"828f978b-b72e-4f08-89d4-b518bc05b96b\"}, {\"attributes\": {\"plot\": {\"subtype\": \"Chart\", \"type\": \"Plot\", \"id\": \"009283ca-9e1d-4afe-bb23-d21a37a7e3a2\"}}, \"type\": \"PreviewSaveTool\", \"id\": \"708ace40-ac4c-4712-87be-46d34ac7e8f9\"}, {\"attributes\": {\"nonselection_glyph\": null, \"data_source\": {\"type\": \"ColumnDataSource\", \"id\": \"5e62dd76-0a5d-4978-8d4c-36a77144ff9e\"}, \"selection_glyph\": null, \"hover_glyph\": null, \"glyph\": {\"type\": \"Rect\", \"id\": \"7b2ae69d-7671-4c64-968a-3db26090854a\"}}, \"type\": \"GlyphRenderer\", \"id\": \"02fef96c-f55a-4fdf-b78d-1fba220404db\"}, {\"attributes\": {\"plot\": {\"subtype\": \"Chart\", \"type\": \"Plot\", \"id\": \"9a9ff700-27c5-45a8-935d-05c66cb6e120\"}}, \"type\": \"ResizeTool\", \"id\": \"05e3adee-605e-4ec9-93ac-5960a85f37c9\"}, {\"attributes\": {\"nonselection_glyph\": null, \"data_source\": {\"type\": \"ColumnDataSource\", \"id\": \"e2425d1b-73c1-428a-878d-5756b921f728\"}, \"selection_glyph\": null, \"hover_glyph\": null, \"glyph\": {\"type\": \"Rect\", \"id\": \"7965f248-9cab-4819-a602-6bb1321abcb4\"}}, \"type\": \"GlyphRenderer\", \"id\": \"2b810337-078b-4c69-b98d-8214cc3d5393\"}, {\"attributes\": {\"line_color\": {\"field\": \"line_color\"}, \"fill_color\": {\"field\": \"color\"}, \"fill_alpha\": {\"field\": \"fill_alpha\"}, \"height\": {\"units\": \"data\", \"field\": \"height\"}, \"width\": {\"units\": \"data\", \"field\": \"width\"}, \"y\": {\"field\": \"y\"}, \"x\": {\"field\": \"x\"}}, \"type\": \"Rect\", \"id\": \"002561a1-bc4b-4bf3-b092-6d4b597c4db5\"}, {\"attributes\": {\"callback\": null, \"factors\": [\"nidoran\", \"charmeleon\", \"sandshrew\", \"graveler\", \"caterpie\", \"diglett\", \"hypno\", \"machoke\", \"horsea\", \"exeggutor\", \"golduck\", \"omanyte\", \"aerodactyl\", \"pidgeot\", \"exeggcute\", \"kabutops\", \"mr\", \"cubone\", \"drowzee\", \"ivysaur\", \"clefairy\", \"electabuzz\", \"dodrio\", \"ekans\", \"seadra\", \"ditto\", \"nidoking\", \"zapdos\", \"voltorb\", \"jolteon\"]}, \"type\": \"FactorRange\", \"id\": \"52595782-6a5b-4990-89dd-38447989e5e8\"}, {\"attributes\": {\"callback\": null, \"column_names\": [\"line_color\", \"line_alpha\", \"color\", \"fill_alpha\", \"height\", \"width\", \"y\", \"x\"], \"data\": {\"line_color\": [\"white\"], \"line_alpha\": [1.0], \"chart_index\": [{\"term\": \"hypno\"}], \"color\": [\"#f22c40\"], \"fill_alpha\": [0.8], \"term\": [\"hypno\"], \"height\": [4.31748811353631], \"width\": [0.8], \"y\": [2.158744056768155], \"x\": [\"hypno\"]}}, \"type\": \"ColumnDataSource\", \"id\": \"e2425d1b-73c1-428a-878d-5756b921f728\"}, {\"attributes\": {\"line_color\": {\"field\": \"line_color\"}, \"fill_color\": {\"field\": \"color\"}, \"fill_alpha\": {\"field\": \"fill_alpha\"}, \"height\": {\"units\": \"data\", \"field\": \"height\"}, \"width\": {\"units\": \"data\", \"field\": \"width\"}, \"y\": {\"field\": \"y\"}, \"x\": {\"field\": \"x\"}}, \"type\": \"Rect\", \"id\": \"722ab473-6184-4cbc-8442-d499994b2388\"}, {\"attributes\": {\"plot\": {\"subtype\": \"Chart\", \"type\": \"Plot\", \"id\": \"9a9ff700-27c5-45a8-935d-05c66cb6e120\"}}, \"type\": \"PanTool\", \"id\": \"9f2ebc9e-73cc-4c62-a515-9aa2c7e1af8a\"}, {\"attributes\": {\"nonselection_glyph\": {\"type\": \"Line\", \"id\": \"02e1f0bc-3bd7-4290-a884-04c9ab42ac55\"}, \"data_source\": {\"type\": \"ColumnDataSource\", \"id\": \"b5390e8d-164a-452a-b825-b599105182a0\"}, \"selection_glyph\": null, \"hover_glyph\": null, \"glyph\": {\"type\": \"Line\", \"id\": \"b30603fc-da40-45c9-9d0a-dc3a00a38b3f\"}}, \"type\": \"GlyphRenderer\", \"id\": \"49fde0f9-9674-4d0b-b1a1-ad3a16366f45\"}, {\"attributes\": {\"nonselection_glyph\": null, \"data_source\": {\"type\": \"ColumnDataSource\", \"id\": \"15ff8fa7-361c-411a-8d02-e320268143bb\"}, \"selection_glyph\": null, \"hover_glyph\": null, \"glyph\": {\"type\": \"Rect\", \"id\": \"c42cb799-d6f8-436f-a42b-60716d2cdff5\"}}, \"type\": \"GlyphRenderer\", \"id\": \"fe5b4f3b-fd46-4728-a67d-75ca61a864d3\"}, {\"attributes\": {\"line_color\": {\"field\": \"line_color\"}, \"fill_color\": {\"field\": \"color\"}, \"fill_alpha\": {\"field\": \"fill_alpha\"}, \"height\": {\"units\": \"data\", \"field\": \"height\"}, \"width\": {\"units\": \"data\", \"field\": \"width\"}, \"y\": {\"field\": \"y\"}, \"x\": {\"field\": \"x\"}}, \"type\": \"Rect\", \"id\": \"ba342899-94af-4291-88f5-a54f40c00ea2\"}, {\"attributes\": {\"callback\": null, \"column_names\": [\"line_color\", \"line_alpha\", \"color\", \"fill_alpha\", \"height\", \"width\", \"y\", \"x\"], \"data\": {\"line_color\": [\"white\"], \"line_alpha\": [1.0], \"chart_index\": [{\"term\": \"drowzee\"}], \"color\": [\"#f22c40\"], \"fill_alpha\": [0.8], \"term\": [\"drowzee\"], \"height\": [1.0], \"width\": [0.8], \"y\": [0.5], \"x\": [\"drowzee\"]}}, \"type\": \"ColumnDataSource\", \"id\": \"d55d4dd3-f3e8-4978-b4f3-09f5f598cdae\"}, {\"attributes\": {\"callback\": null, \"column_names\": [\"line_color\", \"line_alpha\", \"color\", \"fill_alpha\", \"height\", \"width\", \"y\", \"x\"], \"data\": {\"line_color\": [\"white\"], \"line_alpha\": [1.0], \"chart_index\": [{\"term\": \"graveler\"}], \"color\": [\"#f22c40\"], \"fill_alpha\": [0.8], \"term\": [\"graveler\"], \"height\": [1.0], \"width\": [0.8], \"y\": [0.5], \"x\": [\"graveler\"]}}, \"type\": \"ColumnDataSource\", \"id\": \"5620c6de-7707-4c21-98ce-a523396e1c3f\"}, {\"attributes\": {\"plot\": {\"subtype\": \"Chart\", \"type\": \"Plot\", \"id\": \"9a9ff700-27c5-45a8-935d-05c66cb6e120\"}}, \"type\": \"ResetTool\", \"id\": \"ced2b1d9-58a1-4b63-9fa4-8d4610996d2d\"}, {\"attributes\": {\"line_color\": {\"field\": \"line_color\"}, \"fill_color\": {\"field\": \"color\"}, \"fill_alpha\": {\"field\": \"fill_alpha\"}, \"height\": {\"units\": \"data\", \"field\": \"height\"}, \"width\": {\"units\": \"data\", \"field\": \"width\"}, \"y\": {\"field\": \"y\"}, \"x\": {\"field\": \"x\"}}, \"type\": \"Rect\", \"id\": \"94e5402a-f07b-4de5-a0a3-7aafbf59f9f3\"}, {\"attributes\": {\"callback\": null, \"column_names\": [\"line_color\", \"line_alpha\", \"color\", \"fill_alpha\", \"height\", \"width\", \"y\", \"x\"], \"data\": {\"line_color\": [\"white\"], \"line_alpha\": [1.0], \"chart_index\": [{\"term\": \"horsea\"}], \"color\": [\"#f22c40\"], \"fill_alpha\": [0.8], \"term\": [\"horsea\"], \"height\": [1.0], \"width\": [0.8], \"y\": [0.5], \"x\": [\"horsea\"]}}, \"type\": \"ColumnDataSource\", \"id\": \"708de7f1-3a63-454d-8549-0e8530e5a838\"}, {\"attributes\": {\"line_color\": {\"value\": \"#1f77b4\"}, \"line_width\": {\"value\": 2}, \"y\": {\"field\": \"y\"}, \"x\": {\"field\": \"x\"}}, \"type\": \"Line\", \"id\": \"4a2aefaf-6215-4a5e-b67c-341b75866bb4\"}, {\"attributes\": {\"line_color\": {\"field\": \"line_color\"}, \"fill_color\": {\"field\": \"color\"}, \"fill_alpha\": {\"field\": \"fill_alpha\"}, \"height\": {\"units\": \"data\", \"field\": \"height\"}, \"width\": {\"units\": \"data\", \"field\": \"width\"}, \"y\": {\"field\": \"y\"}, \"x\": {\"field\": \"x\"}}, \"type\": \"Rect\", \"id\": \"668d0bea-b2dc-42b1-a717-8ec2977bd040\"}, {\"attributes\": {\"callback\": null, \"column_names\": [\"line_color\", \"line_alpha\", \"color\", \"fill_alpha\", \"height\", \"width\", \"y\", \"x\"], \"data\": {\"line_color\": [\"white\"], \"line_alpha\": [1.0], \"chart_index\": [{\"term\": \"drowzee\"}], \"color\": [\"#f22c40\"], \"fill_alpha\": [0.8], \"term\": [\"drowzee\"], \"height\": [4.31748811353631], \"width\": [0.8], \"y\": [2.158744056768155], \"x\": [\"drowzee\"]}}, \"type\": \"ColumnDataSource\", \"id\": \"e84f3ac1-1107-4fc3-aaa8-b06b2bcb4cd8\"}, {\"attributes\": {\"nonselection_glyph\": null, \"data_source\": {\"type\": \"ColumnDataSource\", \"id\": \"bf2b7b94-f97e-4f30-8fac-f16cefa5c14a\"}, \"selection_glyph\": null, \"hover_glyph\": null, \"glyph\": {\"type\": \"Rect\", \"id\": \"b3d96fbc-3a6e-44e4-9f8c-b8fdcdc9326d\"}}, \"type\": \"GlyphRenderer\", \"id\": \"80bb6ecd-9520-47d6-8b04-654109687130\"}, {\"attributes\": {\"plot\": {\"subtype\": \"Chart\", \"type\": \"Plot\", \"id\": \"009283ca-9e1d-4afe-bb23-d21a37a7e3a2\"}, \"ticker\": {\"type\": \"BasicTicker\", \"id\": \"9270c947-a19c-4448-8aca-83f2ca7a78ca\"}, \"dimension\": 1}, \"type\": \"Grid\", \"id\": \"d0258ec8-ced1-4231-9f25-7fde9863b465\"}, {\"attributes\": {\"nonselection_glyph\": null, \"data_source\": {\"type\": \"ColumnDataSource\", \"id\": \"5f4576f7-3d9b-4844-8978-f144ce5f3fc1\"}, \"selection_glyph\": null, \"hover_glyph\": null, \"glyph\": {\"type\": \"Rect\", \"id\": \"264fa879-8b67-45e6-abdd-a64228e03d6a\"}}, \"type\": \"GlyphRenderer\", \"id\": \"33f93c46-9317-4e7c-908c-0c39b3f35101\"}, {\"attributes\": {\"callback\": null, \"column_names\": [\"line_color\", \"line_alpha\", \"color\", \"fill_alpha\", \"height\", \"width\", \"y\", \"x\"], \"data\": {\"line_color\": [\"white\"], \"line_alpha\": [1.0], \"chart_index\": [{\"term\": \"jolteon\"}], \"color\": [\"#f22c40\"], \"fill_alpha\": [0.8], \"term\": [\"jolteon\"], \"height\": [1.0], \"width\": [0.8], \"y\": [0.5], \"x\": [\"jolteon\"]}}, \"type\": \"ColumnDataSource\", \"id\": \"1f7865c9-ea97-4e0b-8aa5-9ea17cac4150\"}, {\"attributes\": {\"line_color\": {\"value\": \"#1f77b4\"}, \"x\": {\"field\": \"x\"}, \"y\": {\"field\": \"y\"}, \"fill_color\": {\"value\": \"white\"}, \"size\": {\"units\": \"screen\", \"value\": 8}}, \"type\": \"Circle\", \"id\": \"e6a5bd60-48ed-40e3-ad6c-2331b1ac80ca\"}, {\"attributes\": {\"callback\": null, \"column_names\": [\"line_color\", \"line_alpha\", \"color\", \"fill_alpha\", \"height\", \"width\", \"y\", \"x\"], \"data\": {\"line_color\": [\"white\"], \"line_alpha\": [1.0], \"chart_index\": [{\"term\": \"clefairy\"}], \"color\": [\"#f22c40\"], \"fill_alpha\": [0.8], \"term\": [\"clefairy\"], \"height\": [1.0], \"width\": [0.8], \"y\": [0.5], \"x\": [\"clefairy\"]}}, \"type\": \"ColumnDataSource\", \"id\": \"8f8d11c4-6bc1-4e9b-be15-d0dcd385a3ad\"}, {\"attributes\": {\"plot\": {\"subtype\": \"Chart\", \"type\": \"Plot\", \"id\": \"1a80b1af-2437-4248-b6d8-f2987ccdd523\"}, \"axis_label\": \"Sum( Idf )\", \"formatter\": {\"type\": \"BasicTickFormatter\", \"id\": \"105c158a-ac5f-4b43-851a-11326d840c6c\"}, \"ticker\": {\"type\": \"BasicTicker\", \"id\": \"bb862bf5-f1b1-4519-b824-4d977252f4bc\"}}, \"type\": \"LinearAxis\", \"id\": \"6addf687-19e0-4a37-9075-4082f91bdfd3\"}, {\"attributes\": {\"callback\": null, \"column_names\": [\"line_color\", \"line_alpha\", \"color\", \"fill_alpha\", \"height\", \"width\", \"y\", \"x\"], \"data\": {\"line_color\": [\"white\"], \"line_alpha\": [1.0], \"chart_index\": [{\"term\": \"cubone\"}], \"color\": [\"#f22c40\"], \"fill_alpha\": [0.8], \"term\": [\"cubone\"], \"height\": [1.0], \"width\": [0.8], \"y\": [0.5], \"x\": [\"cubone\"]}}, \"type\": \"ColumnDataSource\", \"id\": \"a98c627a-5e2d-41d2-b9da-7b5496fb8e8a\"}, {\"attributes\": {\"nonselection_glyph\": null, \"data_source\": {\"type\": \"ColumnDataSource\", \"id\": \"2cf060c3-abea-4e1f-9dab-94a75ef46120\"}, \"selection_glyph\": null, \"hover_glyph\": null, \"glyph\": {\"type\": \"Rect\", \"id\": \"1941192f-b3be-47aa-bc99-8ee0138c32e1\"}}, \"type\": \"GlyphRenderer\", \"id\": \"08dc9632-74ca-40bd-a4d8-2ad6271b3de8\"}, {\"attributes\": {\"callback\": null, \"column_names\": [\"line_color\", \"line_alpha\", \"color\", \"fill_alpha\", \"height\", \"width\", \"y\", \"x\"], \"data\": {\"line_color\": [\"white\"], \"line_alpha\": [1.0], \"chart_index\": [{\"term\": \"graveler\"}], \"color\": [\"#f22c40\"], \"fill_alpha\": [0.8], \"term\": [\"graveler\"], \"height\": [1.0], \"width\": [0.8], \"y\": [0.5], \"x\": [\"graveler\"]}}, \"type\": \"ColumnDataSource\", \"id\": \"8d33b224-0a88-437a-ab52-9207685c12ce\"}, {\"attributes\": {\"line_color\": {\"field\": \"line_color\"}, \"fill_color\": {\"field\": \"color\"}, \"fill_alpha\": {\"field\": \"fill_alpha\"}, \"height\": {\"units\": \"data\", \"field\": \"height\"}, \"width\": {\"units\": \"data\", \"field\": \"width\"}, \"y\": {\"field\": \"y\"}, \"x\": {\"field\": \"x\"}}, \"type\": \"Rect\", \"id\": \"45b9841b-7cbd-4eaa-bdec-365949502068\"}, {\"attributes\": {\"plot\": {\"subtype\": \"Figure\", \"type\": \"Plot\", \"id\": \"3e05992d-3f2a-41ed-bb98-ea172d2b7ea6\"}, \"ticker\": {\"type\": \"BasicTicker\", \"id\": \"1ed2ef9f-b00a-4cda-b5bc-61a0a815d526\"}, \"dimension\": 1}, \"type\": \"Grid\", \"id\": \"9821cde8-cc98-4f25-a043-8742c74d057d\"}, {\"attributes\": {\"callback\": null, \"column_names\": [\"line_color\", \"line_alpha\", \"color\", \"fill_alpha\", \"height\", \"width\", \"y\", \"x\"], \"data\": {\"line_color\": [\"white\"], \"line_alpha\": [1.0], \"chart_index\": [{\"term\": \"ekans\"}], \"color\": [\"#f22c40\"], \"fill_alpha\": [0.8], \"term\": [\"ekans\"], \"height\": [1.0], \"width\": [0.8], \"y\": [0.5], \"x\": [\"ekans\"]}}, \"type\": \"ColumnDataSource\", \"id\": \"806884fb-f346-4591-a171-91b64d6d6e4e\"}, {\"attributes\": {\"line_color\": {\"field\": \"line_color\"}, \"fill_color\": {\"field\": \"color\"}, \"fill_alpha\": {\"field\": \"fill_alpha\"}, \"height\": {\"units\": \"data\", \"field\": \"height\"}, \"width\": {\"units\": \"data\", \"field\": \"width\"}, \"y\": {\"field\": \"y\"}, \"x\": {\"field\": \"x\"}}, \"type\": \"Rect\", \"id\": \"bee8ef1d-3e8e-42f3-950d-b436fc32d374\"}, {\"attributes\": {\"line_color\": {\"field\": \"line_color\"}, \"fill_color\": {\"field\": \"color\"}, \"fill_alpha\": {\"field\": \"fill_alpha\"}, \"height\": {\"units\": \"data\", \"field\": \"height\"}, \"width\": {\"units\": \"data\", \"field\": \"width\"}, \"y\": {\"field\": \"y\"}, \"x\": {\"field\": \"x\"}}, \"type\": \"Rect\", \"id\": \"ca3209ba-1fc2-4839-be3a-50d952c8fc6c\"}, {\"attributes\": {\"nonselection_glyph\": null, \"data_source\": {\"type\": \"ColumnDataSource\", \"id\": \"b36e7bcb-bb72-4255-aa4a-06707ac9dad8\"}, \"selection_glyph\": null, \"hover_glyph\": null, \"glyph\": {\"type\": \"Rect\", \"id\": \"ed1cfcda-e1a5-4606-9f74-e1a38044f94f\"}}, \"type\": \"GlyphRenderer\", \"id\": \"9e476bd0-405c-4131-8258-b07bcc1eb041\"}, {\"attributes\": {\"callback\": null, \"column_names\": [\"line_color\", \"line_alpha\", \"color\", \"fill_alpha\", \"height\", \"width\", \"y\", \"x\"], \"data\": {\"line_color\": [\"white\"], \"line_alpha\": [1.0], \"chart_index\": [{\"term\": \"voltorb\"}], \"color\": [\"#f22c40\"], \"fill_alpha\": [0.8], \"term\": [\"voltorb\"], \"height\": [4.31748811353631], \"width\": [0.8], \"y\": [2.158744056768155], \"x\": [\"voltorb\"]}}, \"type\": \"ColumnDataSource\", \"id\": \"f9b3ae21-a41e-410e-8e2b-cd5d8c07fa9a\"}, {\"attributes\": {\"line_color\": {\"field\": \"line_color\"}, \"fill_color\": {\"field\": \"color\"}, \"fill_alpha\": {\"field\": \"fill_alpha\"}, \"height\": {\"units\": \"data\", \"field\": \"height\"}, \"width\": {\"units\": \"data\", \"field\": \"width\"}, \"y\": {\"field\": \"y\"}, \"x\": {\"field\": \"x\"}}, \"type\": \"Rect\", \"id\": \"1376216f-37aa-4eea-a46b-74a7efc80a2e\"}, {\"attributes\": {\"nonselection_glyph\": null, \"data_source\": {\"type\": \"ColumnDataSource\", \"id\": \"ad1866d3-c328-42f7-be40-75e7231b014e\"}, \"selection_glyph\": null, \"hover_glyph\": null, \"glyph\": {\"type\": \"Rect\", \"id\": \"93ef72f9-6bbf-449c-a534-fe16069c33e2\"}}, \"type\": \"GlyphRenderer\", \"id\": \"02e6924e-1d10-436a-a25d-2ffa77a77c4b\"}, {\"attributes\": {\"line_color\": {\"field\": \"line_color\"}, \"fill_color\": {\"field\": \"color\"}, \"fill_alpha\": {\"field\": \"fill_alpha\"}, \"height\": {\"units\": \"data\", \"field\": \"height\"}, \"width\": {\"units\": \"data\", \"field\": \"width\"}, \"y\": {\"field\": \"y\"}, \"x\": {\"field\": \"x\"}}, \"type\": \"Rect\", \"id\": \"83d9d25f-654c-4031-af3c-d22a87249aa3\"}, {\"attributes\": {\"line_color\": {\"field\": \"line_color\"}, \"fill_color\": {\"field\": \"color\"}, \"fill_alpha\": {\"field\": \"fill_alpha\"}, \"height\": {\"units\": \"data\", \"field\": \"height\"}, \"width\": {\"units\": \"data\", \"field\": \"width\"}, \"y\": {\"field\": \"y\"}, \"x\": {\"field\": \"x\"}}, \"type\": \"Rect\", \"id\": \"9d88c256-036d-4385-a304-452ce3d042e3\"}, {\"attributes\": {\"line_color\": {\"field\": \"line_color\"}, \"fill_color\": {\"field\": \"color\"}, \"fill_alpha\": {\"field\": \"fill_alpha\"}, \"height\": {\"units\": \"data\", \"field\": \"height\"}, \"width\": {\"units\": \"data\", \"field\": \"width\"}, \"y\": {\"field\": \"y\"}, \"x\": {\"field\": \"x\"}}, \"type\": \"Rect\", \"id\": \"7eaa1249-f2b4-45a2-b676-5bb42ea1b7a7\"}, {\"attributes\": {\"plot\": {\"subtype\": \"Figure\", \"type\": \"Plot\", \"id\": \"d499a4c7-f5c0-46db-b8b4-c77016838abd\"}}, \"type\": \"HelpTool\", \"id\": \"8f1ece75-b92c-49db-af1e-ea828db7f045\"}, {\"attributes\": {\"major_label_orientation\": 0.7853981633974483, \"plot\": {\"subtype\": \"Chart\", \"type\": \"Plot\", \"id\": \"009283ca-9e1d-4afe-bb23-d21a37a7e3a2\"}, \"axis_label\": \"Term\", \"formatter\": {\"type\": \"CategoricalTickFormatter\", \"id\": \"6d1bc28c-5229-4b6b-99ad-0f73e69698e5\"}, \"ticker\": {\"type\": \"CategoricalTicker\", \"id\": \"f67868c8-a22b-443a-9fdc-f41ed392965a\"}}, \"type\": \"CategoricalAxis\", \"id\": \"51c756a0-1d49-4df5-8a11-ddfc4af336e4\"}, {\"attributes\": {\"nonselection_glyph\": null, \"data_source\": {\"type\": \"ColumnDataSource\", \"id\": \"e167a38a-6aa0-4224-a75e-a7b2b1cf0eb2\"}, \"selection_glyph\": null, \"hover_glyph\": null, \"glyph\": {\"type\": \"Rect\", \"id\": \"dd40ba0f-1947-48c7-a552-a05518b7edd0\"}}, \"type\": \"GlyphRenderer\", \"id\": \"355280a2-804d-4e91-8836-3f47c0d341c1\"}, {\"attributes\": {\"line_color\": {\"value\": \"#1f77b4\"}, \"line_width\": {\"value\": 2}, \"y\": {\"field\": \"y\"}, \"x\": {\"field\": \"x\"}}, \"type\": \"Line\", \"id\": \"b30603fc-da40-45c9-9d0a-dc3a00a38b3f\"}, {\"attributes\": {\"line_color\": {\"field\": \"line_color\"}, \"fill_color\": {\"field\": \"color\"}, \"fill_alpha\": {\"field\": \"fill_alpha\"}, \"height\": {\"units\": \"data\", \"field\": \"height\"}, \"width\": {\"units\": \"data\", \"field\": \"width\"}, \"y\": {\"field\": \"y\"}, \"x\": {\"field\": \"x\"}}, \"type\": \"Rect\", \"id\": \"eeafa4a0-0dd6-4cf9-bf07-76f47d609e43\"}, {\"attributes\": {\"plot\": {\"subtype\": \"Chart\", \"type\": \"Plot\", \"id\": \"9a9ff700-27c5-45a8-935d-05c66cb6e120\"}, \"overlay\": {\"type\": \"BoxAnnotation\", \"id\": \"f8b72848-f65c-4e15-8a71-27220fb71f47\"}}, \"type\": \"BoxZoomTool\", \"id\": \"22111e2a-3658-436a-8514-e9bd191f0753\"}, {\"attributes\": {\"callback\": null, \"end\": 4.533362519213125}, \"type\": \"Range1d\", \"id\": \"49ba418a-4359-4085-b05a-024ab3ac1f2a\"}, {\"attributes\": {\"nonselection_glyph\": null, \"data_source\": {\"type\": \"ColumnDataSource\", \"id\": \"bd2d9b5e-73f8-4dc5-a2a2-1cf94d9a0a6f\"}, \"selection_glyph\": null, \"hover_glyph\": null, \"glyph\": {\"type\": \"Rect\", \"id\": \"7e8d2293-6db3-448f-8cae-e2a5f3da8e0d\"}}, \"type\": \"GlyphRenderer\", \"id\": \"c8515b06-d27a-449e-8ccb-ac0e18365e52\"}, {\"attributes\": {\"nonselection_glyph\": null, \"data_source\": {\"type\": \"ColumnDataSource\", \"id\": \"77aea507-5f07-4300-ae24-dbe6055574ac\"}, \"selection_glyph\": null, \"hover_glyph\": null, \"glyph\": {\"type\": \"Rect\", \"id\": \"c59e2213-7bd4-4272-b729-f6c91e56d406\"}}, \"type\": \"GlyphRenderer\", \"id\": \"2b3c0359-a248-4c2f-b181-0a79ad9b7970\"}, {\"attributes\": {\"nonselection_glyph\": null, \"data_source\": {\"type\": \"ColumnDataSource\", \"id\": \"d434a085-d91c-4056-935e-649b4a3fe671\"}, \"selection_glyph\": null, \"hover_glyph\": null, \"glyph\": {\"type\": \"Rect\", \"id\": \"847b29ec-1f20-4a1e-af9c-0234f77b6503\"}}, \"type\": \"GlyphRenderer\", \"id\": \"8509fe35-2f31-483f-a09a-030b4dcf809d\"}, {\"attributes\": {\"callback\": null, \"column_names\": [\"line_color\", \"line_alpha\", \"color\", \"fill_alpha\", \"height\", \"width\", \"y\", \"x\"], \"data\": {\"line_color\": [\"white\"], \"line_alpha\": [1.0], \"chart_index\": [{\"term\": \"exeggcute\"}], \"color\": [\"#f22c40\"], \"fill_alpha\": [0.8], \"term\": [\"exeggcute\"], \"height\": [1.0], \"width\": [0.8], \"y\": [0.5], \"x\": [\"exeggcute\"]}}, \"type\": \"ColumnDataSource\", \"id\": \"9665a26c-fbb3-47f6-aa0a-fbe9611e2401\"}, {\"attributes\": {\"line_color\": {\"field\": \"line_color\"}, \"fill_color\": {\"field\": \"color\"}, \"fill_alpha\": {\"field\": \"fill_alpha\"}, \"height\": {\"units\": \"data\", \"field\": \"height\"}, \"width\": {\"units\": \"data\", \"field\": \"width\"}, \"y\": {\"field\": \"y\"}, \"x\": {\"field\": \"x\"}}, \"type\": \"Rect\", \"id\": \"915c0ff5-f257-4833-a952-ab9a7a2e2abd\"}, {\"attributes\": {\"nonselection_glyph\": null, \"data_source\": {\"type\": \"ColumnDataSource\", \"id\": \"e2baa9c2-9ba2-484f-b506-3ef606973a65\"}, \"selection_glyph\": null, \"hover_glyph\": null, \"glyph\": {\"type\": \"Rect\", \"id\": \"249c8755-97d6-4cf7-a44f-7145cefd5d1e\"}}, \"type\": \"GlyphRenderer\", \"id\": \"95e5a3f5-5fe9-4890-a4e7-8b2afd1a8c50\"}, {\"attributes\": {\"nonselection_glyph\": null, \"data_source\": {\"type\": \"ColumnDataSource\", \"id\": \"0c365aa4-51fc-4306-9f3b-07a4a448e1fe\"}, \"selection_glyph\": null, \"hover_glyph\": null, \"glyph\": {\"type\": \"Rect\", \"id\": \"a76be5dc-b67d-4bd5-b2b9-be9d2032963e\"}}, \"type\": \"GlyphRenderer\", \"id\": \"6d4fd789-c9e2-4858-beb6-5a6c0b06c093\"}, {\"attributes\": {}, \"type\": \"BasicTicker\", \"id\": \"766e07e3-ae13-4e20-bd15-bd3159880d0e\"}, {\"attributes\": {\"nonselection_glyph\": null, \"data_source\": {\"type\": \"ColumnDataSource\", \"id\": \"46835d7b-8943-4511-8c02-1915468187e0\"}, \"selection_glyph\": null, \"hover_glyph\": null, \"glyph\": {\"type\": \"Rect\", \"id\": \"9d88c256-036d-4385-a304-452ce3d042e3\"}}, \"type\": \"GlyphRenderer\", \"id\": \"7593717c-aa97-4479-8f85-8cd3d87305b5\"}, {\"attributes\": {\"callback\": null, \"column_names\": [\"line_color\", \"line_alpha\", \"color\", \"fill_alpha\", \"height\", \"width\", \"y\", \"x\"], \"data\": {\"line_color\": [\"white\"], \"line_alpha\": [1.0], \"chart_index\": [{\"term\": \"golduck\"}], \"color\": [\"#f22c40\"], \"fill_alpha\": [0.8], \"term\": [\"golduck\"], \"height\": [4.31748811353631], \"width\": [0.8], \"y\": [2.158744056768155], \"x\": [\"golduck\"]}}, \"type\": \"ColumnDataSource\", \"id\": \"e2baa9c2-9ba2-484f-b506-3ef606973a65\"}, {\"attributes\": {\"callback\": null, \"column_names\": [\"line_color\", \"line_alpha\", \"color\", \"fill_alpha\", \"height\", \"width\", \"y\", \"x\"], \"data\": {\"line_color\": [\"white\"], \"line_alpha\": [1.0], \"chart_index\": [{\"term\": \"cubone\"}], \"color\": [\"#f22c40\"], \"fill_alpha\": [0.8], \"term\": [\"cubone\"], \"height\": [4.31748811353631], \"width\": [0.8], \"y\": [2.158744056768155], \"x\": [\"cubone\"]}}, \"type\": \"ColumnDataSource\", \"id\": \"0b26485d-816d-4d66-9fad-aabd87b9e4e0\"}, {\"attributes\": {\"plot\": {\"subtype\": \"Chart\", \"type\": \"Plot\", \"id\": \"1a80b1af-2437-4248-b6d8-f2987ccdd523\"}}, \"type\": \"HelpTool\", \"id\": \"2c4a79a9-0eb8-4b0f-93a0-8677ba334573\"}, {\"attributes\": {\"line_color\": {\"field\": \"line_color\"}, \"fill_color\": {\"field\": \"color\"}, \"fill_alpha\": {\"field\": \"fill_alpha\"}, \"height\": {\"units\": \"data\", \"field\": \"height\"}, \"width\": {\"units\": \"data\", \"field\": \"width\"}, \"y\": {\"field\": \"y\"}, \"x\": {\"field\": \"x\"}}, \"type\": \"Rect\", \"id\": \"58dcaa15-e9e5-4b04-b746-5ec74e23ea51\"}, {\"attributes\": {\"callback\": null, \"factors\": [\"nidoran\", \"charmeleon\", \"sandshrew\", \"graveler\", \"caterpie\", \"diglett\", \"hypno\", \"machoke\", \"horsea\", \"exeggutor\", \"golduck\", \"omanyte\", \"aerodactyl\", \"pidgeot\", \"exeggcute\", \"kabutops\", \"mr\", \"cubone\", \"drowzee\", \"ivysaur\", \"clefairy\", \"electabuzz\", \"dodrio\", \"ekans\", \"seadra\", \"ditto\", \"nidoking\", \"zapdos\", \"voltorb\", \"jolteon\"]}, \"type\": \"FactorRange\", \"id\": \"166ce255-1323-4bcd-ae3c-9dea0f7ff2b4\"}, {\"attributes\": {\"callback\": null, \"column_names\": [\"line_color\", \"line_alpha\", \"color\", \"fill_alpha\", \"height\", \"width\", \"y\", \"x\"], \"data\": {\"line_color\": [\"white\"], \"line_alpha\": [1.0], \"chart_index\": [{\"term\": \"ekans\"}], \"color\": [\"#f22c40\"], \"fill_alpha\": [0.8], \"term\": [\"ekans\"], \"height\": [4.31748811353631], \"width\": [0.8], \"y\": [2.158744056768155], \"x\": [\"ekans\"]}}, \"type\": \"ColumnDataSource\", \"id\": \"9a5a99cd-d0e5-4932-b620-0967c06cad91\"}, {\"attributes\": {\"nonselection_glyph\": null, \"data_source\": {\"type\": \"ColumnDataSource\", \"id\": \"55820d7d-604a-4e56-bf91-619a88b8f875\"}, \"selection_glyph\": null, \"hover_glyph\": null, \"glyph\": {\"type\": \"Rect\", \"id\": \"94e5402a-f07b-4de5-a0a3-7aafbf59f9f3\"}}, \"type\": \"GlyphRenderer\", \"id\": \"347e5564-8a09-4ed4-a2da-e08e10ad1c7b\"}, {\"attributes\": {\"line_color\": {\"field\": \"line_color\"}, \"fill_color\": {\"field\": \"color\"}, \"fill_alpha\": {\"field\": \"fill_alpha\"}, \"height\": {\"units\": \"data\", \"field\": \"height\"}, \"width\": {\"units\": \"data\", \"field\": \"width\"}, \"y\": {\"field\": \"y\"}, \"x\": {\"field\": \"x\"}}, \"type\": \"Rect\", \"id\": \"93ef72f9-6bbf-449c-a534-fe16069c33e2\"}, {\"attributes\": {\"nonselection_glyph\": null, \"data_source\": {\"type\": \"ColumnDataSource\", \"id\": \"ae1f284f-130c-4693-994a-427c0b1afd4d\"}, \"selection_glyph\": null, \"hover_glyph\": null, \"glyph\": {\"type\": \"Rect\", \"id\": \"4723e60c-3db5-4951-8b82-3d448176d360\"}}, \"type\": \"GlyphRenderer\", \"id\": \"038652b1-32ea-4770-8c17-4a8d003e19e2\"}, {\"attributes\": {\"nonselection_glyph\": null, \"data_source\": {\"type\": \"ColumnDataSource\", \"id\": \"003b8fe9-18ed-4028-855f-25b7a551432a\"}, \"selection_glyph\": null, \"hover_glyph\": null, \"glyph\": {\"type\": \"Rect\", \"id\": \"78a200c8-80bd-4c5b-8a7c-81f40b89a7f7\"}}, \"type\": \"GlyphRenderer\", \"id\": \"01e64b3a-0bae-4794-a434-eebb28d248cf\"}, {\"attributes\": {\"line_color\": {\"field\": \"line_color\"}, \"fill_color\": {\"field\": \"color\"}, \"fill_alpha\": {\"field\": \"fill_alpha\"}, \"height\": {\"units\": \"data\", \"field\": \"height\"}, \"width\": {\"units\": \"data\", \"field\": \"width\"}, \"y\": {\"field\": \"y\"}, \"x\": {\"field\": \"x\"}}, \"type\": \"Rect\", \"id\": \"fef4947f-3d7a-4c7b-858b-472b19b2d7f1\"}, {\"attributes\": {\"line_color\": {\"field\": \"line_color\"}, \"fill_color\": {\"field\": \"color\"}, \"fill_alpha\": {\"field\": \"fill_alpha\"}, \"height\": {\"units\": \"data\", \"field\": \"height\"}, \"width\": {\"units\": \"data\", \"field\": \"width\"}, \"y\": {\"field\": \"y\"}, \"x\": {\"field\": \"x\"}}, \"type\": \"Rect\", \"id\": \"0f0bfba8-ac1f-4530-9fc1-356c2fed9758\"}, {\"attributes\": {\"nonselection_glyph\": null, \"data_source\": {\"type\": \"ColumnDataSource\", \"id\": \"806884fb-f346-4591-a171-91b64d6d6e4e\"}, \"selection_glyph\": null, \"hover_glyph\": null, \"glyph\": {\"type\": \"Rect\", \"id\": \"65086aaf-5000-4ef8-9070-29b0c1576581\"}}, \"type\": \"GlyphRenderer\", \"id\": \"8e089a34-16be-438e-8801-2a84a5a8e07b\"}, {\"attributes\": {\"callback\": null, \"column_names\": [\"line_color\", \"line_alpha\", \"color\", \"fill_alpha\", \"height\", \"width\", \"y\", \"x\"], \"data\": {\"line_color\": [\"white\"], \"line_alpha\": [1.0], \"chart_index\": [{\"term\": \"voltorb\"}], \"color\": [\"#f22c40\"], \"fill_alpha\": [0.8], \"term\": [\"voltorb\"], \"height\": [1.0], \"width\": [0.8], \"y\": [0.5], \"x\": [\"voltorb\"]}}, \"type\": \"ColumnDataSource\", \"id\": \"e167a38a-6aa0-4224-a75e-a7b2b1cf0eb2\"}, {\"attributes\": {\"line_color\": {\"field\": \"line_color\"}, \"fill_color\": {\"field\": \"color\"}, \"fill_alpha\": {\"field\": \"fill_alpha\"}, \"height\": {\"units\": \"data\", \"field\": \"height\"}, \"width\": {\"units\": \"data\", \"field\": \"width\"}, \"y\": {\"field\": \"y\"}, \"x\": {\"field\": \"x\"}}, \"type\": \"Rect\", \"id\": \"bd728467-7e87-4316-b2c6-734b7f72368f\"}, {\"attributes\": {}, \"type\": \"BasicTicker\", \"id\": \"9270c947-a19c-4448-8aca-83f2ca7a78ca\"}, {\"attributes\": {\"nonselection_glyph\": null, \"data_source\": {\"type\": \"ColumnDataSource\", \"id\": \"e6ae1951-1e98-4266-9907-cca624c03a8b\"}, \"selection_glyph\": null, \"hover_glyph\": null, \"glyph\": {\"type\": \"Rect\", \"id\": \"002561a1-bc4b-4bf3-b092-6d4b597c4db5\"}}, \"type\": \"GlyphRenderer\", \"id\": \"3d4bb1f0-6f88-4456-93d2-829b3e569f20\"}, {\"attributes\": {}, \"type\": \"BasicTickFormatter\", \"id\": \"217bf9e5-dd38-4dd7-b304-0022a2b88c88\"}, {\"attributes\": {\"callback\": null, \"column_names\": [\"line_color\", \"line_alpha\", \"color\", \"fill_alpha\", \"height\", \"width\", \"y\", \"x\"], \"data\": {\"line_color\": [\"white\"], \"line_alpha\": [1.0], \"chart_index\": [{\"term\": \"sandshrew\"}], \"color\": [\"#f22c40\"], \"fill_alpha\": [0.8], \"term\": [\"sandshrew\"], \"height\": [1.0], \"width\": [0.8], \"y\": [0.5], \"x\": [\"sandshrew\"]}}, \"type\": \"ColumnDataSource\", \"id\": \"485426a6-0724-4fe5-8447-19d55bb23a5a\"}, {\"attributes\": {\"line_color\": {\"field\": \"line_color\"}, \"fill_color\": {\"field\": \"color\"}, \"fill_alpha\": {\"field\": \"fill_alpha\"}, \"height\": {\"units\": \"data\", \"field\": \"height\"}, \"width\": {\"units\": \"data\", \"field\": \"width\"}, \"y\": {\"field\": \"y\"}, \"x\": {\"field\": \"x\"}}, \"type\": \"Rect\", \"id\": \"d16c12b9-f59d-482c-a50e-034ac4dd247c\"}, {\"attributes\": {\"callback\": null, \"column_names\": [\"line_color\", \"line_alpha\", \"color\", \"fill_alpha\", \"height\", \"width\", \"y\", \"x\"], \"data\": {\"line_color\": [\"white\"], \"line_alpha\": [1.0], \"chart_index\": [{\"term\": \"charmeleon\"}], \"color\": [\"#f22c40\"], \"fill_alpha\": [0.8], \"term\": [\"charmeleon\"], \"height\": [1.0], \"width\": [0.8], \"y\": [0.5], \"x\": [\"charmeleon\"]}}, \"type\": \"ColumnDataSource\", \"id\": \"3608e321-f4aa-4a53-9a54-d2c69b7b03bc\"}, {\"attributes\": {\"line_color\": {\"value\": \"black\"}, \"line_alpha\": {\"value\": 1.0}, \"render_mode\": \"css\", \"bottom_units\": \"screen\", \"level\": \"overlay\", \"top_units\": \"screen\", \"fill_alpha\": {\"value\": 0.5}, \"plot\": null, \"left_units\": \"screen\", \"line_dash\": [4, 4], \"line_width\": {\"value\": 2}, \"right_units\": \"screen\", \"fill_color\": {\"value\": \"lightgrey\"}}, \"type\": \"BoxAnnotation\", \"id\": \"b41f983f-cb94-4cc6-b2db-328f0bdce183\"}, {\"attributes\": {\"nonselection_glyph\": null, \"data_source\": {\"type\": \"ColumnDataSource\", \"id\": \"36c0ca0f-8417-46a2-8f1b-347eb31b089e\"}, \"selection_glyph\": null, \"hover_glyph\": null, \"glyph\": {\"type\": \"Rect\", \"id\": \"2243d1b9-5ee6-466e-8e84-e1c7f29644bd\"}}, \"type\": \"GlyphRenderer\", \"id\": \"77e3e9da-0edd-46b9-b696-ff0f5b1cb05f\"}, {\"attributes\": {\"callback\": null, \"column_names\": [\"y\", \"x\"], \"data\": {\"y\": [0.9899, 0.993289183222958, 0.993289183222958, 0.993289183222958, 0.993289183222958, 0.993289183222958, 0.993289183222958, 0.993289183222958, 0.993289183222958], \"x\": [100, 200, 300, 400, 500, 600, 700, 800, 900]}}, \"type\": \"ColumnDataSource\", \"id\": \"b5390e8d-164a-452a-b825-b599105182a0\"}, {\"attributes\": {\"line_color\": {\"value\": \"#1f77b4\"}, \"line_alpha\": {\"value\": 0.1}, \"fill_color\": {\"value\": \"#1f77b4\"}, \"fill_alpha\": {\"value\": 0.1}, \"y\": {\"field\": \"y\"}, \"x\": {\"field\": \"x\"}, \"size\": {\"units\": \"screen\", \"value\": 8}}, \"type\": \"Circle\", \"id\": \"d376be00-f614-44b8-8e37-17f920e8f661\"}, {\"attributes\": {\"callback\": null, \"column_names\": [\"line_color\", \"line_alpha\", \"color\", \"fill_alpha\", \"height\", \"width\", \"y\", \"x\"], \"data\": {\"line_color\": [\"white\"], \"line_alpha\": [1.0], \"chart_index\": [{\"term\": \"dodrio\"}], \"color\": [\"#f22c40\"], \"fill_alpha\": [0.8], \"term\": [\"dodrio\"], \"height\": [4.31748811353631], \"width\": [0.8], \"y\": [2.158744056768155], \"x\": [\"dodrio\"]}}, \"type\": \"ColumnDataSource\", \"id\": \"0d9fe601-85cd-45cc-94a6-e1206aba3134\"}, {\"attributes\": {\"plot\": {\"subtype\": \"Chart\", \"type\": \"Plot\", \"id\": \"009283ca-9e1d-4afe-bb23-d21a37a7e3a2\"}}, \"type\": \"PanTool\", \"id\": \"c658300c-8379-4daf-bd9f-4830de1a4a02\"}, {\"attributes\": {}, \"type\": \"BasicTickFormatter\", \"id\": \"9cbf7dce-ab3f-4f84-b858-4697f8031b8e\"}, {\"attributes\": {\"children\": [{\"subtype\": \"Chart\", \"type\": \"Plot\", \"id\": \"009283ca-9e1d-4afe-bb23-d21a37a7e3a2\"}, {\"subtype\": \"Chart\", \"type\": \"Plot\", \"id\": \"1a80b1af-2437-4248-b6d8-f2987ccdd523\"}]}, \"type\": \"VBox\", \"id\": \"85ad85d7-364d-4ef8-b15f-2229cacd782a\"}, {\"attributes\": {\"line_color\": {\"field\": \"line_color\"}, \"fill_color\": {\"field\": \"color\"}, \"fill_alpha\": {\"field\": \"fill_alpha\"}, \"height\": {\"units\": \"data\", \"field\": \"height\"}, \"width\": {\"units\": \"data\", \"field\": \"width\"}, \"y\": {\"field\": \"y\"}, \"x\": {\"field\": \"x\"}}, \"type\": \"Rect\", \"id\": \"f6383b4c-541f-42cc-ae87-92683ec8f4b1\"}, {\"attributes\": {\"callback\": null, \"column_names\": [\"line_color\", \"line_alpha\", \"color\", \"fill_alpha\", \"height\", \"width\", \"y\", \"x\"], \"data\": {\"line_color\": [\"white\"], \"line_alpha\": [1.0], \"chart_index\": [{\"term\": \"seadra\"}], \"color\": [\"#f22c40\"], \"fill_alpha\": [0.8], \"term\": [\"seadra\"], \"height\": [4.31748811353631], \"width\": [0.8], \"y\": [2.158744056768155], \"x\": [\"seadra\"]}}, \"type\": \"ColumnDataSource\", \"id\": \"75b64652-4bfd-4ee8-8b2c-fd0baf81c345\"}, {\"attributes\": {\"nonselection_glyph\": null, \"data_source\": {\"type\": \"ColumnDataSource\", \"id\": \"e09bf4ae-f48c-4cb7-a718-15971640a178\"}, \"selection_glyph\": null, \"hover_glyph\": null, \"glyph\": {\"type\": \"Rect\", \"id\": \"e087cc16-cb95-40ec-8b93-f2c2d4a859a3\"}}, \"type\": \"GlyphRenderer\", \"id\": \"37172a16-a50a-4728-9b83-1b732f9f0796\"}, {\"attributes\": {\"line_color\": {\"field\": \"line_color\"}, \"fill_color\": {\"field\": \"color\"}, \"fill_alpha\": {\"field\": \"fill_alpha\"}, \"height\": {\"units\": \"data\", \"field\": \"height\"}, \"width\": {\"units\": \"data\", \"field\": \"width\"}, \"y\": {\"field\": \"y\"}, \"x\": {\"field\": \"x\"}}, \"type\": \"Rect\", \"id\": \"26a4ec75-8683-43a0-8492-17b8d0201c1c\"}, {\"attributes\": {\"line_color\": {\"value\": \"#1f77b4\"}, \"line_alpha\": {\"value\": 0.1}, \"y\": {\"field\": \"y\"}, \"x\": {\"field\": \"x\"}, \"line_width\": {\"value\": 2}}, \"type\": \"Line\", \"id\": \"c1b025ea-208f-449f-8991-2c68988e67ac\"}, {\"attributes\": {\"callback\": null, \"column_names\": [\"line_color\", \"line_alpha\", \"color\", \"fill_alpha\", \"height\", \"width\", \"y\", \"x\"], \"data\": {\"line_color\": [\"white\"], \"line_alpha\": [1.0], \"chart_index\": [{\"term\": \"charmeleon\"}], \"color\": [\"#f22c40\"], \"fill_alpha\": [0.8], \"term\": [\"charmeleon\"], \"height\": [1.0], \"width\": [0.8], \"y\": [0.5], \"x\": [\"charmeleon\"]}}, \"type\": \"ColumnDataSource\", \"id\": \"ce854528-7f53-491f-a2a5-b007cfd152d5\"}, {\"attributes\": {\"plot\": {\"subtype\": \"Chart\", \"type\": \"Plot\", \"id\": \"9a9ff700-27c5-45a8-935d-05c66cb6e120\"}}, \"type\": \"HelpTool\", \"id\": \"3bda7024-5540-429c-96fd-3c02c85605ee\"}, {\"attributes\": {\"callback\": null, \"column_names\": [\"line_color\", \"line_alpha\", \"color\", \"fill_alpha\", \"height\", \"width\", \"y\", \"x\"], \"data\": {\"line_color\": [\"white\"], \"line_alpha\": [1.0], \"chart_index\": [{\"term\": \"zapdos\"}], \"color\": [\"#f22c40\"], \"fill_alpha\": [0.8], \"term\": [\"zapdos\"], \"height\": [1.0], \"width\": [0.8], \"y\": [0.5], \"x\": [\"zapdos\"]}}, \"type\": \"ColumnDataSource\", \"id\": \"79104f14-dfe5-43cc-bb7e-1b1c8b0c93fc\"}, {\"attributes\": {\"callback\": null, \"column_names\": [\"line_color\", \"line_alpha\", \"color\", \"fill_alpha\", \"height\", \"width\", \"y\", \"x\"], \"data\": {\"line_color\": [\"white\"], \"line_alpha\": [1.0], \"chart_index\": [{\"term\": \"caterpie\"}], \"color\": [\"#f22c40\"], \"fill_alpha\": [0.8], \"term\": [\"caterpie\"], \"height\": [1.0], \"width\": [0.8], \"y\": [0.5], \"x\": [\"caterpie\"]}}, \"type\": \"ColumnDataSource\", \"id\": \"d6a5cc8a-3b7d-487d-94a5-25f90bae2b6e\"}, {\"attributes\": {\"line_color\": {\"field\": \"line_color\"}, \"fill_color\": {\"field\": \"color\"}, \"fill_alpha\": {\"field\": \"fill_alpha\"}, \"height\": {\"units\": \"data\", \"field\": \"height\"}, \"width\": {\"units\": \"data\", \"field\": \"width\"}, \"y\": {\"field\": \"y\"}, \"x\": {\"field\": \"x\"}}, \"type\": \"Rect\", \"id\": \"847b29ec-1f20-4a1e-af9c-0234f77b6503\"}, {\"attributes\": {\"line_color\": {\"field\": \"line_color\"}, \"fill_color\": {\"field\": \"color\"}, \"fill_alpha\": {\"field\": \"fill_alpha\"}, \"height\": {\"units\": \"data\", \"field\": \"height\"}, \"width\": {\"units\": \"data\", \"field\": \"width\"}, \"y\": {\"field\": \"y\"}, \"x\": {\"field\": \"x\"}}, \"type\": \"Rect\", \"id\": \"7e8d2293-6db3-448f-8cae-e2a5f3da8e0d\"}, {\"attributes\": {}, \"type\": \"BasicTickFormatter\", \"id\": \"b6a8e82e-1e2f-4b22-9555-6962d4d7e893\"}, {\"attributes\": {\"callback\": null, \"column_names\": [\"line_color\", \"line_alpha\", \"color\", \"fill_alpha\", \"height\", \"width\", \"y\", \"x\"], \"data\": {\"line_color\": [\"white\"], \"line_alpha\": [1.0], \"chart_index\": [{\"term\": \"omanyte\"}], \"color\": [\"#f22c40\"], \"fill_alpha\": [0.8], \"term\": [\"omanyte\"], \"height\": [1.0], \"width\": [0.8], \"y\": [0.5], \"x\": [\"omanyte\"]}}, \"type\": \"ColumnDataSource\", \"id\": \"55820d7d-604a-4e56-bf91-619a88b8f875\"}, {\"attributes\": {\"line_color\": {\"field\": \"line_color\"}, \"fill_color\": {\"field\": \"color\"}, \"fill_alpha\": {\"field\": \"fill_alpha\"}, \"height\": {\"units\": \"data\", \"field\": \"height\"}, \"width\": {\"units\": \"data\", \"field\": \"width\"}, \"y\": {\"field\": \"y\"}, \"x\": {\"field\": \"x\"}}, \"type\": \"Rect\", \"id\": \"0ca4930d-e76d-4f8d-8ff5-82dda6475b4d\"}, {\"attributes\": {\"nonselection_glyph\": null, \"data_source\": {\"type\": \"ColumnDataSource\", \"id\": \"9a5a99cd-d0e5-4932-b620-0967c06cad91\"}, \"selection_glyph\": null, \"hover_glyph\": null, \"glyph\": {\"type\": \"Rect\", \"id\": \"d60c2c57-f777-4527-bc32-2edcd3f0523c\"}}, \"type\": \"GlyphRenderer\", \"id\": \"1ef1ffa4-f598-4adf-a316-c64498fb86c0\"}, {\"attributes\": {\"callback\": null, \"column_names\": [\"line_color\", \"line_alpha\", \"color\", \"fill_alpha\", \"height\", \"width\", \"y\", \"x\"], \"data\": {\"line_color\": [\"white\"], \"line_alpha\": [1.0], \"chart_index\": [{\"term\": \"machoke\"}], \"color\": [\"#f22c40\"], \"fill_alpha\": [0.8], \"term\": [\"machoke\"], \"height\": [1.0], \"width\": [0.8], \"y\": [0.5], \"x\": [\"machoke\"]}}, \"type\": \"ColumnDataSource\", \"id\": \"c95a42e9-67a8-42e6-8eee-df99c209339f\"}, {\"attributes\": {\"plot\": {\"subtype\": \"Chart\", \"type\": \"Plot\", \"id\": \"009283ca-9e1d-4afe-bb23-d21a37a7e3a2\"}, \"overlay\": {\"type\": \"BoxAnnotation\", \"id\": \"3e150ceb-b567-4391-93c7-0006fd5b71d4\"}}, \"type\": \"BoxZoomTool\", \"id\": \"6de1bcc2-5ad7-434c-8124-75b2d6e39ed7\"}, {\"attributes\": {\"callback\": null, \"column_names\": [\"line_color\", \"line_alpha\", \"color\", \"fill_alpha\", \"height\", \"width\", \"y\", \"x\"], \"data\": {\"line_color\": [\"white\"], \"line_alpha\": [1.0], \"chart_index\": [{\"term\": \"aerodactyl\"}], \"color\": [\"#f22c40\"], \"fill_alpha\": [0.8], \"term\": [\"aerodactyl\"], \"height\": [4.31748811353631], \"width\": [0.8], \"y\": [2.158744056768155], \"x\": [\"aerodactyl\"]}}, \"type\": \"ColumnDataSource\", \"id\": \"94a11835-1e43-4194-b141-02a72c1caa13\"}, {\"attributes\": {\"line_color\": {\"field\": \"line_color\"}, \"fill_color\": {\"field\": \"color\"}, \"fill_alpha\": {\"field\": \"fill_alpha\"}, \"height\": {\"units\": \"data\", \"field\": \"height\"}, \"width\": {\"units\": \"data\", \"field\": \"width\"}, \"y\": {\"field\": \"y\"}, \"x\": {\"field\": \"x\"}}, \"type\": \"Rect\", \"id\": \"fc0802d0-e428-4799-9d30-6e0005130920\"}, {\"attributes\": {\"line_color\": {\"field\": \"line_color\"}, \"fill_color\": {\"field\": \"color\"}, \"fill_alpha\": {\"field\": \"fill_alpha\"}, \"height\": {\"units\": \"data\", \"field\": \"height\"}, \"width\": {\"units\": \"data\", \"field\": \"width\"}, \"y\": {\"field\": \"y\"}, \"x\": {\"field\": \"x\"}}, \"type\": \"Rect\", \"id\": \"e087cc16-cb95-40ec-8b93-f2c2d4a859a3\"}, {\"attributes\": {\"callback\": null, \"column_names\": [\"line_color\", \"line_alpha\", \"color\", \"fill_alpha\", \"height\", \"width\", \"y\", \"x\"], \"data\": {\"line_color\": [\"white\"], \"line_alpha\": [1.0], \"chart_index\": [{\"term\": \"electabuzz\"}], \"color\": [\"#f22c40\"], \"fill_alpha\": [0.8], \"term\": [\"electabuzz\"], \"height\": [1.0], \"width\": [0.8], \"y\": [0.5], \"x\": [\"electabuzz\"]}}, \"type\": \"ColumnDataSource\", \"id\": \"1241b951-b76e-4c76-af97-2601f0a99256\"}, {\"attributes\": {\"nonselection_glyph\": null, \"data_source\": {\"type\": \"ColumnDataSource\", \"id\": \"05654f85-5db7-453a-bc4d-7bf8669f3035\"}, \"selection_glyph\": null, \"hover_glyph\": null, \"glyph\": {\"type\": \"Rect\", \"id\": \"184c2ba2-0985-49bb-b966-193984c43f8b\"}}, \"type\": \"GlyphRenderer\", \"id\": \"fad17230-5aa2-4ab5-bbad-e45256313910\"}, {\"attributes\": {\"nonselection_glyph\": null, \"data_source\": {\"type\": \"ColumnDataSource\", \"id\": \"2eeb43db-75cd-4e01-ab96-0e94623ebfbf\"}, \"selection_glyph\": null, \"hover_glyph\": null, \"glyph\": {\"type\": \"Rect\", \"id\": \"04e2bec9-d997-40c5-8a54-ce861d663380\"}}, \"type\": \"GlyphRenderer\", \"id\": \"1fda00c9-1c59-4335-983e-659f36d14c59\"}, {\"attributes\": {\"nonselection_glyph\": null, \"data_source\": {\"type\": \"ColumnDataSource\", \"id\": \"5625f93b-bf4e-48b0-b465-d6dd4d33e219\"}, \"selection_glyph\": null, \"hover_glyph\": null, \"glyph\": {\"type\": \"Rect\", \"id\": \"182df42b-3348-48cd-bd3e-9cc8305d04a5\"}}, \"type\": \"GlyphRenderer\", \"id\": \"6452cd64-040c-480d-abac-4133709609a9\"}, {\"attributes\": {\"x_range\": {\"type\": \"FactorRange\", \"id\": \"166ce255-1323-4bcd-ae3c-9dea0f7ff2b4\"}, \"y_mapper_type\": \"auto\", \"title_text_font_size\": {\"value\": \"14pt\"}, \"yscale\": \"auto\", \"y_range\": {\"type\": \"Range1d\", \"id\": \"b580d0c5-89ce-4b67-9ca8-baf5e4d3fd86\"}, \"x_mapper_type\": \"auto\", \"renderers\": [{\"type\": \"BoxAnnotation\", \"id\": \"f8b72848-f65c-4e15-8a71-27220fb71f47\"}, {\"type\": \"GlyphRenderer\", \"id\": \"fad17230-5aa2-4ab5-bbad-e45256313910\"}, {\"type\": \"GlyphRenderer\", \"id\": \"f26ad7fa-d61b-45c1-8555-fcb3c34b61b6\"}, {\"type\": \"GlyphRenderer\", \"id\": \"cf44323f-ab10-4fa7-96dd-aa1577951643\"}, {\"type\": \"GlyphRenderer\", \"id\": \"ba21d822-2a29-47c4-9db6-29139c3e4667\"}, {\"type\": \"GlyphRenderer\", \"id\": \"7e4e91cb-1a7a-4b12-b51c-c6187073bbf8\"}, {\"type\": \"GlyphRenderer\", \"id\": \"36ba2337-f456-4b0e-bbfb-4ddf16a15485\"}, {\"type\": \"GlyphRenderer\", \"id\": \"145d7faf-4c3c-45f8-953b-a1cb937c5ed5\"}, {\"type\": \"GlyphRenderer\", \"id\": \"c273fd79-7971-4915-a037-9512a3b28aa0\"}, {\"type\": \"GlyphRenderer\", \"id\": \"02e6924e-1d10-436a-a25d-2ffa77a77c4b\"}, {\"type\": \"GlyphRenderer\", \"id\": \"4c8b1807-c831-48ae-a0c3-f2d9bc5e9830\"}, {\"type\": \"GlyphRenderer\", \"id\": \"1d8e9056-536c-4099-af4d-518b15fc6599\"}, {\"type\": \"GlyphRenderer\", \"id\": \"347e5564-8a09-4ed4-a2da-e08e10ad1c7b\"}, {\"type\": \"GlyphRenderer\", \"id\": \"b6330aab-60ab-4c40-99c6-b0533451b616\"}, {\"type\": \"GlyphRenderer\", \"id\": \"7593717c-aa97-4479-8f85-8cd3d87305b5\"}, {\"type\": \"GlyphRenderer\", \"id\": \"5dd84b69-6c63-443b-a168-c74e2d4c82df\"}, {\"type\": \"GlyphRenderer\", \"id\": \"c8515b06-d27a-449e-8ccb-ac0e18365e52\"}, {\"type\": \"GlyphRenderer\", \"id\": \"27cc6a0f-08df-465e-8103-8a428b671d46\"}, {\"type\": \"GlyphRenderer\", \"id\": \"b4567b4f-a737-4ab5-8ac7-6f991a50fa8a\"}, {\"type\": \"GlyphRenderer\", \"id\": \"3d4bb1f0-6f88-4456-93d2-829b3e569f20\"}, {\"type\": \"GlyphRenderer\", \"id\": \"6d4fd789-c9e2-4858-beb6-5a6c0b06c093\"}, {\"type\": \"GlyphRenderer\", \"id\": \"422a2e96-3eb1-4bdf-a7ba-1b3779977c33\"}, {\"type\": \"GlyphRenderer\", \"id\": \"3a0736b0-b577-40f2-a535-9b8c5ee6f322\"}, {\"type\": \"GlyphRenderer\", \"id\": \"cac988e5-6122-4390-9266-b9068b7dbf8c\"}, {\"type\": \"GlyphRenderer\", \"id\": \"d0bcc623-a6aa-4b35-99c0-b9be05974d1d\"}, {\"type\": \"GlyphRenderer\", \"id\": \"46ba469f-7f07-4aab-b876-60a6b6972d94\"}, {\"type\": \"GlyphRenderer\", \"id\": \"1fda00c9-1c59-4335-983e-659f36d14c59\"}, {\"type\": \"GlyphRenderer\", \"id\": \"9be074a9-c104-4cf8-bd84-00bf4cb787e0\"}, {\"type\": \"GlyphRenderer\", \"id\": \"8da79405-e8d9-4e66-98f5-c99c217bd6d8\"}, {\"type\": \"GlyphRenderer\", \"id\": \"31bbb821-46ea-4475-8a5d-f544222245ea\"}, {\"type\": \"GlyphRenderer\", \"id\": \"3770cb2b-4489-454b-b82d-ac0339b677c5\"}, {\"type\": \"CategoricalAxis\", \"id\": \"60aba8ae-64e4-436f-bd48-de87f78621f7\"}, {\"type\": \"LinearAxis\", \"id\": \"54dfd3c1-4dce-44d3-b112-4d8809055c95\"}, {\"type\": \"Grid\", \"id\": \"f3534324-afd9-4934-9a8a-1bb2199c8e8d\"}], \"plot_width\": 800, \"xgrid\": false, \"below\": [{\"type\": \"CategoricalAxis\", \"id\": \"60aba8ae-64e4-436f-bd48-de87f78621f7\"}], \"tool_events\": {\"type\": \"ToolEvents\", \"id\": \"f6e773e6-c541-418f-9d32-c796ba342345\"}, \"plot_height\": 400, \"xscale\": \"auto\", \"tools\": [{\"type\": \"PanTool\", \"id\": \"9f2ebc9e-73cc-4c62-a515-9aa2c7e1af8a\"}, {\"type\": \"WheelZoomTool\", \"id\": \"027a455e-d9b7-4ef1-97ca-cd448027d9a1\"}, {\"type\": \"BoxZoomTool\", \"id\": \"22111e2a-3658-436a-8514-e9bd191f0753\"}, {\"type\": \"PreviewSaveTool\", \"id\": \"c5e9744a-ac34-46e7-abf1-02f91a4b6f5b\"}, {\"type\": \"ResizeTool\", \"id\": \"05e3adee-605e-4ec9-93ac-5960a85f37c9\"}, {\"type\": \"ResetTool\", \"id\": \"ced2b1d9-58a1-4b63-9fa4-8d4610996d2d\"}, {\"type\": \"HelpTool\", \"id\": \"3bda7024-5540-429c-96fd-3c02c85605ee\"}], \"legend\": null, \"left\": [{\"type\": \"LinearAxis\", \"id\": \"54dfd3c1-4dce-44d3-b112-4d8809055c95\"}]}, \"type\": \"Plot\", \"id\": \"9a9ff700-27c5-45a8-935d-05c66cb6e120\", \"subtype\": \"Chart\"}, {\"attributes\": {\"callback\": null, \"column_names\": [\"line_color\", \"line_alpha\", \"color\", \"fill_alpha\", \"height\", \"width\", \"y\", \"x\"], \"data\": {\"line_color\": [\"white\"], \"line_alpha\": [1.0], \"chart_index\": [{\"term\": \"machoke\"}], \"color\": [\"#f22c40\"], \"fill_alpha\": [0.8], \"term\": [\"machoke\"], \"height\": [1.0], \"width\": [0.8], \"y\": [0.5], \"x\": [\"machoke\"]}}, \"type\": \"ColumnDataSource\", \"id\": \"76518f96-78e3-47a0-9c9b-79deaa2af197\"}, {\"attributes\": {\"line_color\": {\"field\": \"line_color\"}, \"fill_color\": {\"field\": \"color\"}, \"fill_alpha\": {\"field\": \"fill_alpha\"}, \"height\": {\"units\": \"data\", \"field\": \"height\"}, \"width\": {\"units\": \"data\", \"field\": \"width\"}, \"y\": {\"field\": \"y\"}, \"x\": {\"field\": \"x\"}}, \"type\": \"Rect\", \"id\": \"35c60446-3e3a-421d-8519-b64eb5bbc73a\"}, {\"attributes\": {\"callback\": null, \"column_names\": [\"line_color\", \"line_alpha\", \"color\", \"fill_alpha\", \"height\", \"width\", \"y\", \"x\"], \"data\": {\"line_color\": [\"white\"], \"line_alpha\": [1.0], \"chart_index\": [{\"term\": \"caterpie\"}], \"color\": [\"#f22c40\"], \"fill_alpha\": [0.8], \"term\": [\"caterpie\"], \"height\": [1.0], \"width\": [0.8], \"y\": [0.5], \"x\": [\"caterpie\"]}}, \"type\": \"ColumnDataSource\", \"id\": \"41bf9908-3c72-4a6e-a3cd-4b5f1c7815d1\"}, {\"attributes\": {\"line_color\": {\"field\": \"line_color\"}, \"fill_color\": {\"field\": \"color\"}, \"fill_alpha\": {\"field\": \"fill_alpha\"}, \"height\": {\"units\": \"data\", \"field\": \"height\"}, \"width\": {\"units\": \"data\", \"field\": \"width\"}, \"y\": {\"field\": \"y\"}, \"x\": {\"field\": \"x\"}}, \"type\": \"Rect\", \"id\": \"f406a5ed-2177-4dc1-963e-cae89082fd68\"}, {\"attributes\": {\"line_color\": {\"field\": \"line_color\"}, \"fill_color\": {\"field\": \"color\"}, \"fill_alpha\": {\"field\": \"fill_alpha\"}, \"height\": {\"units\": \"data\", \"field\": \"height\"}, \"width\": {\"units\": \"data\", \"field\": \"width\"}, \"y\": {\"field\": \"y\"}, \"x\": {\"field\": \"x\"}}, \"type\": \"Rect\", \"id\": \"184c2ba2-0985-49bb-b966-193984c43f8b\"}, {\"attributes\": {\"line_color\": {\"field\": \"line_color\"}, \"fill_color\": {\"field\": \"color\"}, \"fill_alpha\": {\"field\": \"fill_alpha\"}, \"height\": {\"units\": \"data\", \"field\": \"height\"}, \"width\": {\"units\": \"data\", \"field\": \"width\"}, \"y\": {\"field\": \"y\"}, \"x\": {\"field\": \"x\"}}, \"type\": \"Rect\", \"id\": \"c59e2213-7bd4-4272-b729-f6c91e56d406\"}, {\"attributes\": {\"callback\": null, \"column_names\": [\"line_color\", \"line_alpha\", \"color\", \"fill_alpha\", \"height\", \"width\", \"y\", \"x\"], \"data\": {\"line_color\": [\"white\"], \"line_alpha\": [1.0], \"chart_index\": [{\"term\": \"jolteon\"}], \"color\": [\"#f22c40\"], \"fill_alpha\": [0.8], \"term\": [\"jolteon\"], \"height\": [1.0], \"width\": [0.8], \"y\": [0.5], \"x\": [\"jolteon\"]}}, \"type\": \"ColumnDataSource\", \"id\": \"6bcebb96-cf8a-44f8-89f7-8d0e9952bdf9\"}, {\"attributes\": {\"callback\": null, \"column_names\": [\"line_color\", \"line_alpha\", \"color\", \"fill_alpha\", \"height\", \"width\", \"y\", \"x\"], \"data\": {\"line_color\": [\"white\"], \"line_alpha\": [1.0], \"chart_index\": [{\"term\": \"nidoking\"}], \"color\": [\"#f22c40\"], \"fill_alpha\": [0.8], \"term\": [\"nidoking\"], \"height\": [1.0], \"width\": [0.8], \"y\": [0.5], \"x\": [\"nidoking\"]}}, \"type\": \"ColumnDataSource\", \"id\": \"5e62dd76-0a5d-4978-8d4c-36a77144ff9e\"}, {\"attributes\": {\"callback\": null, \"column_names\": [\"y\", \"x\"], \"data\": {\"y\": [0.9899, 0.993289183222958, 0.993289183222958, 0.993289183222958, 0.993289183222958, 0.993289183222958, 0.993289183222958, 0.993289183222958, 0.993289183222958], \"x\": [100, 200, 300, 400, 500, 600, 700, 800, 900]}}, \"type\": \"ColumnDataSource\", \"id\": \"dae26062-2568-42a2-a85d-d009e5cdfd5c\"}, {\"attributes\": {\"nonselection_glyph\": null, \"data_source\": {\"type\": \"ColumnDataSource\", \"id\": \"6bcebb96-cf8a-44f8-89f7-8d0e9952bdf9\"}, \"selection_glyph\": null, \"hover_glyph\": null, \"glyph\": {\"type\": \"Rect\", \"id\": \"eeafa4a0-0dd6-4cf9-bf07-76f47d609e43\"}}, \"type\": \"GlyphRenderer\", \"id\": \"3c98a5cb-28c8-46b4-a36c-11954bc0ffb4\"}, {\"attributes\": {\"nonselection_glyph\": null, \"data_source\": {\"type\": \"ColumnDataSource\", \"id\": \"76518f96-78e3-47a0-9c9b-79deaa2af197\"}, \"selection_glyph\": null, \"hover_glyph\": null, \"glyph\": {\"type\": \"Rect\", \"id\": \"ba342899-94af-4291-88f5-a54f40c00ea2\"}}, \"type\": \"GlyphRenderer\", \"id\": \"f34889a6-a0dd-49e1-9b81-93c7ab0b4538\"}, {\"attributes\": {\"nonselection_glyph\": null, \"data_source\": {\"type\": \"ColumnDataSource\", \"id\": \"4cc072d6-ae55-4b73-b94a-355f33372a4c\"}, \"selection_glyph\": null, \"hover_glyph\": null, \"glyph\": {\"type\": \"Rect\", \"id\": \"51bcbee2-bbfd-4095-811f-f8c4f3f439fa\"}}, \"type\": \"GlyphRenderer\", \"id\": \"1efc20b4-004c-411f-9217-c516041457e8\"}, {\"attributes\": {\"nonselection_glyph\": null, \"data_source\": {\"type\": \"ColumnDataSource\", \"id\": \"38309f95-22b7-42fe-92a7-fd470edfa6e6\"}, \"selection_glyph\": null, \"hover_glyph\": null, \"glyph\": {\"type\": \"Rect\", \"id\": \"bd728467-7e87-4316-b2c6-734b7f72368f\"}}, \"type\": \"GlyphRenderer\", \"id\": \"ecabd126-d04a-42c8-8368-e08f364a8238\"}, {\"attributes\": {\"line_color\": {\"field\": \"line_color\"}, \"fill_color\": {\"field\": \"color\"}, \"fill_alpha\": {\"field\": \"fill_alpha\"}, \"height\": {\"units\": \"data\", \"field\": \"height\"}, \"width\": {\"units\": \"data\", \"field\": \"width\"}, \"y\": {\"field\": \"y\"}, \"x\": {\"field\": \"x\"}}, \"type\": \"Rect\", \"id\": \"182df42b-3348-48cd-bd3e-9cc8305d04a5\"}, {\"attributes\": {\"callback\": null, \"factors\": [\"nidoran\", \"charmeleon\", \"sandshrew\", \"graveler\", \"caterpie\", \"diglett\", \"hypno\", \"machoke\", \"horsea\", \"exeggutor\", \"golduck\", \"omanyte\", \"aerodactyl\", \"pidgeot\", \"exeggcute\", \"kabutops\", \"mr\", \"cubone\", \"drowzee\", \"ivysaur\", \"clefairy\", \"electabuzz\", \"dodrio\", \"ekans\", \"seadra\", \"ditto\", \"nidoking\", \"zapdos\", \"voltorb\", \"jolteon\"]}, \"type\": \"FactorRange\", \"id\": \"0c55bfef-2853-4e27-840a-dc3e55ba1c3a\"}, {\"attributes\": {}, \"type\": \"CategoricalTicker\", \"id\": \"f67868c8-a22b-443a-9fdc-f41ed392965a\"}, {\"attributes\": {\"callback\": null, \"column_names\": [\"line_color\", \"line_alpha\", \"color\", \"fill_alpha\", \"height\", \"width\", \"y\", \"x\"], \"data\": {\"line_color\": [\"white\"], \"line_alpha\": [1.0], \"chart_index\": [{\"term\": \"dodrio\"}], \"color\": [\"#f22c40\"], \"fill_alpha\": [0.8], \"term\": [\"dodrio\"], \"height\": [1.0], \"width\": [0.8], \"y\": [0.5], \"x\": [\"dodrio\"]}}, \"type\": \"ColumnDataSource\", \"id\": \"ae1f284f-130c-4693-994a-427c0b1afd4d\"}, {\"attributes\": {\"callback\": null, \"column_names\": [\"line_color\", \"line_alpha\", \"color\", \"fill_alpha\", \"height\", \"width\", \"y\", \"x\"], \"data\": {\"line_color\": [\"white\"], \"line_alpha\": [1.0], \"chart_index\": [{\"term\": \"clefairy\"}], \"color\": [\"#f22c40\"], \"fill_alpha\": [0.8], \"term\": [\"clefairy\"], \"height\": [1.0], \"width\": [0.8], \"y\": [0.5], \"x\": [\"clefairy\"]}}, \"type\": \"ColumnDataSource\", \"id\": \"006ab3df-272e-45b2-bac5-4003872a45fd\"}, {\"attributes\": {\"line_color\": {\"field\": \"line_color\"}, \"fill_color\": {\"field\": \"color\"}, \"fill_alpha\": {\"field\": \"fill_alpha\"}, \"height\": {\"units\": \"data\", \"field\": \"height\"}, \"width\": {\"units\": \"data\", \"field\": \"width\"}, \"y\": {\"field\": \"y\"}, \"x\": {\"field\": \"x\"}}, \"type\": \"Rect\", \"id\": \"cb6b36bb-aa76-4d44-a4f0-82cdab51b47d\"}, {\"attributes\": {\"plot\": {\"subtype\": \"Figure\", \"type\": \"Plot\", \"id\": \"3e05992d-3f2a-41ed-bb98-ea172d2b7ea6\"}, \"ticker\": {\"type\": \"BasicTicker\", \"id\": \"0674bb85-1166-40ad-ba62-b57e21cd8dc5\"}}, \"type\": \"Grid\", \"id\": \"ff261ab3-e54d-42ba-b00b-cbf77d80d796\"}, {\"attributes\": {\"callback\": null, \"column_names\": [\"line_color\", \"line_alpha\", \"color\", \"fill_alpha\", \"height\", \"width\", \"y\", \"x\"], \"data\": {\"line_color\": [\"white\"], \"line_alpha\": [1.0], \"chart_index\": [{\"term\": \"mr\"}], \"color\": [\"#f22c40\"], \"fill_alpha\": [0.8], \"term\": [\"mr\"], \"height\": [4.31748811353631], \"width\": [0.8], \"y\": [2.158744056768155], \"x\": [\"mr\"]}}, \"type\": \"ColumnDataSource\", \"id\": \"d8c35ff4-c51c-4c0e-aa9a-2d47500c003d\"}, {\"attributes\": {\"callback\": null, \"column_names\": [\"y\", \"x\"], \"data\": {\"y\": [0.9899, 0.993289183222958, 0.993289183222958, 0.993289183222958, 0.993289183222958, 0.993289183222958, 0.993289183222958, 0.993289183222958, 0.993289183222958], \"x\": [100, 200, 300, 400, 500, 600, 700, 800, 900]}}, \"type\": \"ColumnDataSource\", \"id\": \"b2a8f008-b5c5-43a4-89f5-5cd34e2bf7c6\"}, {\"attributes\": {\"callback\": null, \"end\": 2.1}, \"type\": \"Range1d\", \"id\": \"4e399196-2f53-457f-936c-01aa65292d07\"}, {\"attributes\": {\"line_color\": {\"value\": \"black\"}, \"line_alpha\": {\"value\": 1.0}, \"render_mode\": \"css\", \"bottom_units\": \"screen\", \"level\": \"overlay\", \"top_units\": \"screen\", \"fill_alpha\": {\"value\": 0.5}, \"plot\": null, \"left_units\": \"screen\", \"line_dash\": [4, 4], \"line_width\": {\"value\": 2}, \"right_units\": \"screen\", \"fill_color\": {\"value\": \"lightgrey\"}}, \"type\": \"BoxAnnotation\", \"id\": \"ca8b0fcb-6c65-4b5b-ba76-335bb4cf5869\"}, {\"attributes\": {\"nonselection_glyph\": null, \"data_source\": {\"type\": \"ColumnDataSource\", \"id\": \"a17b48e6-74ef-485e-bc95-0e35ab24d203\"}, \"selection_glyph\": null, \"hover_glyph\": null, \"glyph\": {\"type\": \"Rect\", \"id\": \"668d0bea-b2dc-42b1-a717-8ec2977bd040\"}}, \"type\": \"GlyphRenderer\", \"id\": \"d0bcc623-a6aa-4b35-99c0-b9be05974d1d\"}, {\"attributes\": {\"plot\": {\"subtype\": \"Figure\", \"type\": \"Plot\", \"id\": \"3e05992d-3f2a-41ed-bb98-ea172d2b7ea6\"}}, \"type\": \"WheelZoomTool\", \"id\": \"445a253c-9a76-4ce5-a5cf-735786b06a80\"}, {\"attributes\": {\"callback\": null, \"column_names\": [\"line_color\", \"line_alpha\", \"color\", \"fill_alpha\", \"height\", \"width\", \"y\", \"x\"], \"data\": {\"line_color\": [\"white\"], \"line_alpha\": [1.0], \"chart_index\": [{\"term\": \"nidoking\"}], \"color\": [\"#f22c40\"], \"fill_alpha\": [0.8], \"term\": [\"nidoking\"], \"height\": [4.31748811353631], \"width\": [0.8], \"y\": [2.158744056768155], \"x\": [\"nidoking\"]}}, \"type\": \"ColumnDataSource\", \"id\": \"d434a085-d91c-4056-935e-649b4a3fe671\"}, {\"attributes\": {\"plot\": {\"subtype\": \"Figure\", \"type\": \"Plot\", \"id\": \"d499a4c7-f5c0-46db-b8b4-c77016838abd\"}}, \"type\": \"WheelZoomTool\", \"id\": \"a86b02a1-d7c4-4317-b5df-9c84c52a078a\"}, {\"attributes\": {\"callback\": null, \"column_names\": [\"line_color\", \"line_alpha\", \"color\", \"fill_alpha\", \"height\", \"width\", \"y\", \"x\"], \"data\": {\"line_color\": [\"white\"], \"line_alpha\": [1.0], \"chart_index\": [{\"term\": \"exeggcute\"}], \"color\": [\"#f22c40\"], \"fill_alpha\": [0.8], \"term\": [\"exeggcute\"], \"height\": [1.0], \"width\": [0.8], \"y\": [0.5], \"x\": [\"exeggcute\"]}}, \"type\": \"ColumnDataSource\", \"id\": \"10854c2c-921c-4b7f-a764-f41c0521f9ab\"}, {\"attributes\": {\"nonselection_glyph\": null, \"data_source\": {\"type\": \"ColumnDataSource\", \"id\": \"8d33b224-0a88-437a-ab52-9207685c12ce\"}, \"selection_glyph\": null, \"hover_glyph\": null, \"glyph\": {\"type\": \"Rect\", \"id\": \"2aa347f8-eb84-42fc-9036-8f54313896bd\"}}, \"type\": \"GlyphRenderer\", \"id\": \"f1fadd7f-32c0-4b74-a45f-6987087246d2\"}, {\"attributes\": {\"line_color\": {\"field\": \"line_color\"}, \"fill_color\": {\"field\": \"color\"}, \"fill_alpha\": {\"field\": \"fill_alpha\"}, \"height\": {\"units\": \"data\", \"field\": \"height\"}, \"width\": {\"units\": \"data\", \"field\": \"width\"}, \"y\": {\"field\": \"y\"}, \"x\": {\"field\": \"x\"}}, \"type\": \"Rect\", \"id\": \"fc104bf8-a023-4cd2-93a4-2c22abf9df43\"}, {\"attributes\": {\"plot\": {\"subtype\": \"Chart\", \"type\": \"Plot\", \"id\": \"1a80b1af-2437-4248-b6d8-f2987ccdd523\"}, \"ticker\": {\"type\": \"BasicTicker\", \"id\": \"bb862bf5-f1b1-4519-b824-4d977252f4bc\"}, \"dimension\": 1}, \"type\": \"Grid\", \"id\": \"c9dad71d-afa0-4944-baf6-6217723e45d1\"}, {\"attributes\": {\"line_color\": {\"field\": \"line_color\"}, \"fill_color\": {\"field\": \"color\"}, \"fill_alpha\": {\"field\": \"fill_alpha\"}, \"height\": {\"units\": \"data\", \"field\": \"height\"}, \"width\": {\"units\": \"data\", \"field\": \"width\"}, \"y\": {\"field\": \"y\"}, \"x\": {\"field\": \"x\"}}, \"type\": \"Rect\", \"id\": \"5815f9a6-3dc0-4d88-95ac-d385d6538182\"}, {\"attributes\": {\"plot\": {\"subtype\": \"Figure\", \"type\": \"Plot\", \"id\": \"d499a4c7-f5c0-46db-b8b4-c77016838abd\"}, \"overlay\": {\"type\": \"BoxAnnotation\", \"id\": \"ca8b0fcb-6c65-4b5b-ba76-335bb4cf5869\"}}, \"type\": \"BoxZoomTool\", \"id\": \"09c04c1b-516d-4ea8-81c4-a79ad37429a7\"}, {\"attributes\": {\"nonselection_glyph\": null, \"data_source\": {\"type\": \"ColumnDataSource\", \"id\": \"41bf9908-3c72-4a6e-a3cd-4b5f1c7815d1\"}, \"selection_glyph\": null, \"hover_glyph\": null, \"glyph\": {\"type\": \"Rect\", \"id\": \"5f1a8232-c551-4038-a39f-02d2b26a4d17\"}}, \"type\": \"GlyphRenderer\", \"id\": \"7e4e91cb-1a7a-4b12-b51c-c6187073bbf8\"}, {\"attributes\": {\"nonselection_glyph\": null, \"data_source\": {\"type\": \"ColumnDataSource\", \"id\": \"a98c627a-5e2d-41d2-b9da-7b5496fb8e8a\"}, \"selection_glyph\": null, \"hover_glyph\": null, \"glyph\": {\"type\": \"Rect\", \"id\": \"fef4947f-3d7a-4c7b-858b-472b19b2d7f1\"}}, \"type\": \"GlyphRenderer\", \"id\": \"b4567b4f-a737-4ab5-8ac7-6f991a50fa8a\"}, {\"attributes\": {\"callback\": null, \"column_names\": [\"line_color\", \"line_alpha\", \"color\", \"fill_alpha\", \"height\", \"width\", \"y\", \"x\"], \"data\": {\"line_color\": [\"white\"], \"line_alpha\": [1.0], \"chart_index\": [{\"term\": \"machoke\"}], \"color\": [\"#f22c40\"], \"fill_alpha\": [0.8], \"term\": [\"machoke\"], \"height\": [4.31748811353631], \"width\": [0.8], \"y\": [2.158744056768155], \"x\": [\"machoke\"]}}, \"type\": \"ColumnDataSource\", \"id\": \"35ff52b9-9c07-465d-814e-b2191999c1dd\"}, {\"attributes\": {\"nonselection_glyph\": null, \"data_source\": {\"type\": \"ColumnDataSource\", \"id\": \"8aa64f5a-2b94-4c4f-b793-891ab7ef14db\"}, \"selection_glyph\": null, \"hover_glyph\": null, \"glyph\": {\"type\": \"Rect\", \"id\": \"ca3209ba-1fc2-4839-be3a-50d952c8fc6c\"}}, \"type\": \"GlyphRenderer\", \"id\": \"81c23ee4-c5d8-4c06-9a69-1f4b2150d865\"}, {\"attributes\": {\"plot\": {\"subtype\": \"Figure\", \"type\": \"Plot\", \"id\": \"d499a4c7-f5c0-46db-b8b4-c77016838abd\"}}, \"type\": \"ResizeTool\", \"id\": \"fe512b6c-8f61-4a00-bd51-d4ff17ba1ffd\"}, {\"attributes\": {\"nonselection_glyph\": null, \"data_source\": {\"type\": \"ColumnDataSource\", \"id\": \"1f7865c9-ea97-4e0b-8aa5-9ea17cac4150\"}, \"selection_glyph\": null, \"hover_glyph\": null, \"glyph\": {\"type\": \"Rect\", \"id\": \"65d7304e-0fb4-4001-98ca-75b3adda5d73\"}}, \"type\": \"GlyphRenderer\", \"id\": \"3770cb2b-4489-454b-b82d-ac0339b677c5\"}, {\"attributes\": {\"nonselection_glyph\": null, \"data_source\": {\"type\": \"ColumnDataSource\", \"id\": \"9665a26c-fbb3-47f6-aa0a-fbe9611e2401\"}, \"selection_glyph\": null, \"hover_glyph\": null, \"glyph\": {\"type\": \"Rect\", \"id\": \"5d6134b7-da9a-4eae-881b-56210a7f55ec\"}}, \"type\": \"GlyphRenderer\", \"id\": \"5dd84b69-6c63-443b-a168-c74e2d4c82df\"}, {\"attributes\": {\"line_color\": {\"field\": \"line_color\"}, \"fill_color\": {\"field\": \"color\"}, \"fill_alpha\": {\"field\": \"fill_alpha\"}, \"height\": {\"units\": \"data\", \"field\": \"height\"}, \"width\": {\"units\": \"data\", \"field\": \"width\"}, \"y\": {\"field\": \"y\"}, \"x\": {\"field\": \"x\"}}, \"type\": \"Rect\", \"id\": \"cb504057-5069-4a3c-b9af-b98693d78b2a\"}, {\"attributes\": {\"line_color\": {\"field\": \"line_color\"}, \"fill_color\": {\"field\": \"color\"}, \"fill_alpha\": {\"field\": \"fill_alpha\"}, \"height\": {\"units\": \"data\", \"field\": \"height\"}, \"width\": {\"units\": \"data\", \"field\": \"width\"}, \"y\": {\"field\": \"y\"}, \"x\": {\"field\": \"x\"}}, \"type\": \"Rect\", \"id\": \"6cfa3f36-a6aa-4263-a7f5-04e565cb338d\"}, {\"attributes\": {\"nonselection_glyph\": null, \"data_source\": {\"type\": \"ColumnDataSource\", \"id\": \"c95a42e9-67a8-42e6-8eee-df99c209339f\"}, \"selection_glyph\": null, \"hover_glyph\": null, \"glyph\": {\"type\": \"Rect\", \"id\": \"58c89efd-1864-49c5-bc0c-fadbd0cde598\"}}, \"type\": \"GlyphRenderer\", \"id\": \"c273fd79-7971-4915-a037-9512a3b28aa0\"}, {\"attributes\": {\"line_color\": {\"field\": \"line_color\"}, \"fill_color\": {\"field\": \"color\"}, \"fill_alpha\": {\"field\": \"fill_alpha\"}, \"height\": {\"units\": \"data\", \"field\": \"height\"}, \"width\": {\"units\": \"data\", \"field\": \"width\"}, \"y\": {\"field\": \"y\"}, \"x\": {\"field\": \"x\"}}, \"type\": \"Rect\", \"id\": \"1a4548f5-1761-4544-b794-444f1ad43a70\"}, {\"attributes\": {\"nonselection_glyph\": null, \"data_source\": {\"type\": \"ColumnDataSource\", \"id\": \"599ec5f7-9423-476c-8123-332bc7065a06\"}, \"selection_glyph\": null, \"hover_glyph\": null, \"glyph\": {\"type\": \"Rect\", \"id\": \"8bb8d353-fcba-40c4-a7dc-53118ab39f4e\"}}, \"type\": \"GlyphRenderer\", \"id\": \"cf44323f-ab10-4fa7-96dd-aa1577951643\"}, {\"attributes\": {\"plot\": {\"subtype\": \"Figure\", \"type\": \"Plot\", \"id\": \"d499a4c7-f5c0-46db-b8b4-c77016838abd\"}}, \"type\": \"ResetTool\", \"id\": \"151e8dd8-f816-43ea-a048-1bb609becd43\"}, {\"attributes\": {\"nonselection_glyph\": null, \"data_source\": {\"type\": \"ColumnDataSource\", \"id\": \"e64d2f73-7737-48c6-92e8-3dc954dab430\"}, \"selection_glyph\": null, \"hover_glyph\": null, \"glyph\": {\"type\": \"Rect\", \"id\": \"e1c926ee-7c06-4400-8dd1-6988c3b38748\"}}, \"type\": \"GlyphRenderer\", \"id\": \"0dd9c335-64ae-40a6-b82c-ff91e8e8a7ec\"}, {\"attributes\": {\"plot\": {\"subtype\": \"Chart\", \"type\": \"Plot\", \"id\": \"1a80b1af-2437-4248-b6d8-f2987ccdd523\"}, \"overlay\": {\"type\": \"BoxAnnotation\", \"id\": \"b41f983f-cb94-4cc6-b2db-328f0bdce183\"}}, \"type\": \"BoxZoomTool\", \"id\": \"8dedca9a-9570-482a-a150-2d31060f6011\"}, {\"attributes\": {\"nonselection_glyph\": null, \"data_source\": {\"type\": \"ColumnDataSource\", \"id\": \"7725d09f-eb69-4403-9c33-66fcd4a901f9\"}, \"selection_glyph\": null, \"hover_glyph\": null, \"glyph\": {\"type\": \"Rect\", \"id\": \"cb6b36bb-aa76-4d44-a4f0-82cdab51b47d\"}}, \"type\": \"GlyphRenderer\", \"id\": \"27cc6a0f-08df-465e-8103-8a428b671d46\"}, {\"attributes\": {}, \"type\": \"CategoricalTickFormatter\", \"id\": \"6d1bc28c-5229-4b6b-99ad-0f73e69698e5\"}, {\"attributes\": {\"line_color\": {\"field\": \"line_color\"}, \"fill_color\": {\"field\": \"color\"}, \"fill_alpha\": {\"field\": \"fill_alpha\"}, \"height\": {\"units\": \"data\", \"field\": \"height\"}, \"width\": {\"units\": \"data\", \"field\": \"width\"}, \"y\": {\"field\": \"y\"}, \"x\": {\"field\": \"x\"}}, \"type\": \"Rect\", \"id\": \"7965f248-9cab-4819-a602-6bb1321abcb4\"}, {\"attributes\": {\"plot\": {\"subtype\": \"Figure\", \"type\": \"Plot\", \"id\": \"3e05992d-3f2a-41ed-bb98-ea172d2b7ea6\"}, \"axis_label\": \"Documents\", \"formatter\": {\"type\": \"BasicTickFormatter\", \"id\": \"217bf9e5-dd38-4dd7-b304-0022a2b88c88\"}, \"ticker\": {\"type\": \"BasicTicker\", \"id\": \"0674bb85-1166-40ad-ba62-b57e21cd8dc5\"}}, \"type\": \"LinearAxis\", \"id\": \"d2cc53fb-28af-4c5c-a7ad-593c62b36050\"}, {\"attributes\": {\"callback\": null, \"column_names\": [\"line_color\", \"line_alpha\", \"color\", \"fill_alpha\", \"height\", \"width\", \"y\", \"x\"], \"data\": {\"line_color\": [\"white\"], \"line_alpha\": [1.0], \"chart_index\": [{\"term\": \"kabutops\"}], \"color\": [\"#f22c40\"], \"fill_alpha\": [0.8], \"term\": [\"kabutops\"], \"height\": [4.31748811353631], \"width\": [0.8], \"y\": [2.158744056768155], \"x\": [\"kabutops\"]}}, \"type\": \"ColumnDataSource\", \"id\": \"1f9b3d59-9839-4834-b675-3d69c60de614\"}, {\"attributes\": {\"line_color\": {\"field\": \"line_color\"}, \"fill_color\": {\"field\": \"color\"}, \"fill_alpha\": {\"field\": \"fill_alpha\"}, \"height\": {\"units\": \"data\", \"field\": \"height\"}, \"width\": {\"units\": \"data\", \"field\": \"width\"}, \"y\": {\"field\": \"y\"}, \"x\": {\"field\": \"x\"}}, \"type\": \"Rect\", \"id\": \"8bb8d353-fcba-40c4-a7dc-53118ab39f4e\"}, {\"attributes\": {\"callback\": null, \"column_names\": [\"line_color\", \"line_alpha\", \"color\", \"fill_alpha\", \"height\", \"width\", \"y\", \"x\"], \"data\": {\"line_color\": [\"white\"], \"line_alpha\": [1.0], \"chart_index\": [{\"term\": \"pidgeot\"}], \"color\": [\"#f22c40\"], \"fill_alpha\": [0.8], \"term\": [\"pidgeot\"], \"height\": [1.0], \"width\": [0.8], \"y\": [0.5], \"x\": [\"pidgeot\"]}}, \"type\": \"ColumnDataSource\", \"id\": \"eba60d32-a21a-4c1b-9d90-fbc0b5899445\"}, {\"attributes\": {\"line_color\": {\"field\": \"line_color\"}, \"fill_color\": {\"field\": \"color\"}, \"fill_alpha\": {\"field\": \"fill_alpha\"}, \"height\": {\"units\": \"data\", \"field\": \"height\"}, \"width\": {\"units\": \"data\", \"field\": \"width\"}, \"y\": {\"field\": \"y\"}, \"x\": {\"field\": \"x\"}}, \"type\": \"Rect\", \"id\": \"62657c95-623c-4a96-b7f6-4b397dcccb93\"}, {\"attributes\": {\"plot\": {\"subtype\": \"Chart\", \"type\": \"Plot\", \"id\": \"1a80b1af-2437-4248-b6d8-f2987ccdd523\"}}, \"type\": \"WheelZoomTool\", \"id\": \"6162cc3c-1f58-4718-baa2-9c2275278f02\"}, {\"attributes\": {\"callback\": null, \"column_names\": [\"line_color\", \"line_alpha\", \"color\", \"fill_alpha\", \"height\", \"width\", \"y\", \"x\"], \"data\": {\"line_color\": [\"white\"], \"line_alpha\": [1.0], \"chart_index\": [{\"term\": \"zapdos\"}], \"color\": [\"#f22c40\"], \"fill_alpha\": [0.8], \"term\": [\"zapdos\"], \"height\": [4.31748811353631], \"width\": [0.8], \"y\": [2.158744056768155], \"x\": [\"zapdos\"]}}, \"type\": \"ColumnDataSource\", \"id\": \"5f4576f7-3d9b-4844-8978-f144ce5f3fc1\"}, {\"attributes\": {\"line_color\": {\"field\": \"line_color\"}, \"fill_color\": {\"field\": \"color\"}, \"fill_alpha\": {\"field\": \"fill_alpha\"}, \"height\": {\"units\": \"data\", \"field\": \"height\"}, \"width\": {\"units\": \"data\", \"field\": \"width\"}, \"y\": {\"field\": \"y\"}, \"x\": {\"field\": \"x\"}}, \"type\": \"Rect\", \"id\": \"4c7dcbd1-598e-4944-b0c5-e6a8ad5da6e2\"}, {\"attributes\": {\"line_color\": {\"field\": \"line_color\"}, \"fill_color\": {\"field\": \"color\"}, \"fill_alpha\": {\"field\": \"fill_alpha\"}, \"height\": {\"units\": \"data\", \"field\": \"height\"}, \"width\": {\"units\": \"data\", \"field\": \"width\"}, \"y\": {\"field\": \"y\"}, \"x\": {\"field\": \"x\"}}, \"type\": \"Rect\", \"id\": \"04e2bec9-d997-40c5-8a54-ce861d663380\"}, {\"attributes\": {\"plot\": {\"subtype\": \"Figure\", \"type\": \"Plot\", \"id\": \"3e05992d-3f2a-41ed-bb98-ea172d2b7ea6\"}}, \"type\": \"HelpTool\", \"id\": \"eed5acca-3b9a-47e0-a16a-8c69ed7eb2ab\"}, {\"attributes\": {\"line_color\": {\"field\": \"line_color\"}, \"fill_color\": {\"field\": \"color\"}, \"fill_alpha\": {\"field\": \"fill_alpha\"}, \"height\": {\"units\": \"data\", \"field\": \"height\"}, \"width\": {\"units\": \"data\", \"field\": \"width\"}, \"y\": {\"field\": \"y\"}, \"x\": {\"field\": \"x\"}}, \"type\": \"Rect\", \"id\": \"1941192f-b3be-47aa-bc99-8ee0138c32e1\"}, {\"attributes\": {\"nonselection_glyph\": null, \"data_source\": {\"type\": \"ColumnDataSource\", \"id\": \"03492791-ab48-46a7-8c2f-d7876af4ad05\"}, \"selection_glyph\": null, \"hover_glyph\": null, \"glyph\": {\"type\": \"Rect\", \"id\": \"51a2b7a0-aac5-4216-a82b-8f786e6cf0c4\"}}, \"type\": \"GlyphRenderer\", \"id\": \"145d7faf-4c3c-45f8-953b-a1cb937c5ed5\"}, {\"attributes\": {\"plot\": {\"subtype\": \"Figure\", \"type\": \"Plot\", \"id\": \"3e05992d-3f2a-41ed-bb98-ea172d2b7ea6\"}}, \"type\": \"PreviewSaveTool\", \"id\": \"64516698-7377-4069-b1b9-044ac0c530e4\"}, {\"attributes\": {\"line_color\": {\"field\": \"line_color\"}, \"fill_color\": {\"field\": \"color\"}, \"fill_alpha\": {\"field\": \"fill_alpha\"}, \"height\": {\"units\": \"data\", \"field\": \"height\"}, \"width\": {\"units\": \"data\", \"field\": \"width\"}, \"y\": {\"field\": \"y\"}, \"x\": {\"field\": \"x\"}}, \"type\": \"Rect\", \"id\": \"58c89efd-1864-49c5-bc0c-fadbd0cde598\"}, {\"attributes\": {\"plot\": {\"subtype\": \"Chart\", \"type\": \"Plot\", \"id\": \"1a80b1af-2437-4248-b6d8-f2987ccdd523\"}}, \"type\": \"ResizeTool\", \"id\": \"49e940f5-b06f-4b95-9cd5-28a914ea9108\"}, {\"attributes\": {\"callback\": null, \"column_names\": [\"line_color\", \"line_alpha\", \"color\", \"fill_alpha\", \"height\", \"width\", \"y\", \"x\"], \"data\": {\"line_color\": [\"white\"], \"line_alpha\": [1.0], \"chart_index\": [{\"term\": \"cubone\"}], \"color\": [\"#f22c40\"], \"fill_alpha\": [0.8], \"term\": [\"cubone\"], \"height\": [1.0], \"width\": [0.8], \"y\": [0.5], \"x\": [\"cubone\"]}}, \"type\": \"ColumnDataSource\", \"id\": \"e09bf4ae-f48c-4cb7-a718-15971640a178\"}, {\"attributes\": {\"callback\": null, \"column_names\": [\"line_color\", \"line_alpha\", \"color\", \"fill_alpha\", \"height\", \"width\", \"y\", \"x\"], \"data\": {\"line_color\": [\"white\"], \"line_alpha\": [1.0], \"chart_index\": [{\"term\": \"electabuzz\"}], \"color\": [\"#f22c40\"], \"fill_alpha\": [0.8], \"term\": [\"electabuzz\"], \"height\": [4.31748811353631], \"width\": [0.8], \"y\": [2.158744056768155], \"x\": [\"electabuzz\"]}}, \"type\": \"ColumnDataSource\", \"id\": \"167219cc-d6d1-4a85-b199-a1508409440f\"}, {\"attributes\": {\"nonselection_glyph\": null, \"data_source\": {\"type\": \"ColumnDataSource\", \"id\": \"65f6d905-3e1a-40a8-819c-1eae048d9547\"}, \"selection_glyph\": null, \"hover_glyph\": null, \"glyph\": {\"type\": \"Rect\", \"id\": \"6cfa3f36-a6aa-4263-a7f5-04e565cb338d\"}}, \"type\": \"GlyphRenderer\", \"id\": \"6b43b947-e2f5-4d1a-95f9-d33eac4bfba2\"}, {\"attributes\": {\"line_color\": {\"field\": \"line_color\"}, \"fill_color\": {\"field\": \"color\"}, \"fill_alpha\": {\"field\": \"fill_alpha\"}, \"height\": {\"units\": \"data\", \"field\": \"height\"}, \"width\": {\"units\": \"data\", \"field\": \"width\"}, \"y\": {\"field\": \"y\"}, \"x\": {\"field\": \"x\"}}, \"type\": \"Rect\", \"id\": \"ef4abb6c-21d2-4662-8621-6adbc5eac1a2\"}, {\"attributes\": {\"nonselection_glyph\": null, \"data_source\": {\"type\": \"ColumnDataSource\", \"id\": \"b419906a-e145-4da8-b4af-56008775cf63\"}, \"selection_glyph\": null, \"hover_glyph\": null, \"glyph\": {\"type\": \"Rect\", \"id\": \"1610e40b-df39-485f-8388-625e9707ad5d\"}}, \"type\": \"GlyphRenderer\", \"id\": \"e9c0b496-42a5-4c4a-9a17-8567cb986446\"}, {\"attributes\": {}, \"type\": \"BasicTickFormatter\", \"id\": \"105c158a-ac5f-4b43-851a-11326d840c6c\"}, {\"attributes\": {\"line_color\": {\"field\": \"line_color\"}, \"fill_color\": {\"field\": \"color\"}, \"fill_alpha\": {\"field\": \"fill_alpha\"}, \"height\": {\"units\": \"data\", \"field\": \"height\"}, \"width\": {\"units\": \"data\", \"field\": \"width\"}, \"y\": {\"field\": \"y\"}, \"x\": {\"field\": \"x\"}}, \"type\": \"Rect\", \"id\": \"d0aaa8c3-c789-4e44-a79c-d5b7ad59cf59\"}, {\"attributes\": {\"plot\": {\"subtype\": \"Figure\", \"type\": \"Plot\", \"id\": \"3e05992d-3f2a-41ed-bb98-ea172d2b7ea6\"}}, \"type\": \"ResizeTool\", \"id\": \"edb37007-977b-4213-a272-dc05c7a34504\"}, {\"attributes\": {\"nonselection_glyph\": null, \"data_source\": {\"type\": \"ColumnDataSource\", \"id\": \"ee213f6d-ae0d-4e4b-acbe-98ce2ad3144b\"}, \"selection_glyph\": null, \"hover_glyph\": null, \"glyph\": {\"type\": \"Rect\", \"id\": \"722ab473-6184-4cbc-8442-d499994b2388\"}}, \"type\": \"GlyphRenderer\", \"id\": \"b879a7a7-f039-48a3-97ef-b58b1c6e6569\"}, {\"attributes\": {\"callback\": null}, \"type\": \"DataRange1d\", \"id\": \"ee6875d5-d2a9-4f62-88ee-5a3873cba7bc\"}, {\"attributes\": {\"line_color\": {\"field\": \"line_color\"}, \"fill_color\": {\"field\": \"color\"}, \"fill_alpha\": {\"field\": \"fill_alpha\"}, \"height\": {\"units\": \"data\", \"field\": \"height\"}, \"width\": {\"units\": \"data\", \"field\": \"width\"}, \"y\": {\"field\": \"y\"}, \"x\": {\"field\": \"x\"}}, \"type\": \"Rect\", \"id\": \"2243d1b9-5ee6-466e-8e84-e1c7f29644bd\"}, {\"attributes\": {\"line_color\": {\"field\": \"line_color\"}, \"fill_color\": {\"field\": \"color\"}, \"fill_alpha\": {\"field\": \"fill_alpha\"}, \"height\": {\"units\": \"data\", \"field\": \"height\"}, \"width\": {\"units\": \"data\", \"field\": \"width\"}, \"y\": {\"field\": \"y\"}, \"x\": {\"field\": \"x\"}}, \"type\": \"Rect\", \"id\": \"a4925224-d5db-46b4-8a9e-425f1823045c\"}, {\"attributes\": {\"line_color\": {\"value\": \"#1f77b4\"}, \"line_alpha\": {\"value\": 0.1}, \"fill_color\": {\"value\": \"#1f77b4\"}, \"fill_alpha\": {\"value\": 0.1}, \"y\": {\"field\": \"y\"}, \"x\": {\"field\": \"x\"}, \"size\": {\"units\": \"screen\", \"value\": 8}}, \"type\": \"Circle\", \"id\": \"a05c15b2-4dbf-43fb-9538-7a13c4cda711\"}, {\"attributes\": {\"line_color\": {\"field\": \"line_color\"}, \"fill_color\": {\"field\": \"color\"}, \"fill_alpha\": {\"field\": \"fill_alpha\"}, \"height\": {\"units\": \"data\", \"field\": \"height\"}, \"width\": {\"units\": \"data\", \"field\": \"width\"}, \"y\": {\"field\": \"y\"}, \"x\": {\"field\": \"x\"}}, \"type\": \"Rect\", \"id\": \"264fa879-8b67-45e6-abdd-a64228e03d6a\"}, {\"attributes\": {\"nonselection_glyph\": null, \"data_source\": {\"type\": \"ColumnDataSource\", \"id\": \"d6a5cc8a-3b7d-487d-94a5-25f90bae2b6e\"}, \"selection_glyph\": null, \"hover_glyph\": null, \"glyph\": {\"type\": \"Rect\", \"id\": \"58dcaa15-e9e5-4b04-b746-5ec74e23ea51\"}}, \"type\": \"GlyphRenderer\", \"id\": \"225a3cf1-fc5c-4894-bce6-45b9a2b7bd6d\"}, {\"attributes\": {\"plot\": {\"subtype\": \"Figure\", \"type\": \"Plot\", \"id\": \"d499a4c7-f5c0-46db-b8b4-c77016838abd\"}, \"ticker\": {\"type\": \"BasicTicker\", \"id\": \"20ea0c11-6c8e-4762-b650-a44968f74ada\"}}, \"type\": \"Grid\", \"id\": \"36fbbd41-b9a5-4fb7-bc9d-015871f80207\"}, {\"attributes\": {\"callback\": null, \"column_names\": [\"line_color\", \"line_alpha\", \"color\", \"fill_alpha\", \"height\", \"width\", \"y\", \"x\"], \"data\": {\"line_color\": [\"white\"], \"line_alpha\": [1.0], \"chart_index\": [{\"term\": \"ditto\"}], \"color\": [\"#f22c40\"], \"fill_alpha\": [0.8], \"term\": [\"ditto\"], \"height\": [1.0], \"width\": [0.8], \"y\": [0.5], \"x\": [\"ditto\"]}}, \"type\": \"ColumnDataSource\", \"id\": \"2eeb43db-75cd-4e01-ab96-0e94623ebfbf\"}, {\"attributes\": {\"plot\": {\"subtype\": \"Figure\", \"type\": \"Plot\", \"id\": \"d499a4c7-f5c0-46db-b8b4-c77016838abd\"}}, \"type\": \"PreviewSaveTool\", \"id\": \"c02c8ee7-73a5-4f79-b8af-bba1a6dcf520\"}, {\"attributes\": {}, \"type\": \"BasicTicker\", \"id\": \"bb862bf5-f1b1-4519-b824-4d977252f4bc\"}, {\"attributes\": {\"line_color\": {\"field\": \"line_color\"}, \"fill_color\": {\"field\": \"color\"}, \"fill_alpha\": {\"field\": \"fill_alpha\"}, \"height\": {\"units\": \"data\", \"field\": \"height\"}, \"width\": {\"units\": \"data\", \"field\": \"width\"}, \"y\": {\"field\": \"y\"}, \"x\": {\"field\": \"x\"}}, \"type\": \"Rect\", \"id\": \"d36b3fe0-e7f3-4b09-9c2b-6fbe39df02ac\"}, {\"attributes\": {\"plot\": {\"subtype\": \"Chart\", \"type\": \"Plot\", \"id\": \"009283ca-9e1d-4afe-bb23-d21a37a7e3a2\"}}, \"type\": \"WheelZoomTool\", \"id\": \"4c8196a0-08a3-442a-a679-a4448377fd7b\"}, {\"attributes\": {\"callback\": null, \"column_names\": [\"line_color\", \"line_alpha\", \"color\", \"fill_alpha\", \"height\", \"width\", \"y\", \"x\"], \"data\": {\"line_color\": [\"white\"], \"line_alpha\": [1.0], \"chart_index\": [{\"term\": \"ditto\"}], \"color\": [\"#f22c40\"], \"fill_alpha\": [0.8], \"term\": [\"ditto\"], \"height\": [1.0], \"width\": [0.8], \"y\": [0.5], \"x\": [\"ditto\"]}}, \"type\": \"ColumnDataSource\", \"id\": \"4cc072d6-ae55-4b73-b94a-355f33372a4c\"}, {\"attributes\": {\"nonselection_glyph\": null, \"data_source\": {\"type\": \"ColumnDataSource\", \"id\": \"1f9b3d59-9839-4834-b675-3d69c60de614\"}, \"selection_glyph\": null, \"hover_glyph\": null, \"glyph\": {\"type\": \"Rect\", \"id\": \"f51b8f68-7d5e-42e6-8b19-f64c75d341b4\"}}, \"type\": \"GlyphRenderer\", \"id\": \"b1eb3463-4d67-4f97-a55d-ff4723da5805\"}, {\"attributes\": {\"callback\": null, \"column_names\": [\"line_color\", \"line_alpha\", \"color\", \"fill_alpha\", \"height\", \"width\", \"y\", \"x\"], \"data\": {\"line_color\": [\"white\"], \"line_alpha\": [1.0], \"chart_index\": [{\"term\": \"mr\"}], \"color\": [\"#f22c40\"], \"fill_alpha\": [0.8], \"term\": [\"mr\"], \"height\": [1.0], \"width\": [0.8], \"y\": [0.5], \"x\": [\"mr\"]}}, \"type\": \"ColumnDataSource\", \"id\": \"7725d09f-eb69-4403-9c33-66fcd4a901f9\"}, {\"attributes\": {\"callback\": null, \"column_names\": [\"line_color\", \"line_alpha\", \"color\", \"fill_alpha\", \"height\", \"width\", \"y\", \"x\"], \"data\": {\"line_color\": [\"white\"], \"line_alpha\": [1.0], \"chart_index\": [{\"term\": \"exeggutor\"}], \"color\": [\"#f22c40\"], \"fill_alpha\": [0.8], \"term\": [\"exeggutor\"], \"height\": [1.0], \"width\": [0.8], \"y\": [0.5], \"x\": [\"exeggutor\"]}}, \"type\": \"ColumnDataSource\", \"id\": \"ee213f6d-ae0d-4e4b-acbe-98ce2ad3144b\"}]}, \"title\": \"Bokeh Application\"}};\n",
       "            var render_items = [{\"notebook_comms_target\": \"e00cb0c0-204b-44d9-bd00-4022a97e2b33\", \"docid\": \"026c1a63-ae9f-4e6c-9a31-068f381ea542\", \"elementid\": \"37d13e33-272f-4a24-ba32-2e654564df9f\", \"modelid\": \"85ad85d7-364d-4ef8-b15f-2229cacd782a\"}];\n",
       "            \n",
       "            Bokeh.embed.embed_items(docs_json, render_items);\n",
       "        });\n",
       "      },\n",
       "      function(Bokeh) {\n",
       "      }\n",
       "    ];\n",
       "  \n",
       "    function run_inline_js() {\n",
       "      for (var i = 0; i < inline_js.length; i++) {\n",
       "        inline_js[i](window.Bokeh);\n",
       "      }\n",
       "    }\n",
       "  \n",
       "    if (window._bokeh_is_loading === 0) {\n",
       "      console.log(\"Bokeh: BokehJS loaded, going straight to plotting\");\n",
       "      run_inline_js();\n",
       "    } else {\n",
       "      load_libs(js_urls, function() {\n",
       "        console.log(\"Bokeh: BokehJS plotting callback run at\", now());\n",
       "        run_inline_js();\n",
       "      });\n",
       "    }\n",
       "  }(this));\n",
       "</script>"
      ]
     },
     "metadata": {},
     "output_type": "display_data"
    },
    {
     "data": {
      "text/plain": [
       "<bokeh.io._CommsHandle at 0x7fe8366223d0>"
      ]
     },
     "execution_count": 86,
     "metadata": {},
     "output_type": "execute_result"
    }
   ],
   "source": [
    "from bokeh.charts import vplot\n",
    "\n",
    "idx = create_inverted_index(items_t)\n",
    "\n",
    "df = pd.DataFrame({'term':[x for x in idx.keys()],'freq':[len(x) for x in idx.values()],\n",
    "                  'idf':[idf(x, idx, len(items_t)) for x in idx.keys()]})\n",
    "\n",
    "output_notebook(hide_banner=True)\n",
    "p1 = Bar(df.sort_values('freq', ascending=False)[:30], label=CatAttr(columns=['term'], sort=False), values='freq',\n",
    "        plot_width=800, plot_height=400)\n",
    "p2 = Bar(df.sort_values('freq', ascending=False)[:30], label=CatAttr(columns=['term'], sort=False), values='idf',\n",
    "        plot_width=800, plot_height=400)\n",
    "p = vplot(p1, p2)\n",
    "show(p)"
   ]
  },
  {
   "cell_type": "markdown",
   "metadata": {},
   "source": [
    "### TD-IDF Ranking \n",
    "\n",
    "After, we ranked based on TF-IDF which involved `get_results_tf()`, but we changed:\n",
    "\n",
    "1. We need to know how many times the term `t` appears in `D`.  We can store this in our inverted index.  Instead of storing the document ID we can add the document ID and the number of times the term appears.  Previously this was captured in the TF matrix. We can avoid computing the TF matrix if adjust our index.\n",
    "2. We have to change the function signature in the ranking function - passing in the total size of the corpus.\n",
    "3. We also have to change the score calculation to incorporate the IDF weighting.\n",
    "\n",
    "The `get_results_tfidf()` function scores documents based on TF-IDF.  "
   ]
  },
  {
   "cell_type": "code",
   "execution_count": 118,
   "metadata": {
    "collapsed": false
   },
   "outputs": [
    {
     "name": "stdout",
     "output_type": "stream",
     "text": [
      "\n",
      "Top 151 from recall set of 9 items:\n",
      "\t2.71 - geodude\n",
      "\t2.71 - graveler\n",
      "\t2.71 - golem\n",
      "\t2.71 - kabutops\n",
      "\t2.71 - aerodactyl\n",
      "\t2.71 - onix\n",
      "\t2.71 - omanyte\n",
      "\t2.71 - omastar\n",
      "\t2.71 - kabuto\n"
     ]
    }
   ],
   "source": [
    "def create_inverted_index(corpus):\n",
    "    idx={}\n",
    "    for i, doc in enumerate(corpus):\n",
    "        for word in doc.split():\n",
    "            if word in idx:\n",
    "                if i in idx[word]:\n",
    "                    # Update document's frequency\n",
    "                    idx[word][i] += 1\n",
    "                else:\n",
    "                    # Add document\n",
    "                    idx[word][i] = 1\n",
    "            else:\n",
    "                # Add term\n",
    "                idx[word] = {i:1}\n",
    "    return idx\n",
    "\n",
    "def get_results_tfidf(qry, idx, n):\n",
    "    score = Counter()\n",
    "    for term in qry.split():\n",
    "        # << IMPLEMENT TF-IDF SCORING >> \n",
    "        # CODE HERE >>\n",
    "        if term in idx:\n",
    "            i = idf(term, idx, n)\n",
    "            for doc in idx[term]:\n",
    "                score[doc] += idx[term][doc] * i\n",
    "        \n",
    "        \n",
    "    results=[]\n",
    "    for x in [[r[0],r[1]] for r in zip(score.keys(), score.values())]:\n",
    "        if x[1] > 0:\n",
    "            results.append([x[1],x[0]])\n",
    "    \n",
    "    sorted_results = sorted(results, key=lambda t: t[0] * -1 )\n",
    "    return sorted_results\n",
    "\n",
    "idx = create_inverted_index(items_t2)\n",
    "results = get_results_tfidf('rock', idx, len(items_t2))\n",
    "print_results(results,151)"
   ]
  },
  {
   "cell_type": "markdown",
   "metadata": {},
   "source": [
    "### Problematic Queries\n",
    "\n",
    "Although we have 'fixed' the suspension query, there was another problem which seemed to just return a heap of accessories:"
   ]
  },
  {
   "cell_type": "code",
   "execution_count": 123,
   "metadata": {
    "collapsed": false
   },
   "outputs": [
    {
     "name": "stdout",
     "output_type": "stream",
     "text": [
      "\n",
      "Top 151 from recall set of 2 items:\n",
      "\t3.91 - jynx\n",
      "\t3.91 - articuno\n"
     ]
    }
   ],
   "source": [
    "idx = create_inverted_index(items_t2)\n",
    "results = get_results_tfidf('ice', idx, len(items_t2))\n",
    "print_results(results,151)"
   ]
  },
  {
   "cell_type": "markdown",
   "metadata": {},
   "source": [
    "The items scoring highly have more terms in them.  The more terms in a title the more likely it is to match. \n",
    "\n",
    "This would lead us to hypothesize that we should penalise items where there are many more terms in the item title.  We might assume that results that score highly but have fewer terms are better that results that score highly but contain many terms.   \n",
    "\n",
    "In addition TF-IDF seems to result in many items getting exactly the same score - we would prefer to be able to seperate out the results rather than have 8 scoring 4.06. "
   ]
  },
  {
   "cell_type": "code",
   "execution_count": 127,
   "metadata": {
    "collapsed": false
   },
   "outputs": [
    {
     "name": "stdout",
     "output_type": "stream",
     "text": [
      "0 x Fire, 0 x Ice, Score = 3.91\n"
     ]
    }
   ],
   "source": [
    "df = pd.DataFrame({'score':[float(x[0]) for x in results],\n",
    "                   'title':[items_t[x[1]] for x in results]})\n",
    "\n",
    "d = df.groupby('score').first().reset_index()\n",
    "\n",
    "r1 = re.compile('(Fire)')\n",
    "r2 = re.compile('(Ice)')\n",
    "\n",
    "for i, t in enumerate(d.title):\n",
    "    n1 = r1.findall(t)\n",
    "    n2 = r2.findall(t)\n",
    "    print('%d x Fire, %d x Ice, Score = %0.2f'%(len(n1),len(n2),d.score[i]))"
   ]
  },
  {
   "cell_type": "code",
   "execution_count": 10,
   "metadata": {
    "collapsed": false
   },
   "outputs": [],
   "source": [
    "# from bokeh.plotting import output_notebook, show\n",
    "# from bokeh.charts import Scatter\n",
    "\n",
    "# # Plot score vs item length\n",
    "# df = pd.DataFrame({'score':[float(x[0]) for x in results],\n",
    "#                    'length':[len(items_t2[x[1]].split()) for x in results]})\n",
    "\n",
    "# output_notebook(hide_banner=True)\n",
    "# p = Scatter(df, x='score', y='length')\n",
    "# show(p)"
   ]
  },
  {
   "cell_type": "markdown",
   "metadata": {},
   "source": [
    "We did not want scores to be the same for lots of documents. High TF-IDF scores in shorter documents should be more relevant - so we boosted the score for documents that are shorter than average."
   ]
  },
  {
   "cell_type": "code",
   "execution_count": 134,
   "metadata": {
    "collapsed": true
   },
   "outputs": [],
   "source": [
    "def get_results_tfidf_boost(qry, corpus):\n",
    "    idx = create_inverted_index(corpus)\n",
    "    n = len(corpus)\n",
    "    d = [len(x.split()) for x in corpus]\n",
    "    d_avg = float(sum(d)) / len(d)\n",
    "    score = Counter()\n",
    "    for term in qry.split():\n",
    "        if term in idx:\n",
    "            i = idf(term, idx, n)\n",
    "            for doc in idx[term]:\n",
    "                f = float(idx[term][doc])\n",
    "                score[doc] += i *  ( f / (float(d[doc]) / d_avg) )\n",
    "        \n",
    "    results=[]\n",
    "    for x in [[r[0],r[1]] for r in zip(score.keys(), score.values())]:\n",
    "        if x[1] > 0:\n",
    "            # output [0] score, [1] doc_id\n",
    "            results.append([x[1],x[0]])\n",
    "\n",
    "    sorted_results = sorted(results, key=lambda t: t[0] * -1 )\n",
    "    return sorted_results"
   ]
  },
  {
   "cell_type": "code",
   "execution_count": 137,
   "metadata": {
    "collapsed": false,
    "scrolled": true
   },
   "outputs": [
    {
     "name": "stdout",
     "output_type": "stream",
     "text": [
      "\n",
      "Top 151 from recall set of 0 items:\n"
     ]
    },
    {
     "data": {
      "text/html": [
       "\n",
       "\n",
       "    <script type=\"text/javascript\">\n",
       "      \n",
       "      (function(global) {\n",
       "        function now() {\n",
       "          return new Date();\n",
       "        }\n",
       "      \n",
       "        if (typeof (window._bokeh_onload_callbacks) === \"undefined\") {\n",
       "          window._bokeh_onload_callbacks = [];\n",
       "        }\n",
       "      \n",
       "        function run_callbacks() {\n",
       "          window._bokeh_onload_callbacks.forEach(function(callback) { callback() });\n",
       "          delete window._bokeh_onload_callbacks\n",
       "          console.info(\"Bokeh: all callbacks have finished\");\n",
       "        }\n",
       "      \n",
       "        function load_libs(js_urls, callback) {\n",
       "          window._bokeh_onload_callbacks.push(callback);\n",
       "          if (window._bokeh_is_loading > 0) {\n",
       "            console.log(\"Bokeh: BokehJS is being loaded, scheduling callback at\", now());\n",
       "            return null;\n",
       "          }\n",
       "          if (js_urls == null || js_urls.length === 0) {\n",
       "            run_callbacks();\n",
       "            return null;\n",
       "          }\n",
       "          console.log(\"Bokeh: BokehJS not loaded, scheduling load and callback at\", now());\n",
       "          window._bokeh_is_loading = js_urls.length;\n",
       "          for (var i = 0; i < js_urls.length; i++) {\n",
       "            var url = js_urls[i];\n",
       "            var s = document.createElement('script');\n",
       "            s.src = url;\n",
       "            s.async = false;\n",
       "            s.onreadystatechange = s.onload = function() {\n",
       "              window._bokeh_is_loading--;\n",
       "              if (window._bokeh_is_loading === 0) {\n",
       "                console.log(\"Bokeh: all BokehJS libraries loaded\");\n",
       "                run_callbacks()\n",
       "              }\n",
       "            };\n",
       "            s.onerror = function() {\n",
       "              console.warn(\"failed to load library \" + url);\n",
       "            };\n",
       "            console.log(\"Bokeh: injecting script tag for BokehJS library: \", url);\n",
       "            document.getElementsByTagName(\"head\")[0].appendChild(s);\n",
       "          }\n",
       "        };var js_urls = ['https://cdn.pydata.org/bokeh/release/bokeh-0.11.0.min.js', 'https://cdn.pydata.org/bokeh/release/bokeh-widgets-0.11.0.min.js', 'https://cdn.pydata.org/bokeh/release/bokeh-compiler-0.11.0.min.js'];\n",
       "      \n",
       "        var inline_js = [\n",
       "          function(Bokeh) {\n",
       "            Bokeh.set_log_level(\"info\");\n",
       "          },\n",
       "          function(Bokeh) {\n",
       "            console.log(\"Bokeh: injecting CSS: https://cdn.pydata.org/bokeh/release/bokeh-0.11.0.min.css\");\n",
       "            Bokeh.embed.inject_css(\"https://cdn.pydata.org/bokeh/release/bokeh-0.11.0.min.css\");\n",
       "            console.log(\"Bokeh: injecting CSS: https://cdn.pydata.org/bokeh/release/bokeh-widgets-0.11.0.min.css\");\n",
       "            Bokeh.embed.inject_css(\"https://cdn.pydata.org/bokeh/release/bokeh-widgets-0.11.0.min.css\");\n",
       "          }\n",
       "        ];\n",
       "      \n",
       "        function run_inline_js() {\n",
       "          for (var i = 0; i < inline_js.length; i++) {\n",
       "            inline_js[i](window.Bokeh);\n",
       "          }\n",
       "        }\n",
       "      \n",
       "        if (window._bokeh_is_loading === 0) {\n",
       "          console.log(\"Bokeh: BokehJS loaded, going straight to plotting\");\n",
       "          run_inline_js();\n",
       "        } else {\n",
       "          load_libs(js_urls, function() {\n",
       "            console.log(\"Bokeh: BokehJS plotting callback run at\", now());\n",
       "            run_inline_js();\n",
       "          });\n",
       "        }\n",
       "      }(this));\n",
       "    </script>\n",
       "    <div>\n",
       "        <a href=\"http://bokeh.pydata.org\" target=\"_blank\" class=\"bk-logo bk-logo-small bk-logo-notebook\"></a>\n",
       "        <span>BokehJS successfully loaded.</span>\n",
       "    </div>"
      ]
     },
     "metadata": {},
     "output_type": "display_data"
    },
    {
     "ename": "ValueError",
     "evalue": "Out of range float values are not JSON compliant: nan",
     "output_type": "error",
     "traceback": [
      "\u001b[1;31m---------------------------------------------------------------------------\u001b[0m",
      "\u001b[1;31mValueError\u001b[0m                                Traceback (most recent call last)",
      "\u001b[1;32m<ipython-input-137-63885d790654>\u001b[0m in \u001b[0;36m<module>\u001b[1;34m()\u001b[0m\n\u001b[0;32m      8\u001b[0m \u001b[0moutput_notebook\u001b[0m\u001b[1;33m(\u001b[0m\u001b[1;33m)\u001b[0m\u001b[1;33m\u001b[0m\u001b[0m\n\u001b[0;32m      9\u001b[0m \u001b[0mp\u001b[0m \u001b[1;33m=\u001b[0m \u001b[0mScatter\u001b[0m\u001b[1;33m(\u001b[0m\u001b[0mdf\u001b[0m\u001b[1;33m,\u001b[0m \u001b[0mx\u001b[0m\u001b[1;33m=\u001b[0m\u001b[1;34m'score'\u001b[0m\u001b[1;33m,\u001b[0m \u001b[0my\u001b[0m\u001b[1;33m=\u001b[0m\u001b[1;34m'length'\u001b[0m\u001b[1;33m)\u001b[0m\u001b[1;33m\u001b[0m\u001b[0m\n\u001b[1;32m---> 10\u001b[1;33m \u001b[0mshow\u001b[0m\u001b[1;33m(\u001b[0m\u001b[0mp\u001b[0m\u001b[1;33m)\u001b[0m\u001b[1;33m\u001b[0m\u001b[0m\n\u001b[0m",
      "\u001b[1;32m/home/monique/anaconda2/lib/python2.7/site-packages/bokeh/io.pyc\u001b[0m in \u001b[0;36mshow\u001b[1;34m(obj, browser, new)\u001b[0m\n\u001b[0;32m    277\u001b[0m \u001b[1;33m\u001b[0m\u001b[0m\n\u001b[0;32m    278\u001b[0m     '''\n\u001b[1;32m--> 279\u001b[1;33m     \u001b[1;32mreturn\u001b[0m \u001b[0m_show_with_state\u001b[0m\u001b[1;33m(\u001b[0m\u001b[0mobj\u001b[0m\u001b[1;33m,\u001b[0m \u001b[0m_state\u001b[0m\u001b[1;33m,\u001b[0m \u001b[0mbrowser\u001b[0m\u001b[1;33m,\u001b[0m \u001b[0mnew\u001b[0m\u001b[1;33m)\u001b[0m\u001b[1;33m\u001b[0m\u001b[0m\n\u001b[0m\u001b[0;32m    280\u001b[0m \u001b[1;33m\u001b[0m\u001b[0m\n\u001b[0;32m    281\u001b[0m \u001b[1;32mdef\u001b[0m \u001b[0m_show_with_state\u001b[0m\u001b[1;33m(\u001b[0m\u001b[0mobj\u001b[0m\u001b[1;33m,\u001b[0m \u001b[0mstate\u001b[0m\u001b[1;33m,\u001b[0m \u001b[0mbrowser\u001b[0m\u001b[1;33m,\u001b[0m \u001b[0mnew\u001b[0m\u001b[1;33m)\u001b[0m\u001b[1;33m:\u001b[0m\u001b[1;33m\u001b[0m\u001b[0m\n",
      "\u001b[1;32m/home/monique/anaconda2/lib/python2.7/site-packages/bokeh/io.pyc\u001b[0m in \u001b[0;36m_show_with_state\u001b[1;34m(obj, state, browser, new)\u001b[0m\n\u001b[0;32m    285\u001b[0m \u001b[1;33m\u001b[0m\u001b[0m\n\u001b[0;32m    286\u001b[0m     \u001b[1;32mif\u001b[0m \u001b[0mstate\u001b[0m\u001b[1;33m.\u001b[0m\u001b[0mnotebook\u001b[0m\u001b[1;33m:\u001b[0m\u001b[1;33m\u001b[0m\u001b[0m\n\u001b[1;32m--> 287\u001b[1;33m         \u001b[0mcomms_handle\u001b[0m \u001b[1;33m=\u001b[0m \u001b[0m_show_notebook_with_state\u001b[0m\u001b[1;33m(\u001b[0m\u001b[0mobj\u001b[0m\u001b[1;33m,\u001b[0m \u001b[0mstate\u001b[0m\u001b[1;33m)\u001b[0m\u001b[1;33m\u001b[0m\u001b[0m\n\u001b[0m\u001b[0;32m    288\u001b[0m \u001b[1;33m\u001b[0m\u001b[0m\n\u001b[0;32m    289\u001b[0m     \u001b[1;32melif\u001b[0m \u001b[0mstate\u001b[0m\u001b[1;33m.\u001b[0m\u001b[0mserver_enabled\u001b[0m\u001b[1;33m:\u001b[0m\u001b[1;33m\u001b[0m\u001b[0m\n",
      "\u001b[1;32m/home/monique/anaconda2/lib/python2.7/site-packages/bokeh/io.pyc\u001b[0m in \u001b[0;36m_show_notebook_with_state\u001b[1;34m(obj, state)\u001b[0m\n\u001b[0;32m    306\u001b[0m     \u001b[1;32melse\u001b[0m\u001b[1;33m:\u001b[0m\u001b[1;33m\u001b[0m\u001b[0m\n\u001b[0;32m    307\u001b[0m         \u001b[0mcomms_target\u001b[0m \u001b[1;33m=\u001b[0m \u001b[0mstr\u001b[0m\u001b[1;33m(\u001b[0m\u001b[0muuid\u001b[0m\u001b[1;33m.\u001b[0m\u001b[0muuid4\u001b[0m\u001b[1;33m(\u001b[0m\u001b[1;33m)\u001b[0m\u001b[1;33m)\u001b[0m\u001b[1;33m\u001b[0m\u001b[0m\n\u001b[1;32m--> 308\u001b[1;33m         \u001b[0mpublish_display_data\u001b[0m\u001b[1;33m(\u001b[0m\u001b[1;33m{\u001b[0m\u001b[1;34m'text/html'\u001b[0m\u001b[1;33m:\u001b[0m \u001b[0mnotebook_div\u001b[0m\u001b[1;33m(\u001b[0m\u001b[0mobj\u001b[0m\u001b[1;33m,\u001b[0m \u001b[0mcomms_target\u001b[0m\u001b[1;33m)\u001b[0m\u001b[1;33m}\u001b[0m\u001b[1;33m)\u001b[0m\u001b[1;33m\u001b[0m\u001b[0m\n\u001b[0m\u001b[0;32m    309\u001b[0m         \u001b[0mhandle\u001b[0m \u001b[1;33m=\u001b[0m \u001b[0m_CommsHandle\u001b[0m\u001b[1;33m(\u001b[0m\u001b[0mget_comms\u001b[0m\u001b[1;33m(\u001b[0m\u001b[0mcomms_target\u001b[0m\u001b[1;33m)\u001b[0m\u001b[1;33m,\u001b[0m \u001b[0mstate\u001b[0m\u001b[1;33m.\u001b[0m\u001b[0mdocument\u001b[0m\u001b[1;33m,\u001b[0m \u001b[0mstate\u001b[0m\u001b[1;33m.\u001b[0m\u001b[0mdocument\u001b[0m\u001b[1;33m.\u001b[0m\u001b[0mto_json\u001b[0m\u001b[1;33m(\u001b[0m\u001b[1;33m)\u001b[0m\u001b[1;33m)\u001b[0m\u001b[1;33m\u001b[0m\u001b[0m\n\u001b[0;32m    310\u001b[0m         \u001b[0mstate\u001b[0m\u001b[1;33m.\u001b[0m\u001b[0mlast_comms_handle\u001b[0m \u001b[1;33m=\u001b[0m \u001b[0mhandle\u001b[0m\u001b[1;33m\u001b[0m\u001b[0m\n",
      "\u001b[1;32m/home/monique/anaconda2/lib/python2.7/site-packages/bokeh/embed.pyc\u001b[0m in \u001b[0;36mnotebook_div\u001b[1;34m(model, notebook_comms_target)\u001b[0m\n\u001b[0;32m    248\u001b[0m \u001b[1;33m\u001b[0m\u001b[0m\n\u001b[0;32m    249\u001b[0m     \u001b[1;32mwith\u001b[0m \u001b[0m_ModelInDocument\u001b[0m\u001b[1;33m(\u001b[0m\u001b[0mmodel\u001b[0m\u001b[1;33m)\u001b[0m\u001b[1;33m:\u001b[0m\u001b[1;33m\u001b[0m\u001b[0m\n\u001b[1;32m--> 250\u001b[1;33m         \u001b[1;33m(\u001b[0m\u001b[0mdocs_json\u001b[0m\u001b[1;33m,\u001b[0m \u001b[0mrender_items\u001b[0m\u001b[1;33m)\u001b[0m \u001b[1;33m=\u001b[0m \u001b[0m_standalone_docs_json_and_render_items\u001b[0m\u001b[1;33m(\u001b[0m\u001b[1;33m[\u001b[0m\u001b[0mmodel\u001b[0m\u001b[1;33m]\u001b[0m\u001b[1;33m)\u001b[0m\u001b[1;33m\u001b[0m\u001b[0m\n\u001b[0m\u001b[0;32m    251\u001b[0m \u001b[1;33m\u001b[0m\u001b[0m\n\u001b[0;32m    252\u001b[0m     \u001b[0mitem\u001b[0m \u001b[1;33m=\u001b[0m \u001b[0mrender_items\u001b[0m\u001b[1;33m[\u001b[0m\u001b[1;36m0\u001b[0m\u001b[1;33m]\u001b[0m\u001b[1;33m\u001b[0m\u001b[0m\n",
      "\u001b[1;32m/home/monique/anaconda2/lib/python2.7/site-packages/bokeh/embed.pyc\u001b[0m in \u001b[0;36m_standalone_docs_json_and_render_items\u001b[1;34m(models)\u001b[0m\n\u001b[0;32m    565\u001b[0m     \u001b[0mdocs_json\u001b[0m \u001b[1;33m=\u001b[0m \u001b[1;33m{\u001b[0m\u001b[1;33m}\u001b[0m\u001b[1;33m\u001b[0m\u001b[0m\n\u001b[0;32m    566\u001b[0m     \u001b[1;32mfor\u001b[0m \u001b[0mk\u001b[0m\u001b[1;33m,\u001b[0m \u001b[0mv\u001b[0m \u001b[1;32min\u001b[0m \u001b[0mdocs_by_id\u001b[0m\u001b[1;33m.\u001b[0m\u001b[0mitems\u001b[0m\u001b[1;33m(\u001b[0m\u001b[1;33m)\u001b[0m\u001b[1;33m:\u001b[0m\u001b[1;33m\u001b[0m\u001b[0m\n\u001b[1;32m--> 567\u001b[1;33m         \u001b[0mdocs_json\u001b[0m\u001b[1;33m[\u001b[0m\u001b[0mk\u001b[0m\u001b[1;33m]\u001b[0m \u001b[1;33m=\u001b[0m \u001b[0mv\u001b[0m\u001b[1;33m.\u001b[0m\u001b[0mto_json\u001b[0m\u001b[1;33m(\u001b[0m\u001b[1;33m)\u001b[0m\u001b[1;33m\u001b[0m\u001b[0m\n\u001b[0m\u001b[0;32m    568\u001b[0m \u001b[1;33m\u001b[0m\u001b[0m\n\u001b[0;32m    569\u001b[0m     \u001b[1;32mreturn\u001b[0m \u001b[1;33m(\u001b[0m\u001b[0mdocs_json\u001b[0m\u001b[1;33m,\u001b[0m \u001b[0mrender_items\u001b[0m\u001b[1;33m)\u001b[0m\u001b[1;33m\u001b[0m\u001b[0m\n",
      "\u001b[1;32m/home/monique/anaconda2/lib/python2.7/site-packages/bokeh/document.pyc\u001b[0m in \u001b[0;36mto_json\u001b[1;34m(self)\u001b[0m\n\u001b[0;32m    715\u001b[0m         \u001b[1;31m# this is a total hack to go via a string, needed because\u001b[0m\u001b[1;33m\u001b[0m\u001b[1;33m\u001b[0m\u001b[0m\n\u001b[0;32m    716\u001b[0m         \u001b[1;31m# our BokehJSONEncoder goes straight to a string.\u001b[0m\u001b[1;33m\u001b[0m\u001b[1;33m\u001b[0m\u001b[0m\n\u001b[1;32m--> 717\u001b[1;33m         \u001b[0mdoc_json\u001b[0m \u001b[1;33m=\u001b[0m \u001b[0mself\u001b[0m\u001b[1;33m.\u001b[0m\u001b[0mto_json_string\u001b[0m\u001b[1;33m(\u001b[0m\u001b[1;33m)\u001b[0m\u001b[1;33m\u001b[0m\u001b[0m\n\u001b[0m\u001b[0;32m    718\u001b[0m         \u001b[1;32mreturn\u001b[0m \u001b[0mloads\u001b[0m\u001b[1;33m(\u001b[0m\u001b[0mdoc_json\u001b[0m\u001b[1;33m)\u001b[0m\u001b[1;33m\u001b[0m\u001b[0m\n\u001b[0;32m    719\u001b[0m \u001b[1;33m\u001b[0m\u001b[0m\n",
      "\u001b[1;32m/home/monique/anaconda2/lib/python2.7/site-packages/bokeh/document.pyc\u001b[0m in \u001b[0;36mto_json_string\u001b[1;34m(self, indent)\u001b[0m\n\u001b[0;32m    708\u001b[0m         }\n\u001b[0;32m    709\u001b[0m \u001b[1;33m\u001b[0m\u001b[0m\n\u001b[1;32m--> 710\u001b[1;33m         \u001b[1;32mreturn\u001b[0m \u001b[0mserialize_json\u001b[0m\u001b[1;33m(\u001b[0m\u001b[0mjson\u001b[0m\u001b[1;33m,\u001b[0m \u001b[0mindent\u001b[0m\u001b[1;33m=\u001b[0m\u001b[0mindent\u001b[0m\u001b[1;33m,\u001b[0m \u001b[0msort_keys\u001b[0m\u001b[1;33m=\u001b[0m\u001b[0mTrue\u001b[0m\u001b[1;33m)\u001b[0m\u001b[1;33m\u001b[0m\u001b[0m\n\u001b[0m\u001b[0;32m    711\u001b[0m \u001b[1;33m\u001b[0m\u001b[0m\n\u001b[0;32m    712\u001b[0m     \u001b[1;32mdef\u001b[0m \u001b[0mto_json\u001b[0m\u001b[1;33m(\u001b[0m\u001b[0mself\u001b[0m\u001b[1;33m)\u001b[0m\u001b[1;33m:\u001b[0m\u001b[1;33m\u001b[0m\u001b[0m\n",
      "\u001b[1;32m/home/monique/anaconda2/lib/python2.7/site-packages/bokeh/core/json_encoder.pyc\u001b[0m in \u001b[0;36mserialize_json\u001b[1;34m(obj, encoder, **kwargs)\u001b[0m\n\u001b[0;32m     84\u001b[0m \u001b[1;33m\u001b[0m\u001b[0m\n\u001b[0;32m     85\u001b[0m     '''\n\u001b[1;32m---> 86\u001b[1;33m     \u001b[1;32mreturn\u001b[0m \u001b[0mjson\u001b[0m\u001b[1;33m.\u001b[0m\u001b[0mdumps\u001b[0m\u001b[1;33m(\u001b[0m\u001b[0mobj\u001b[0m\u001b[1;33m,\u001b[0m \u001b[0mcls\u001b[0m\u001b[1;33m=\u001b[0m\u001b[0mencoder\u001b[0m\u001b[1;33m,\u001b[0m \u001b[0mallow_nan\u001b[0m\u001b[1;33m=\u001b[0m\u001b[0mFalse\u001b[0m\u001b[1;33m,\u001b[0m \u001b[1;33m**\u001b[0m\u001b[0mkwargs\u001b[0m\u001b[1;33m)\u001b[0m\u001b[1;33m\u001b[0m\u001b[0m\n\u001b[0m",
      "\u001b[1;32m/home/monique/anaconda2/lib/python2.7/json/__init__.pyc\u001b[0m in \u001b[0;36mdumps\u001b[1;34m(obj, skipkeys, ensure_ascii, check_circular, allow_nan, cls, indent, separators, encoding, default, sort_keys, **kw)\u001b[0m\n\u001b[0;32m    249\u001b[0m         \u001b[0mcheck_circular\u001b[0m\u001b[1;33m=\u001b[0m\u001b[0mcheck_circular\u001b[0m\u001b[1;33m,\u001b[0m \u001b[0mallow_nan\u001b[0m\u001b[1;33m=\u001b[0m\u001b[0mallow_nan\u001b[0m\u001b[1;33m,\u001b[0m \u001b[0mindent\u001b[0m\u001b[1;33m=\u001b[0m\u001b[0mindent\u001b[0m\u001b[1;33m,\u001b[0m\u001b[1;33m\u001b[0m\u001b[0m\n\u001b[0;32m    250\u001b[0m         \u001b[0mseparators\u001b[0m\u001b[1;33m=\u001b[0m\u001b[0mseparators\u001b[0m\u001b[1;33m,\u001b[0m \u001b[0mencoding\u001b[0m\u001b[1;33m=\u001b[0m\u001b[0mencoding\u001b[0m\u001b[1;33m,\u001b[0m \u001b[0mdefault\u001b[0m\u001b[1;33m=\u001b[0m\u001b[0mdefault\u001b[0m\u001b[1;33m,\u001b[0m\u001b[1;33m\u001b[0m\u001b[0m\n\u001b[1;32m--> 251\u001b[1;33m         sort_keys=sort_keys, **kw).encode(obj)\n\u001b[0m\u001b[0;32m    252\u001b[0m \u001b[1;33m\u001b[0m\u001b[0m\n\u001b[0;32m    253\u001b[0m \u001b[1;33m\u001b[0m\u001b[0m\n",
      "\u001b[1;32m/home/monique/anaconda2/lib/python2.7/json/encoder.pyc\u001b[0m in \u001b[0;36mencode\u001b[1;34m(self, o)\u001b[0m\n\u001b[0;32m    207\u001b[0m         \u001b[0mchunks\u001b[0m \u001b[1;33m=\u001b[0m \u001b[0mself\u001b[0m\u001b[1;33m.\u001b[0m\u001b[0miterencode\u001b[0m\u001b[1;33m(\u001b[0m\u001b[0mo\u001b[0m\u001b[1;33m,\u001b[0m \u001b[0m_one_shot\u001b[0m\u001b[1;33m=\u001b[0m\u001b[0mTrue\u001b[0m\u001b[1;33m)\u001b[0m\u001b[1;33m\u001b[0m\u001b[0m\n\u001b[0;32m    208\u001b[0m         \u001b[1;32mif\u001b[0m \u001b[1;32mnot\u001b[0m \u001b[0misinstance\u001b[0m\u001b[1;33m(\u001b[0m\u001b[0mchunks\u001b[0m\u001b[1;33m,\u001b[0m \u001b[1;33m(\u001b[0m\u001b[0mlist\u001b[0m\u001b[1;33m,\u001b[0m \u001b[0mtuple\u001b[0m\u001b[1;33m)\u001b[0m\u001b[1;33m)\u001b[0m\u001b[1;33m:\u001b[0m\u001b[1;33m\u001b[0m\u001b[0m\n\u001b[1;32m--> 209\u001b[1;33m             \u001b[0mchunks\u001b[0m \u001b[1;33m=\u001b[0m \u001b[0mlist\u001b[0m\u001b[1;33m(\u001b[0m\u001b[0mchunks\u001b[0m\u001b[1;33m)\u001b[0m\u001b[1;33m\u001b[0m\u001b[0m\n\u001b[0m\u001b[0;32m    210\u001b[0m         \u001b[1;32mreturn\u001b[0m \u001b[1;34m''\u001b[0m\u001b[1;33m.\u001b[0m\u001b[0mjoin\u001b[0m\u001b[1;33m(\u001b[0m\u001b[0mchunks\u001b[0m\u001b[1;33m)\u001b[0m\u001b[1;33m\u001b[0m\u001b[0m\n\u001b[0;32m    211\u001b[0m \u001b[1;33m\u001b[0m\u001b[0m\n",
      "\u001b[1;32m/home/monique/anaconda2/lib/python2.7/json/encoder.pyc\u001b[0m in \u001b[0;36m_iterencode\u001b[1;34m(o, _current_indent_level)\u001b[0m\n\u001b[0;32m    432\u001b[0m                 \u001b[1;32myield\u001b[0m \u001b[0mchunk\u001b[0m\u001b[1;33m\u001b[0m\u001b[0m\n\u001b[0;32m    433\u001b[0m         \u001b[1;32melif\u001b[0m \u001b[0misinstance\u001b[0m\u001b[1;33m(\u001b[0m\u001b[0mo\u001b[0m\u001b[1;33m,\u001b[0m \u001b[0mdict\u001b[0m\u001b[1;33m)\u001b[0m\u001b[1;33m:\u001b[0m\u001b[1;33m\u001b[0m\u001b[0m\n\u001b[1;32m--> 434\u001b[1;33m             \u001b[1;32mfor\u001b[0m \u001b[0mchunk\u001b[0m \u001b[1;32min\u001b[0m \u001b[0m_iterencode_dict\u001b[0m\u001b[1;33m(\u001b[0m\u001b[0mo\u001b[0m\u001b[1;33m,\u001b[0m \u001b[0m_current_indent_level\u001b[0m\u001b[1;33m)\u001b[0m\u001b[1;33m:\u001b[0m\u001b[1;33m\u001b[0m\u001b[0m\n\u001b[0m\u001b[0;32m    435\u001b[0m                 \u001b[1;32myield\u001b[0m \u001b[0mchunk\u001b[0m\u001b[1;33m\u001b[0m\u001b[0m\n\u001b[0;32m    436\u001b[0m         \u001b[1;32melse\u001b[0m\u001b[1;33m:\u001b[0m\u001b[1;33m\u001b[0m\u001b[0m\n",
      "\u001b[1;32m/home/monique/anaconda2/lib/python2.7/json/encoder.pyc\u001b[0m in \u001b[0;36m_iterencode_dict\u001b[1;34m(dct, _current_indent_level)\u001b[0m\n\u001b[0;32m    406\u001b[0m                 \u001b[1;32melse\u001b[0m\u001b[1;33m:\u001b[0m\u001b[1;33m\u001b[0m\u001b[0m\n\u001b[0;32m    407\u001b[0m                     \u001b[0mchunks\u001b[0m \u001b[1;33m=\u001b[0m \u001b[0m_iterencode\u001b[0m\u001b[1;33m(\u001b[0m\u001b[0mvalue\u001b[0m\u001b[1;33m,\u001b[0m \u001b[0m_current_indent_level\u001b[0m\u001b[1;33m)\u001b[0m\u001b[1;33m\u001b[0m\u001b[0m\n\u001b[1;32m--> 408\u001b[1;33m                 \u001b[1;32mfor\u001b[0m \u001b[0mchunk\u001b[0m \u001b[1;32min\u001b[0m \u001b[0mchunks\u001b[0m\u001b[1;33m:\u001b[0m\u001b[1;33m\u001b[0m\u001b[0m\n\u001b[0m\u001b[0;32m    409\u001b[0m                     \u001b[1;32myield\u001b[0m \u001b[0mchunk\u001b[0m\u001b[1;33m\u001b[0m\u001b[0m\n\u001b[0;32m    410\u001b[0m         \u001b[1;32mif\u001b[0m \u001b[0mnewline_indent\u001b[0m \u001b[1;32mis\u001b[0m \u001b[1;32mnot\u001b[0m \u001b[0mNone\u001b[0m\u001b[1;33m:\u001b[0m\u001b[1;33m\u001b[0m\u001b[0m\n",
      "\u001b[1;32m/home/monique/anaconda2/lib/python2.7/json/encoder.pyc\u001b[0m in \u001b[0;36m_iterencode_dict\u001b[1;34m(dct, _current_indent_level)\u001b[0m\n\u001b[0;32m    406\u001b[0m                 \u001b[1;32melse\u001b[0m\u001b[1;33m:\u001b[0m\u001b[1;33m\u001b[0m\u001b[0m\n\u001b[0;32m    407\u001b[0m                     \u001b[0mchunks\u001b[0m \u001b[1;33m=\u001b[0m \u001b[0m_iterencode\u001b[0m\u001b[1;33m(\u001b[0m\u001b[0mvalue\u001b[0m\u001b[1;33m,\u001b[0m \u001b[0m_current_indent_level\u001b[0m\u001b[1;33m)\u001b[0m\u001b[1;33m\u001b[0m\u001b[0m\n\u001b[1;32m--> 408\u001b[1;33m                 \u001b[1;32mfor\u001b[0m \u001b[0mchunk\u001b[0m \u001b[1;32min\u001b[0m \u001b[0mchunks\u001b[0m\u001b[1;33m:\u001b[0m\u001b[1;33m\u001b[0m\u001b[0m\n\u001b[0m\u001b[0;32m    409\u001b[0m                     \u001b[1;32myield\u001b[0m \u001b[0mchunk\u001b[0m\u001b[1;33m\u001b[0m\u001b[0m\n\u001b[0;32m    410\u001b[0m         \u001b[1;32mif\u001b[0m \u001b[0mnewline_indent\u001b[0m \u001b[1;32mis\u001b[0m \u001b[1;32mnot\u001b[0m \u001b[0mNone\u001b[0m\u001b[1;33m:\u001b[0m\u001b[1;33m\u001b[0m\u001b[0m\n",
      "\u001b[1;32m/home/monique/anaconda2/lib/python2.7/json/encoder.pyc\u001b[0m in \u001b[0;36m_iterencode_list\u001b[1;34m(lst, _current_indent_level)\u001b[0m\n\u001b[0;32m    330\u001b[0m                 \u001b[1;32melse\u001b[0m\u001b[1;33m:\u001b[0m\u001b[1;33m\u001b[0m\u001b[0m\n\u001b[0;32m    331\u001b[0m                     \u001b[0mchunks\u001b[0m \u001b[1;33m=\u001b[0m \u001b[0m_iterencode\u001b[0m\u001b[1;33m(\u001b[0m\u001b[0mvalue\u001b[0m\u001b[1;33m,\u001b[0m \u001b[0m_current_indent_level\u001b[0m\u001b[1;33m)\u001b[0m\u001b[1;33m\u001b[0m\u001b[0m\n\u001b[1;32m--> 332\u001b[1;33m                 \u001b[1;32mfor\u001b[0m \u001b[0mchunk\u001b[0m \u001b[1;32min\u001b[0m \u001b[0mchunks\u001b[0m\u001b[1;33m:\u001b[0m\u001b[1;33m\u001b[0m\u001b[0m\n\u001b[0m\u001b[0;32m    333\u001b[0m                     \u001b[1;32myield\u001b[0m \u001b[0mchunk\u001b[0m\u001b[1;33m\u001b[0m\u001b[0m\n\u001b[0;32m    334\u001b[0m         \u001b[1;32mif\u001b[0m \u001b[0mnewline_indent\u001b[0m \u001b[1;32mis\u001b[0m \u001b[1;32mnot\u001b[0m \u001b[0mNone\u001b[0m\u001b[1;33m:\u001b[0m\u001b[1;33m\u001b[0m\u001b[0m\n",
      "\u001b[1;32m/home/monique/anaconda2/lib/python2.7/json/encoder.pyc\u001b[0m in \u001b[0;36m_iterencode_dict\u001b[1;34m(dct, _current_indent_level)\u001b[0m\n\u001b[0;32m    406\u001b[0m                 \u001b[1;32melse\u001b[0m\u001b[1;33m:\u001b[0m\u001b[1;33m\u001b[0m\u001b[0m\n\u001b[0;32m    407\u001b[0m                     \u001b[0mchunks\u001b[0m \u001b[1;33m=\u001b[0m \u001b[0m_iterencode\u001b[0m\u001b[1;33m(\u001b[0m\u001b[0mvalue\u001b[0m\u001b[1;33m,\u001b[0m \u001b[0m_current_indent_level\u001b[0m\u001b[1;33m)\u001b[0m\u001b[1;33m\u001b[0m\u001b[0m\n\u001b[1;32m--> 408\u001b[1;33m                 \u001b[1;32mfor\u001b[0m \u001b[0mchunk\u001b[0m \u001b[1;32min\u001b[0m \u001b[0mchunks\u001b[0m\u001b[1;33m:\u001b[0m\u001b[1;33m\u001b[0m\u001b[0m\n\u001b[0m\u001b[0;32m    409\u001b[0m                     \u001b[1;32myield\u001b[0m \u001b[0mchunk\u001b[0m\u001b[1;33m\u001b[0m\u001b[0m\n\u001b[0;32m    410\u001b[0m         \u001b[1;32mif\u001b[0m \u001b[0mnewline_indent\u001b[0m \u001b[1;32mis\u001b[0m \u001b[1;32mnot\u001b[0m \u001b[0mNone\u001b[0m\u001b[1;33m:\u001b[0m\u001b[1;33m\u001b[0m\u001b[0m\n",
      "\u001b[1;32m/home/monique/anaconda2/lib/python2.7/json/encoder.pyc\u001b[0m in \u001b[0;36m_iterencode_dict\u001b[1;34m(dct, _current_indent_level)\u001b[0m\n\u001b[0;32m    398\u001b[0m                 \u001b[1;32myield\u001b[0m \u001b[0mstr\u001b[0m\u001b[1;33m(\u001b[0m\u001b[0mvalue\u001b[0m\u001b[1;33m)\u001b[0m\u001b[1;33m\u001b[0m\u001b[0m\n\u001b[0;32m    399\u001b[0m             \u001b[1;32melif\u001b[0m \u001b[0misinstance\u001b[0m\u001b[1;33m(\u001b[0m\u001b[0mvalue\u001b[0m\u001b[1;33m,\u001b[0m \u001b[0mfloat\u001b[0m\u001b[1;33m)\u001b[0m\u001b[1;33m:\u001b[0m\u001b[1;33m\u001b[0m\u001b[0m\n\u001b[1;32m--> 400\u001b[1;33m                 \u001b[1;32myield\u001b[0m \u001b[0m_floatstr\u001b[0m\u001b[1;33m(\u001b[0m\u001b[0mvalue\u001b[0m\u001b[1;33m)\u001b[0m\u001b[1;33m\u001b[0m\u001b[0m\n\u001b[0m\u001b[0;32m    401\u001b[0m             \u001b[1;32melse\u001b[0m\u001b[1;33m:\u001b[0m\u001b[1;33m\u001b[0m\u001b[0m\n\u001b[0;32m    402\u001b[0m                 \u001b[1;32mif\u001b[0m \u001b[0misinstance\u001b[0m\u001b[1;33m(\u001b[0m\u001b[0mvalue\u001b[0m\u001b[1;33m,\u001b[0m \u001b[1;33m(\u001b[0m\u001b[0mlist\u001b[0m\u001b[1;33m,\u001b[0m \u001b[0mtuple\u001b[0m\u001b[1;33m)\u001b[0m\u001b[1;33m)\u001b[0m\u001b[1;33m:\u001b[0m\u001b[1;33m\u001b[0m\u001b[0m\n",
      "\u001b[1;32m/home/monique/anaconda2/lib/python2.7/json/encoder.pyc\u001b[0m in \u001b[0;36mfloatstr\u001b[1;34m(o, allow_nan, _repr, _inf, _neginf)\u001b[0m\n\u001b[0;32m    252\u001b[0m                 raise ValueError(\n\u001b[0;32m    253\u001b[0m                     \u001b[1;34m\"Out of range float values are not JSON compliant: \"\u001b[0m \u001b[1;33m+\u001b[0m\u001b[1;33m\u001b[0m\u001b[0m\n\u001b[1;32m--> 254\u001b[1;33m                     repr(o))\n\u001b[0m\u001b[0;32m    255\u001b[0m \u001b[1;33m\u001b[0m\u001b[0m\n\u001b[0;32m    256\u001b[0m             \u001b[1;32mreturn\u001b[0m \u001b[0mtext\u001b[0m\u001b[1;33m\u001b[0m\u001b[0m\n",
      "\u001b[1;31mValueError\u001b[0m: Out of range float values are not JSON compliant: nan"
     ]
    }
   ],
   "source": [
    "results = get_results_tfidf_boost('Grass', items_t2)\n",
    "print_results(results, 151)\n",
    "\n",
    "# Plot score vs item length\n",
    "df = pd.DataFrame({'score':[float(x[0]) for x in results],\n",
    "                   'length':[len(items_t2[x[1]].split()) for x in results]})\n",
    "\n",
    "output_notebook()\n",
    "p = Scatter(df, x='score', y='length')\n",
    "show(p)"
   ]
  },
  {
   "cell_type": "markdown",
   "metadata": {},
   "source": [
    "## Implementing BM25\n",
    "\n",
    "Here is where we implemented the BM25 algorithm.    "
   ]
  },
  {
   "cell_type": "code",
   "execution_count": 138,
   "metadata": {
    "collapsed": true
   },
   "outputs": [],
   "source": [
    "def get_results_bm25(qry, corpus, k1=1.5, b=0.75):\n",
    "    idx = create_inverted_index(corpus)\n",
    "    # 1.Assign (integer) n to be the number of documents in the corpus\n",
    "    ## HIDE\n",
    "    n = len(corpus)\n",
    "    # 2.Assign (list) d with elements corresponding to the number of terms in each document in the corpus\n",
    "    ## HIDE\n",
    "    d = [len(x.split()) for x in corpus]\n",
    "    # 3.Assign (float) d_avg as the average document length of the documents in the corpus\n",
    "    ## HIDE\n",
    "    d_avg = float(sum(d)) / len(d)                \n",
    "    score = Counter()\n",
    "    for term in qry.split():\n",
    "        if term in idx:\n",
    "            i = idf(term, idx, n)\n",
    "            for doc in idx[term]:\n",
    "                # 4.Assign (float) f equal to the number of times the term appears in doc\n",
    "                ## HIDE\n",
    "                f = float(idx[term][doc])\n",
    "                # 5.Assign (float) s the BM25 score for this (term, document) pair\n",
    "                # HIDE\n",
    "                s = i * (( f * (k1 + 1) ) / (f + k1 * (1 - b + (b * (float(d[doc]) / d_avg)))))\n",
    "                score[doc] += s\n",
    "                \n",
    "    results=[]\n",
    "    for x in [[r[0],r[1]] for r in zip(score.keys(), score.values())]:\n",
    "        if x[1] > 0:\n",
    "            results.append([x[1],x[0]])\n",
    "\n",
    "    sorted_results = sorted(results, key=lambda t: t[0] * -1 )\n",
    "    return sorted_results"
   ]
  },
  {
   "cell_type": "code",
   "execution_count": 140,
   "metadata": {
    "collapsed": false
   },
   "outputs": [
    {
     "name": "stdout",
     "output_type": "stream",
     "text": [
      "\n",
      "Top 151 from recall set of 28 items:\n",
      "\t1.64 - gyarados\n",
      "\t1.64 - lapras\n",
      "\t1.64 - vaporeon\n",
      "\t1.64 - squirtle\n",
      "\t1.64 - wartortle\n",
      "\t1.64 - blastoise\n",
      "\t1.64 - psyduck\n",
      "\t1.64 - golduck\n",
      "\t1.64 - poliwag\n",
      "\t1.64 - poliwhirl\n",
      "\t1.64 - poliwrath\n",
      "\t1.64 - tentacool\n",
      "\t1.64 - tentacruel\n",
      "\t1.64 - slowpoke\n",
      "\t1.64 - slowbro\n",
      "\t1.64 - seel\n",
      "\t1.64 - dewgong\n",
      "\t1.64 - shellder\n",
      "\t1.64 - cloyster\n",
      "\t1.64 - krabby\n",
      "\t1.64 - kingler\n",
      "\t1.64 - horsea\n",
      "\t1.64 - seadra\n",
      "\t1.64 - goldeen\n",
      "\t1.64 - seaking\n",
      "\t1.64 - staryu\n",
      "\t1.64 - starmie\n",
      "\t1.64 - magikarp\n"
     ]
    }
   ],
   "source": [
    "results = get_results_bm25('water', items_t2)\n",
    "print_results(results, 151)"
   ]
  },
  {
   "cell_type": "markdown",
   "metadata": {},
   "source": [
    "Here we tested it with different parameters."
   ]
  },
  {
   "cell_type": "code",
   "execution_count": 11,
   "metadata": {
    "collapsed": false
   },
   "outputs": [],
   "source": [
    "# results = get_results_bm25('water', items_t2, k1=1.5, b=0.75)\n",
    "\n",
    "# # Plot score vs item length\n",
    "# df = pd.DataFrame({'score':[float(x[0]) for x in results],\n",
    "#                    'length':[len(items_t2[x[1]].split()) for x in results]})\n",
    "# output_notebook()\n",
    "# p = Scatter(df, x='score', y='length')\n",
    "# show(p)"
   ]
  }
 ],
 "metadata": {
  "kernelspec": {
   "display_name": "Python 2",
   "language": "python",
   "name": "python2"
  }
 },
 "nbformat": 4,
 "nbformat_minor": 0
}
